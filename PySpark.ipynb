{
  "nbformat": 4,
  "nbformat_minor": 0,
  "metadata": {
    "colab": {
      "name": "PySpark.ipynb",
      "provenance": [],
      "authorship_tag": "ABX9TyM1Tv9FWmAJwVQoYLr/Pp8S",
      "include_colab_link": true
    },
    "kernelspec": {
      "name": "python3",
      "display_name": "Python 3"
    },
    "language_info": {
      "name": "python"
    }
  },
  "cells": [
    {
      "cell_type": "markdown",
      "metadata": {
        "id": "view-in-github",
        "colab_type": "text"
      },
      "source": [
        "<a href=\"https://colab.research.google.com/github/gunjanak/Data_Mining/blob/main/PySpark.ipynb\" target=\"_parent\"><img src=\"https://colab.research.google.com/assets/colab-badge.svg\" alt=\"Open In Colab\"/></a>"
      ]
    },
    {
      "cell_type": "markdown",
      "source": [
        "[source](https://www.guru99.com/pyspark-tutorial.html)"
      ],
      "metadata": {
        "id": "OTVzSmFUdyei"
      }
    },
    {
      "cell_type": "markdown",
      "source": [
        "[Read](https://towardsdatascience.com/logistic-regression-classifier-on-census-income-data-e1dbef0b5738)"
      ],
      "metadata": {
        "id": "DehrQsEES_ya"
      }
    },
    {
      "cell_type": "code",
      "source": [
        "Read"
      ],
      "metadata": {
        "id": "zSCnf35WS9n6"
      },
      "execution_count": null,
      "outputs": []
    },
    {
      "cell_type": "code",
      "source": [
        "!pip install pyspark"
      ],
      "metadata": {
        "colab": {
          "base_uri": "https://localhost:8080/"
        },
        "id": "Y_uylExhBxZX",
        "outputId": "7038b4f2-aa94-446f-c246-1f13677872ac"
      },
      "execution_count": null,
      "outputs": [
        {
          "output_type": "stream",
          "name": "stdout",
          "text": [
            "Collecting pyspark\n",
            "  Downloading pyspark-3.2.1.tar.gz (281.4 MB)\n",
            "\u001b[K     |████████████████████████████████| 281.4 MB 38 kB/s \n",
            "\u001b[?25hCollecting py4j==0.10.9.3\n",
            "  Downloading py4j-0.10.9.3-py2.py3-none-any.whl (198 kB)\n",
            "\u001b[K     |████████████████████████████████| 198 kB 47.7 MB/s \n",
            "\u001b[?25hBuilding wheels for collected packages: pyspark\n",
            "  Building wheel for pyspark (setup.py) ... \u001b[?25l\u001b[?25hdone\n",
            "  Created wheel for pyspark: filename=pyspark-3.2.1-py2.py3-none-any.whl size=281853642 sha256=a219075ee89e40e8d8959e7615a70090ba6845a301c320675bf671b1534802dd\n",
            "  Stored in directory: /root/.cache/pip/wheels/9f/f5/07/7cd8017084dce4e93e84e92efd1e1d5334db05f2e83bcef74f\n",
            "Successfully built pyspark\n",
            "Installing collected packages: py4j, pyspark\n",
            "Successfully installed py4j-0.10.9.3 pyspark-3.2.1\n"
          ]
        }
      ]
    },
    {
      "cell_type": "code",
      "execution_count": null,
      "metadata": {
        "id": "FifNldCKBgto"
      },
      "outputs": [],
      "source": [
        "import pyspark"
      ]
    },
    {
      "cell_type": "code",
      "source": [
        "from pyspark import SparkContext\n",
        "sc =SparkContext()"
      ],
      "metadata": {
        "id": "zfGmMHkJBlLe"
      },
      "execution_count": null,
      "outputs": []
    },
    {
      "cell_type": "code",
      "source": [
        "nums= sc.parallelize([1,2,3,4])"
      ],
      "metadata": {
        "id": "XnCY4VKrCIkJ"
      },
      "execution_count": null,
      "outputs": []
    },
    {
      "cell_type": "code",
      "source": [
        "nums.take(1)"
      ],
      "metadata": {
        "colab": {
          "base_uri": "https://localhost:8080/"
        },
        "id": "5CuwJvpvCQrb",
        "outputId": "33da4223-1d06-4b63-9621-5b2d4fac0018"
      },
      "execution_count": null,
      "outputs": [
        {
          "output_type": "execute_result",
          "data": {
            "text/plain": [
              "[1]"
            ]
          },
          "metadata": {},
          "execution_count": 6
        }
      ]
    },
    {
      "cell_type": "code",
      "source": [
        "nums.take(3)"
      ],
      "metadata": {
        "colab": {
          "base_uri": "https://localhost:8080/"
        },
        "id": "4qk2dn1mCVv8",
        "outputId": "56ddb85d-d504-4133-f418-ca0fd65dc021"
      },
      "execution_count": null,
      "outputs": [
        {
          "output_type": "execute_result",
          "data": {
            "text/plain": [
              "[1, 2, 3]"
            ]
          },
          "metadata": {},
          "execution_count": 10
        }
      ]
    },
    {
      "cell_type": "code",
      "source": [
        "squared = nums.map(lambda x: x*x).collect()\n"
      ],
      "metadata": {
        "id": "AFxoyXr7CYEC"
      },
      "execution_count": null,
      "outputs": []
    },
    {
      "cell_type": "code",
      "source": [
        "squared"
      ],
      "metadata": {
        "colab": {
          "base_uri": "https://localhost:8080/"
        },
        "id": "_mgCUU3MCmSf",
        "outputId": "6ccd65b8-ed4d-4bdb-9ede-c7d4296c0363"
      },
      "execution_count": null,
      "outputs": [
        {
          "output_type": "execute_result",
          "data": {
            "text/plain": [
              "[1, 4, 9, 16]"
            ]
          },
          "metadata": {},
          "execution_count": 12
        }
      ]
    },
    {
      "cell_type": "code",
      "source": [
        "from pyspark.sql import Row\n",
        "from pyspark.sql import SQLContext\n",
        "sqlContext = SQLContext(sc)"
      ],
      "metadata": {
        "colab": {
          "base_uri": "https://localhost:8080/"
        },
        "id": "l-qKNnFFCnIk",
        "outputId": "10e84924-3920-4ee6-a4c1-0a90a21d8bd3"
      },
      "execution_count": null,
      "outputs": [
        {
          "output_type": "stream",
          "name": "stderr",
          "text": [
            "/usr/local/lib/python3.7/dist-packages/pyspark/sql/context.py:79: FutureWarning: Deprecated in 3.0.0. Use SparkSession.builder.getOrCreate() instead.\n",
            "  FutureWarning\n"
          ]
        }
      ]
    },
    {
      "cell_type": "code",
      "source": [
        "list_p = [('John',19),('Smith',29),('Adam',35),('Henry',50)]"
      ],
      "metadata": {
        "id": "3w5Owvi5CuU0"
      },
      "execution_count": null,
      "outputs": []
    },
    {
      "cell_type": "code",
      "source": [
        "rdd = sc.parallelize(list_p)"
      ],
      "metadata": {
        "id": "KiJr78jcCzrJ"
      },
      "execution_count": null,
      "outputs": []
    },
    {
      "cell_type": "code",
      "source": [
        "output = rdd.map(lambda x: Row(name=x[0], age=int(x[1])))"
      ],
      "metadata": {
        "id": "nwoSxbclC9EQ"
      },
      "execution_count": null,
      "outputs": []
    },
    {
      "cell_type": "code",
      "source": [
        "\n",
        "list_p = [('John',19),('Smith',29),('Adam',35),('Henry',50)]\n",
        "rdd = sc.parallelize(list_p)\n",
        "ppl = rdd.map(lambda x: Row(name=x[0], age=int(x[1])))\n",
        "DF_ppl = sqlContext.createDataFrame(ppl)"
      ],
      "metadata": {
        "id": "8JmNRh3cDDAH"
      },
      "execution_count": null,
      "outputs": []
    },
    {
      "cell_type": "code",
      "source": [
        "DF_ppl.printSchema()"
      ],
      "metadata": {
        "colab": {
          "base_uri": "https://localhost:8080/"
        },
        "id": "kpI-pOcJDJf1",
        "outputId": "6b58fcce-2141-44eb-cbcb-3976f4b7637a"
      },
      "execution_count": null,
      "outputs": [
        {
          "output_type": "stream",
          "name": "stdout",
          "text": [
            "root\n",
            " |-- name: string (nullable = true)\n",
            " |-- age: long (nullable = true)\n",
            "\n"
          ]
        }
      ]
    },
    {
      "cell_type": "code",
      "source": [
        "#from pyspark.sql import SQLContext\n",
        "url = \"https://raw.githubusercontent.com/guru99-edu/R-Programming/master/adult_data.csv\"\n",
        "from pyspark import SparkFiles\n",
        "sc.addFile(url)\n",
        "sqlContext = SQLContext(sc)"
      ],
      "metadata": {
        "colab": {
          "base_uri": "https://localhost:8080/"
        },
        "id": "ZxmggxDKDoUP",
        "outputId": "4de1d2e6-1102-4a56-8de7-907bfd5262ae"
      },
      "execution_count": null,
      "outputs": [
        {
          "output_type": "stream",
          "name": "stderr",
          "text": [
            "/usr/local/lib/python3.7/dist-packages/pyspark/sql/context.py:79: FutureWarning: Deprecated in 3.0.0. Use SparkSession.builder.getOrCreate() instead.\n",
            "  FutureWarning\n"
          ]
        }
      ]
    },
    {
      "cell_type": "code",
      "source": [
        "df = sqlContext.read.csv(SparkFiles.get(\"adult_data.csv\"), header=True, inferSchema= True)"
      ],
      "metadata": {
        "id": "GqxC2u6QDxnR"
      },
      "execution_count": null,
      "outputs": []
    },
    {
      "cell_type": "code",
      "source": [
        "df.printSchema()"
      ],
      "metadata": {
        "colab": {
          "base_uri": "https://localhost:8080/"
        },
        "id": "DEqUQ6POD1g0",
        "outputId": "ae935089-3cee-4b23-e650-1e546f1298bd"
      },
      "execution_count": null,
      "outputs": [
        {
          "output_type": "stream",
          "name": "stdout",
          "text": [
            "root\n",
            " |-- x: integer (nullable = true)\n",
            " |-- age: integer (nullable = true)\n",
            " |-- workclass: string (nullable = true)\n",
            " |-- fnlwgt: integer (nullable = true)\n",
            " |-- education: string (nullable = true)\n",
            " |-- educational-num: integer (nullable = true)\n",
            " |-- marital-status: string (nullable = true)\n",
            " |-- occupation: string (nullable = true)\n",
            " |-- relationship: string (nullable = true)\n",
            " |-- race: string (nullable = true)\n",
            " |-- gender: string (nullable = true)\n",
            " |-- capital-gain: integer (nullable = true)\n",
            " |-- capital-loss: integer (nullable = true)\n",
            " |-- hours-per-week: integer (nullable = true)\n",
            " |-- native-country: string (nullable = true)\n",
            " |-- income: string (nullable = true)\n",
            "\n"
          ]
        }
      ]
    },
    {
      "cell_type": "code",
      "source": [
        "df.show(5, truncate = False)"
      ],
      "metadata": {
        "colab": {
          "base_uri": "https://localhost:8080/"
        },
        "id": "eafHIt9VD6aZ",
        "outputId": "02789387-f974-4a02-8fb6-cca7f5e01ccb"
      },
      "execution_count": null,
      "outputs": [
        {
          "output_type": "stream",
          "name": "stdout",
          "text": [
            "+---+---+---------+------+------------+---------------+------------------+-----------------+------------+-----+------+------------+------------+--------------+--------------+------+\n",
            "|x  |age|workclass|fnlwgt|education   |educational-num|marital-status    |occupation       |relationship|race |gender|capital-gain|capital-loss|hours-per-week|native-country|income|\n",
            "+---+---+---------+------+------------+---------------+------------------+-----------------+------------+-----+------+------------+------------+--------------+--------------+------+\n",
            "|1  |25 |Private  |226802|11th        |7              |Never-married     |Machine-op-inspct|Own-child   |Black|Male  |0           |0           |40            |United-States |<=50K |\n",
            "|2  |38 |Private  |89814 |HS-grad     |9              |Married-civ-spouse|Farming-fishing  |Husband     |White|Male  |0           |0           |50            |United-States |<=50K |\n",
            "|3  |28 |Local-gov|336951|Assoc-acdm  |12             |Married-civ-spouse|Protective-serv  |Husband     |White|Male  |0           |0           |40            |United-States |>50K  |\n",
            "|4  |44 |Private  |160323|Some-college|10             |Married-civ-spouse|Machine-op-inspct|Husband     |Black|Male  |7688        |0           |40            |United-States |>50K  |\n",
            "|5  |18 |?        |103497|Some-college|10             |Never-married     |?                |Own-child   |White|Female|0           |0           |30            |United-States |<=50K |\n",
            "+---+---+---------+------+------------+---------------+------------------+-----------------+------------+-----+------+------------+------------+--------------+--------------+------+\n",
            "only showing top 5 rows\n",
            "\n"
          ]
        }
      ]
    },
    {
      "cell_type": "markdown",
      "source": [
        "#Machine Learning Example with PySpark"
      ],
      "metadata": {
        "id": "HhX_l2tjK3to"
      }
    },
    {
      "cell_type": "markdown",
      "source": [
        "Step 1) Basic operation with PySpark\n",
        "\n",
        "Step 2) Data preprocessing\n",
        "\n",
        "Step 3) Build a data processing pipeline\n",
        "\n",
        "Step 4) Build the classifier: logistic\n",
        "\n",
        "Step 5) Train and evaluate the model\n",
        "\n",
        "Step 6) Tune the hyperparameter"
      ],
      "metadata": {
        "id": "RJqiyKA2K9YP"
      }
    },
    {
      "cell_type": "code",
      "source": [
        "from pyspark.sql import SQLContext\n",
        "url = \"https://raw.githubusercontent.com/guru99-edu/R-Programming/master/adult_data.csv\"\n",
        "from pyspark import SparkFiles\n",
        "sc.addFile(url)\n",
        "sqlContext = SQLContext(sc)"
      ],
      "metadata": {
        "colab": {
          "base_uri": "https://localhost:8080/"
        },
        "id": "HRT5h_iAECsu",
        "outputId": "1b8a2de3-af0a-4154-ab24-52517a76090b"
      },
      "execution_count": null,
      "outputs": [
        {
          "output_type": "stream",
          "name": "stderr",
          "text": [
            "/usr/local/lib/python3.7/dist-packages/pyspark/sql/context.py:79: FutureWarning: Deprecated in 3.0.0. Use SparkSession.builder.getOrCreate() instead.\n",
            "  FutureWarning\n"
          ]
        }
      ]
    },
    {
      "cell_type": "code",
      "source": [
        "#You use inferSchema set to True to tell Spark to guess automatically the type of data. By default, it is turn to False.\n",
        "df = sqlContext.read.csv(SparkFiles.get(\"adult_data.csv\"), header=True, inferSchema= True)"
      ],
      "metadata": {
        "id": "M5Oi3p0SLWMR"
      },
      "execution_count": null,
      "outputs": []
    },
    {
      "cell_type": "code",
      "source": [
        "df.printSchema()"
      ],
      "metadata": {
        "colab": {
          "base_uri": "https://localhost:8080/"
        },
        "id": "QapgXtIJLi3A",
        "outputId": "34297cda-5b14-48c9-b70e-a0c25793b323"
      },
      "execution_count": null,
      "outputs": [
        {
          "output_type": "stream",
          "name": "stdout",
          "text": [
            "root\n",
            " |-- x: integer (nullable = true)\n",
            " |-- age: integer (nullable = true)\n",
            " |-- workclass: string (nullable = true)\n",
            " |-- fnlwgt: integer (nullable = true)\n",
            " |-- education: string (nullable = true)\n",
            " |-- educational-num: integer (nullable = true)\n",
            " |-- marital-status: string (nullable = true)\n",
            " |-- occupation: string (nullable = true)\n",
            " |-- relationship: string (nullable = true)\n",
            " |-- race: string (nullable = true)\n",
            " |-- gender: string (nullable = true)\n",
            " |-- capital-gain: integer (nullable = true)\n",
            " |-- capital-loss: integer (nullable = true)\n",
            " |-- hours-per-week: integer (nullable = true)\n",
            " |-- native-country: string (nullable = true)\n",
            " |-- income: string (nullable = true)\n",
            "\n"
          ]
        }
      ]
    },
    {
      "cell_type": "code",
      "source": [
        "#You can see the data with show.\n",
        "df.show(5, truncate = False)"
      ],
      "metadata": {
        "colab": {
          "base_uri": "https://localhost:8080/"
        },
        "id": "97PcRMGsLtYI",
        "outputId": "a7512813-bf52-4615-c891-1d8323222a17"
      },
      "execution_count": null,
      "outputs": [
        {
          "output_type": "stream",
          "name": "stdout",
          "text": [
            "+---+---+---------+------+------------+---------------+------------------+-----------------+------------+-----+------+------------+------------+--------------+--------------+------+\n",
            "|x  |age|workclass|fnlwgt|education   |educational-num|marital-status    |occupation       |relationship|race |gender|capital-gain|capital-loss|hours-per-week|native-country|income|\n",
            "+---+---+---------+------+------------+---------------+------------------+-----------------+------------+-----+------+------------+------------+--------------+--------------+------+\n",
            "|1  |25 |Private  |226802|11th        |7              |Never-married     |Machine-op-inspct|Own-child   |Black|Male  |0           |0           |40            |United-States |<=50K |\n",
            "|2  |38 |Private  |89814 |HS-grad     |9              |Married-civ-spouse|Farming-fishing  |Husband     |White|Male  |0           |0           |50            |United-States |<=50K |\n",
            "|3  |28 |Local-gov|336951|Assoc-acdm  |12             |Married-civ-spouse|Protective-serv  |Husband     |White|Male  |0           |0           |40            |United-States |>50K  |\n",
            "|4  |44 |Private  |160323|Some-college|10             |Married-civ-spouse|Machine-op-inspct|Husband     |Black|Male  |7688        |0           |40            |United-States |>50K  |\n",
            "|5  |18 |?        |103497|Some-college|10             |Never-married     |?                |Own-child   |White|Female|0           |0           |30            |United-States |<=50K |\n",
            "+---+---+---------+------+------------+---------------+------------------+-----------------+------------+-----+------+------------+------------+--------------+--------------+------+\n",
            "only showing top 5 rows\n",
            "\n"
          ]
        }
      ]
    },
    {
      "cell_type": "code",
      "source": [
        "#To convert the continuous variable in the right format, you can use recast the columns. \n",
        "#You can use withColumn to tell Spark which column to operate the transformation.\n",
        "# Import all from `sql.types`\n",
        "from pyspark.sql.types import *\n",
        "\n",
        "# Write a custom function to convert the data type of DataFrame columns\n",
        "def convertColumn(df, names, newType):\n",
        "    for name in names: \n",
        "        df = df.withColumn(name, df[name].cast(newType))\n",
        "    return df \n",
        "# List of continuous features\n",
        "CONTI_FEATURES  = ['age', 'fnlwgt','capital-gain', 'educational-num', 'capital-loss', 'hours-per-week']\n",
        "# Convert the type\n",
        "df_string = convertColumn(df, CONTI_FEATURES, FloatType())\n",
        "# Check the dataset\n",
        "df_string.printSchema()"
      ],
      "metadata": {
        "colab": {
          "base_uri": "https://localhost:8080/"
        },
        "id": "T6PHUzA9L1DU",
        "outputId": "d1843f9c-abe1-4db6-cad1-9e00442ac073"
      },
      "execution_count": null,
      "outputs": [
        {
          "output_type": "stream",
          "name": "stdout",
          "text": [
            "root\n",
            " |-- x: integer (nullable = true)\n",
            " |-- age: float (nullable = true)\n",
            " |-- workclass: string (nullable = true)\n",
            " |-- fnlwgt: float (nullable = true)\n",
            " |-- education: string (nullable = true)\n",
            " |-- educational-num: float (nullable = true)\n",
            " |-- marital-status: string (nullable = true)\n",
            " |-- occupation: string (nullable = true)\n",
            " |-- relationship: string (nullable = true)\n",
            " |-- race: string (nullable = true)\n",
            " |-- gender: string (nullable = true)\n",
            " |-- capital-gain: float (nullable = true)\n",
            " |-- capital-loss: float (nullable = true)\n",
            " |-- hours-per-week: float (nullable = true)\n",
            " |-- native-country: string (nullable = true)\n",
            " |-- income: string (nullable = true)\n",
            "\n"
          ]
        }
      ]
    },
    {
      "cell_type": "code",
      "source": [
        "#Select columns\n",
        "df.select('age','fnlwgt').show(5)"
      ],
      "metadata": {
        "colab": {
          "base_uri": "https://localhost:8080/"
        },
        "id": "AV7j7S9GMb7W",
        "outputId": "f5df4c56-a960-43fb-8224-aaf63754aad7"
      },
      "execution_count": null,
      "outputs": [
        {
          "output_type": "stream",
          "name": "stdout",
          "text": [
            "+---+------+\n",
            "|age|fnlwgt|\n",
            "+---+------+\n",
            "| 25|226802|\n",
            "| 38| 89814|\n",
            "| 28|336951|\n",
            "| 44|160323|\n",
            "| 18|103497|\n",
            "+---+------+\n",
            "only showing top 5 rows\n",
            "\n"
          ]
        }
      ]
    },
    {
      "cell_type": "markdown",
      "source": [
        "#Count by group"
      ],
      "metadata": {
        "id": "bo8fJTWsMuDZ"
      }
    },
    {
      "cell_type": "code",
      "source": [
        "df.groupBy(\"education\").count().sort(\"count\",ascending=True).show()"
      ],
      "metadata": {
        "colab": {
          "base_uri": "https://localhost:8080/"
        },
        "id": "mPWI9WD7Mh2F",
        "outputId": "66a50dec-1a65-45ae-b7d6-00ca38ea7aa2"
      },
      "execution_count": null,
      "outputs": [
        {
          "output_type": "stream",
          "name": "stdout",
          "text": [
            "+------------+-----+\n",
            "|   education|count|\n",
            "+------------+-----+\n",
            "|   Preschool|   83|\n",
            "|     1st-4th|  247|\n",
            "|     5th-6th|  509|\n",
            "|   Doctorate|  594|\n",
            "|        12th|  657|\n",
            "|         9th|  756|\n",
            "| Prof-school|  834|\n",
            "|     7th-8th|  955|\n",
            "|        10th| 1389|\n",
            "|  Assoc-acdm| 1601|\n",
            "|        11th| 1812|\n",
            "|   Assoc-voc| 2061|\n",
            "|     Masters| 2657|\n",
            "|   Bachelors| 8025|\n",
            "|Some-college|10878|\n",
            "|     HS-grad|15784|\n",
            "+------------+-----+\n",
            "\n"
          ]
        }
      ]
    },
    {
      "cell_type": "markdown",
      "source": [
        "#Describe the data"
      ],
      "metadata": {
        "id": "PcuK7RzuM3Ye"
      }
    },
    {
      "cell_type": "code",
      "source": [
        "df.describe().show()"
      ],
      "metadata": {
        "colab": {
          "base_uri": "https://localhost:8080/"
        },
        "id": "I5QpL5qtMzKF",
        "outputId": "8752e211-99b9-4e1c-a48c-efe3a2a674f5"
      },
      "execution_count": null,
      "outputs": [
        {
          "output_type": "stream",
          "name": "stdout",
          "text": [
            "+-------+------------------+------------------+-----------+------------------+------------+------------------+--------------+----------------+------------+------------------+------+------------------+-----------------+------------------+--------------+------+\n",
            "|summary|                 x|               age|  workclass|            fnlwgt|   education|   educational-num|marital-status|      occupation|relationship|              race|gender|      capital-gain|     capital-loss|    hours-per-week|native-country|income|\n",
            "+-------+------------------+------------------+-----------+------------------+------------+------------------+--------------+----------------+------------+------------------+------+------------------+-----------------+------------------+--------------+------+\n",
            "|  count|             48842|             48842|      48842|             48842|       48842|             48842|         48842|           48842|       48842|             48842| 48842|             48842|            48842|             48842|         48842| 48842|\n",
            "|   mean|           24421.5| 38.64358543876172|       null|189664.13459727284|        null|10.078088530363212|          null|            null|        null|              null|  null|1079.0676262233324|87.50231358257237|40.422382375824085|          null|  null|\n",
            "| stddev|14099.615260708357|13.710509934443502|       null|105604.02542315757|        null| 2.570972755592252|          null|            null|        null|              null|  null| 7452.019057655413|403.0045521243591|12.391444024252289|          null|  null|\n",
            "|    min|                 1|                17|          ?|             12285|        10th|                 1|      Divorced|               ?|     Husband|Amer-Indian-Eskimo|Female|                 0|                0|                 1|             ?| <=50K|\n",
            "|    max|             48842|                90|Without-pay|           1490400|Some-college|                16|       Widowed|Transport-moving|        Wife|             White|  Male|             99999|             4356|                99|    Yugoslavia|  >50K|\n",
            "+-------+------------------+------------------+-----------+------------------+------------+------------------+--------------+----------------+------------+------------------+------+------------------+-----------------+------------------+--------------+------+\n",
            "\n"
          ]
        }
      ]
    },
    {
      "cell_type": "code",
      "source": [
        "#If you want the summary statistic of only one column, add the name of the column inside describe()\n",
        "df.describe('capital-gain').show()"
      ],
      "metadata": {
        "colab": {
          "base_uri": "https://localhost:8080/"
        },
        "id": "PZO0wEYSM619",
        "outputId": "db7a5a40-e5ac-4fed-8bea-cd1a9ab53e93"
      },
      "execution_count": null,
      "outputs": [
        {
          "output_type": "stream",
          "name": "stdout",
          "text": [
            "+-------+------------------+\n",
            "|summary|      capital-gain|\n",
            "+-------+------------------+\n",
            "|  count|             48842|\n",
            "|   mean|1079.0676262233324|\n",
            "| stddev| 7452.019057655413|\n",
            "|    min|                 0|\n",
            "|    max|             99999|\n",
            "+-------+------------------+\n",
            "\n"
          ]
        }
      ]
    },
    {
      "cell_type": "markdown",
      "source": [
        "#Crosstab computation"
      ],
      "metadata": {
        "id": "F7zfW_PfVG7-"
      }
    },
    {
      "cell_type": "code",
      "source": [
        "#In some occasion, it can be interesting to see the descriptive statistics between two pairwise columns.\n",
        "# For instance, you can count the number of people with income below or above 50k by education level. \n",
        "#This operation is called a crosstab.\n",
        "df.crosstab('age', 'income').sort(\"age_income\").show()"
      ],
      "metadata": {
        "colab": {
          "base_uri": "https://localhost:8080/"
        },
        "id": "WXePohn-U5g7",
        "outputId": "098372d0-89cd-4631-d6bc-a4cf332f4622"
      },
      "execution_count": null,
      "outputs": [
        {
          "output_type": "stream",
          "name": "stdout",
          "text": [
            "+----------+-----+----+\n",
            "|age_income|<=50K|>50K|\n",
            "+----------+-----+----+\n",
            "|        17|  595|   0|\n",
            "|        18|  862|   0|\n",
            "|        19| 1050|   3|\n",
            "|        20| 1112|   1|\n",
            "|        21| 1090|   6|\n",
            "|        22| 1161|  17|\n",
            "|        23| 1307|  22|\n",
            "|        24| 1162|  44|\n",
            "|        25| 1119|  76|\n",
            "|        26| 1068|  85|\n",
            "|        27| 1117| 115|\n",
            "|        28| 1101| 179|\n",
            "|        29| 1025| 198|\n",
            "|        30| 1031| 247|\n",
            "|        31| 1050| 275|\n",
            "|        32|  957| 296|\n",
            "|        33| 1045| 290|\n",
            "|        34|  949| 354|\n",
            "|        35|  997| 340|\n",
            "|        36|  948| 400|\n",
            "+----------+-----+----+\n",
            "only showing top 20 rows\n",
            "\n"
          ]
        }
      ]
    },
    {
      "cell_type": "markdown",
      "source": [
        "#Step 2) Data preprocessing"
      ],
      "metadata": {
        "id": "sFuCJLFqWkGc"
      }
    },
    {
      "cell_type": "code",
      "source": [
        "#Add age square\n",
        "\n",
        "#To add a new feature, you need to:\n",
        "\n",
        "#Select the column\n",
        "#Apply the transformation and add it to the DataFrame\n",
        "\n",
        "from pyspark.sql.functions import *\n",
        "\n",
        "# 1 Select the column\n",
        "age_square = df.select(col(\"age\")**2)\n",
        "\n",
        "# 2 Apply the transformation and add it to the DataFrame\n",
        "df = df.withColumn(\"age_square\", col(\"age\")**2)\n",
        "\n",
        "df.printSchema()"
      ],
      "metadata": {
        "colab": {
          "base_uri": "https://localhost:8080/"
        },
        "id": "PyRuIf8AVQGQ",
        "outputId": "25cbac08-5344-42d9-8568-42c6b46d3585"
      },
      "execution_count": null,
      "outputs": [
        {
          "output_type": "stream",
          "name": "stdout",
          "text": [
            "root\n",
            " |-- x: integer (nullable = true)\n",
            " |-- age: integer (nullable = true)\n",
            " |-- workclass: string (nullable = true)\n",
            " |-- fnlwgt: integer (nullable = true)\n",
            " |-- education: string (nullable = true)\n",
            " |-- educational-num: integer (nullable = true)\n",
            " |-- marital-status: string (nullable = true)\n",
            " |-- occupation: string (nullable = true)\n",
            " |-- relationship: string (nullable = true)\n",
            " |-- race: string (nullable = true)\n",
            " |-- gender: string (nullable = true)\n",
            " |-- capital-gain: integer (nullable = true)\n",
            " |-- capital-loss: integer (nullable = true)\n",
            " |-- hours-per-week: integer (nullable = true)\n",
            " |-- native-country: string (nullable = true)\n",
            " |-- income: string (nullable = true)\n",
            " |-- age_square: double (nullable = true)\n",
            "\n"
          ]
        }
      ]
    },
    {
      "cell_type": "code",
      "source": [
        "#You can change the order of the variables with select. Below, you bring age_square right after age.\n",
        "COLUMNS = ['age', 'age_square', 'workclass', 'fnlwgt', 'education', 'educational-num', 'marital-status',\n",
        "           'occupation', 'relationship', 'race', 'gender', 'capital-gain', 'capital-loss',\n",
        "           'hours-per-week', 'native-country', 'income']\n",
        "df = df.select(COLUMNS)\n",
        "df.first()"
      ],
      "metadata": {
        "colab": {
          "base_uri": "https://localhost:8080/"
        },
        "id": "aPwOP4t5MCfM",
        "outputId": "e54053f0-ce74-4317-e53a-f7a900a9c983"
      },
      "execution_count": null,
      "outputs": [
        {
          "output_type": "execute_result",
          "data": {
            "text/plain": [
              "Row(age=25, age_square=625.0, workclass='Private', fnlwgt=226802, education='11th', educational-num=7, marital-status='Never-married', occupation='Machine-op-inspct', relationship='Own-child', race='Black', gender='Male', capital-gain=0, capital-loss=0, hours-per-week=40, native-country='United-States', income='<=50K')"
            ]
          },
          "metadata": {},
          "execution_count": 58
        }
      ]
    },
    {
      "cell_type": "code",
      "source": [
        "#When a group within a feature has only one observation, it brings no information to the model.\n",
        "# On the contrary, it can lead to an error during the cross-validation.\n",
        "df.filter(df['native-country'] == 'Holand-Netherlands').count()\n",
        "df.groupby('native-country').agg({'native-country': 'count'}).sort(asc(\"count(native-country)\")).show()"
      ],
      "metadata": {
        "colab": {
          "base_uri": "https://localhost:8080/"
        },
        "id": "c5YuX8IoXl4-",
        "outputId": "1ba56c21-0179-4bca-d8dc-1bac121067d2"
      },
      "execution_count": null,
      "outputs": [
        {
          "output_type": "stream",
          "name": "stdout",
          "text": [
            "+--------------------+---------------------+\n",
            "|      native-country|count(native-country)|\n",
            "+--------------------+---------------------+\n",
            "|  Holand-Netherlands|                    1|\n",
            "|             Hungary|                   19|\n",
            "|            Honduras|                   20|\n",
            "|            Scotland|                   21|\n",
            "|          Yugoslavia|                   23|\n",
            "|Outlying-US(Guam-...|                   23|\n",
            "|                Laos|                   23|\n",
            "|     Trinadad&Tobago|                   27|\n",
            "|            Cambodia|                   28|\n",
            "|                Hong|                   30|\n",
            "|            Thailand|                   30|\n",
            "|             Ireland|                   37|\n",
            "|              France|                   38|\n",
            "|             Ecuador|                   45|\n",
            "|                Peru|                   46|\n",
            "|              Greece|                   49|\n",
            "|           Nicaragua|                   49|\n",
            "|                Iran|                   59|\n",
            "|              Taiwan|                   65|\n",
            "|            Portugal|                   67|\n",
            "+--------------------+---------------------+\n",
            "only showing top 20 rows\n",
            "\n"
          ]
        }
      ]
    },
    {
      "cell_type": "code",
      "source": [
        "#The feature native_country has only one household coming from Netherland. You exclude it.\n",
        "df_remove = df.filter(df['native-country'] !=\t'Holand-Netherlands')"
      ],
      "metadata": {
        "id": "yMmKT5CaYDZl"
      },
      "execution_count": null,
      "outputs": []
    },
    {
      "cell_type": "code",
      "source": [
        "df_remove"
      ],
      "metadata": {
        "colab": {
          "base_uri": "https://localhost:8080/"
        },
        "id": "-q-UQQWicj_L",
        "outputId": "a50ee2f8-4045-4e03-cfd5-fe1aa20084b8"
      },
      "execution_count": null,
      "outputs": [
        {
          "output_type": "execute_result",
          "data": {
            "text/plain": [
              "DataFrame[age: int, age_square: double, workclass: string, fnlwgt: int, education: string, educational-num: int, marital-status: string, occupation: string, relationship: string, race: string, gender: string, capital-gain: int, capital-loss: int, hours-per-week: int, native-country: string, income: string]"
            ]
          },
          "metadata": {},
          "execution_count": 103
        }
      ]
    },
    {
      "cell_type": "markdown",
      "source": [
        "#Step 3) Build a data processing pipeline"
      ],
      "metadata": {
        "id": "5d6O9oVhYot_"
      }
    },
    {
      "cell_type": "code",
      "source": [
        "### Example encoder\n",
        "from pyspark.ml.feature import StringIndexer, OneHotEncoder, VectorAssembler\n",
        "\n",
        "stringIndexer = StringIndexer(inputCol=\"workclass\", outputCol=\"workclass_encoded\")\n",
        "model = stringIndexer.fit(df)\n",
        "indexed = model.transform(df)\n",
        "encoder = OneHotEncoder(dropLast=False, inputCol=\"workclass_encoded\", outputCol=\"workclass_vec\")\n",
        "ohe = encoder.fit(indexed)\n",
        "encoded = ohe.transform(indexed)\n",
        "encoded.show(2)"
      ],
      "metadata": {
        "colab": {
          "base_uri": "https://localhost:8080/"
        },
        "id": "5n4zeNBPZcLo",
        "outputId": "7d3adef6-c31f-44bc-d767-678206ccc3a6"
      },
      "execution_count": null,
      "outputs": [
        {
          "output_type": "stream",
          "name": "stdout",
          "text": [
            "+---+----------+---------+------+---------+---------------+------------------+-----------------+------------+-----+------+------------+------------+--------------+--------------+------+-----------------+-------------+\n",
            "|age|age_square|workclass|fnlwgt|education|educational-num|    marital-status|       occupation|relationship| race|gender|capital-gain|capital-loss|hours-per-week|native-country|income|workclass_encoded|workclass_vec|\n",
            "+---+----------+---------+------+---------+---------------+------------------+-----------------+------------+-----+------+------------+------------+--------------+--------------+------+-----------------+-------------+\n",
            "| 25|     625.0|  Private|226802|     11th|              7|     Never-married|Machine-op-inspct|   Own-child|Black|  Male|           0|           0|            40| United-States| <=50K|              0.0|(9,[0],[1.0])|\n",
            "| 38|    1444.0|  Private| 89814|  HS-grad|              9|Married-civ-spouse|  Farming-fishing|     Husband|White|  Male|           0|           0|            50| United-States| <=50K|              0.0|(9,[0],[1.0])|\n",
            "+---+----------+---------+------+---------+---------------+------------------+-----------------+------------+-----+------+------------+------------+--------------+--------------+------+-----------------+-------------+\n",
            "only showing top 2 rows\n",
            "\n"
          ]
        }
      ]
    },
    {
      "cell_type": "markdown",
      "source": [
        "#1. Encode the categorical data"
      ],
      "metadata": {
        "id": "_apSuSfYaZ7a"
      }
    },
    {
      "cell_type": "code",
      "source": [
        "from pyspark.ml import Pipeline\n",
        "from pyspark.ml.feature import OneHotEncoder\n",
        "CATE_FEATURES = ['workclass', 'education', 'marital-status', 'occupation', 'relationship', 'race', 'gender', 'native-country']\n",
        "stages = [] # stages in our Pipeline\n",
        "for categoricalCol in CATE_FEATURES:\n",
        "    stringIndexer = StringIndexer(inputCol=categoricalCol, outputCol=categoricalCol + \"Index\")\n",
        "    encoder = OneHotEncoder(inputCols=[stringIndexer.getOutputCol()],\n",
        "                                     outputCols=[categoricalCol + \"classVec\"])\n",
        "    stages += [stringIndexer, encoder]"
      ],
      "metadata": {
        "id": "5rcjlhNdZnS_"
      },
      "execution_count": null,
      "outputs": []
    },
    {
      "cell_type": "code",
      "source": [
        "# Convert label into label indices using the StringIndexer\n",
        "label_stringIdx =  StringIndexer(inputCol=\"income\", outputCol=\"newlabel\")\n",
        "stages += [label_stringIdx]"
      ],
      "metadata": {
        "id": "JqlhhLlaadbt"
      },
      "execution_count": null,
      "outputs": []
    },
    {
      "cell_type": "code",
      "source": [
        "assemblerInputs = [c + \"classVec\" for c in CATE_FEATURES] + CONTI_FEATURES"
      ],
      "metadata": {
        "id": "jb12e9VLav9V"
      },
      "execution_count": null,
      "outputs": []
    },
    {
      "cell_type": "code",
      "source": [
        "assembler = VectorAssembler(inputCols=assemblerInputs, outputCol=\"features\")\n",
        "stages += [assembler]"
      ],
      "metadata": {
        "id": "QRIeW5zLa0Dt"
      },
      "execution_count": null,
      "outputs": []
    },
    {
      "cell_type": "code",
      "source": [
        "# Create a Pipeline.\n",
        "pipeline = Pipeline(stages=stages)\n",
        "pipelineModel = pipeline.fit(df_remove)\n",
        "model = pipelineModel.transform(df_remove)"
      ],
      "metadata": {
        "id": "TMA8vCofa439"
      },
      "execution_count": null,
      "outputs": []
    },
    {
      "cell_type": "code",
      "source": [
        "model.take(1)"
      ],
      "metadata": {
        "colab": {
          "base_uri": "https://localhost:8080/"
        },
        "id": "A_wIs7qgbHaj",
        "outputId": "ce151f4a-d573-45a6-d8e4-94bae925b1c6"
      },
      "execution_count": null,
      "outputs": [
        {
          "output_type": "execute_result",
          "data": {
            "text/plain": [
              "[Row(age=25, age_square=625.0, workclass='Private', fnlwgt=226802, education='11th', educational-num=7, marital-status='Never-married', occupation='Machine-op-inspct', relationship='Own-child', race='Black', gender='Male', capital-gain=0, capital-loss=0, hours-per-week=40, native-country='United-States', income='<=50K', workclassIndex=0.0, workclassclassVec=SparseVector(8, {0: 1.0}), educationIndex=5.0, educationclassVec=SparseVector(15, {5: 1.0}), marital-statusIndex=1.0, marital-statusclassVec=SparseVector(6, {1: 1.0}), occupationIndex=6.0, occupationclassVec=SparseVector(14, {6: 1.0}), relationshipIndex=2.0, relationshipclassVec=SparseVector(5, {2: 1.0}), raceIndex=1.0, raceclassVec=SparseVector(4, {1: 1.0}), genderIndex=0.0, genderclassVec=SparseVector(1, {0: 1.0}), native-countryIndex=0.0, native-countryclassVec=SparseVector(40, {0: 1.0}), newlabel=0.0, features=SparseVector(99, {0: 1.0, 13: 1.0, 24: 1.0, 35: 1.0, 45: 1.0, 49: 1.0, 52: 1.0, 53: 1.0, 93: 25.0, 94: 226802.0, 96: 7.0, 98: 40.0}))]"
            ]
          },
          "metadata": {},
          "execution_count": 109
        }
      ]
    },
    {
      "cell_type": "markdown",
      "source": [
        "#Step 4) Build the classifier: logistic"
      ],
      "metadata": {
        "id": "F2D6bmTfd6V-"
      }
    },
    {
      "cell_type": "code",
      "source": [
        "from pyspark.ml.linalg import DenseVector\n",
        "input_data = model.rdd.map(lambda x: (x[\"newlabel\"], DenseVector(x[\"features\"])))"
      ],
      "metadata": {
        "id": "M21X0890dqhP"
      },
      "execution_count": null,
      "outputs": []
    },
    {
      "cell_type": "code",
      "source": [
        "df_train = sqlContext.createDataFrame(input_data, [\"label\", \"features\"])"
      ],
      "metadata": {
        "id": "-XONSW4yeA6w"
      },
      "execution_count": null,
      "outputs": []
    },
    {
      "cell_type": "code",
      "source": [
        "df_train.show(2)"
      ],
      "metadata": {
        "colab": {
          "base_uri": "https://localhost:8080/"
        },
        "id": "OgCbcwfieOHi",
        "outputId": "4a8b1d9c-0840-453b-ede1-47ea6287d4e6"
      },
      "execution_count": null,
      "outputs": [
        {
          "output_type": "stream",
          "name": "stdout",
          "text": [
            "+-----+--------------------+\n",
            "|label|            features|\n",
            "+-----+--------------------+\n",
            "|  0.0|[1.0,0.0,0.0,0.0,...|\n",
            "|  0.0|[1.0,0.0,0.0,0.0,...|\n",
            "+-----+--------------------+\n",
            "only showing top 2 rows\n",
            "\n"
          ]
        }
      ]
    },
    {
      "cell_type": "code",
      "source": [
        "# Split the data into train and test sets\n",
        "train_data, test_data = df_train.randomSplit([.8,.2],seed=1234)"
      ],
      "metadata": {
        "id": "nDwKVD62eQUc"
      },
      "execution_count": null,
      "outputs": []
    },
    {
      "cell_type": "code",
      "source": [
        "train_data.groupby('label').agg({'label': 'count'}).show()"
      ],
      "metadata": {
        "colab": {
          "base_uri": "https://localhost:8080/"
        },
        "id": "vGdcNEF9eUZE",
        "outputId": "efe7305c-4726-4b2c-c347-cf926885cbc5"
      },
      "execution_count": null,
      "outputs": [
        {
          "output_type": "stream",
          "name": "stdout",
          "text": [
            "+-----+------------+\n",
            "|label|count(label)|\n",
            "+-----+------------+\n",
            "|  0.0|       29701|\n",
            "|  1.0|        9345|\n",
            "+-----+------------+\n",
            "\n"
          ]
        }
      ]
    },
    {
      "cell_type": "code",
      "source": [
        "test_data.groupby('label').agg({'label': 'count'}).show()"
      ],
      "metadata": {
        "colab": {
          "base_uri": "https://localhost:8080/"
        },
        "id": "1GlJJVOEeZRn",
        "outputId": "f30b11f3-8928-4a4b-9962-1644d6f6e9a0"
      },
      "execution_count": null,
      "outputs": [
        {
          "output_type": "stream",
          "name": "stdout",
          "text": [
            "+-----+------------+\n",
            "|label|count(label)|\n",
            "+-----+------------+\n",
            "|  0.0|        7453|\n",
            "|  1.0|        2342|\n",
            "+-----+------------+\n",
            "\n"
          ]
        }
      ]
    },
    {
      "cell_type": "markdown",
      "source": [
        "#Build the logistic regressor"
      ],
      "metadata": {
        "id": "FimZfahXfDGg"
      }
    },
    {
      "cell_type": "code",
      "source": [
        "# Import `LinearRegression`\n",
        "from pyspark.ml.classification import LogisticRegression\n",
        "\n",
        "# Initialize `lr`\n",
        "lr = LogisticRegression(labelCol=\"label\",\n",
        "                        featuresCol=\"features\",\n",
        "                        maxIter=10,\n",
        "                        regParam=0.3)\n",
        "\n",
        "# Fit the data to the model\n",
        "linearModel = lr.fit(train_data)"
      ],
      "metadata": {
        "id": "moX4dIVLexEI"
      },
      "execution_count": null,
      "outputs": []
    },
    {
      "cell_type": "code",
      "source": [
        "# Print the coefficients and intercept for logistic regression\n",
        "print(\"Coefficients: \" + str(linearModel.coefficients))\n",
        "print(\"Intercept: \" + str(linearModel.intercept))"
      ],
      "metadata": {
        "colab": {
          "base_uri": "https://localhost:8080/"
        },
        "id": "g2tb8GhPfIFY",
        "outputId": "293cd7f9-ff88-47cb-a364-29680198a1be"
      },
      "execution_count": null,
      "outputs": [
        {
          "output_type": "stream",
          "name": "stdout",
          "text": [
            "Coefficients: [-0.01214505924991046,-0.06823860934764871,0.02590973176806412,-0.15292515783828683,-0.044840458857517224,0.27970562888971845,0.24647580835764304,-0.4560424712738613,-0.1365223031970391,-0.03315220059099741,0.22625745712162823,0.3701547467909734,0.0037020958989733704,-0.22829460750030028,0.019811878548210746,-0.23459262516102183,-0.2607630592044288,0.5250358407234751,-0.23543784877427493,-0.19113553874878203,0.5107503253509824,-0.22817086177572463,-0.2610155931858554,0.411606905887486,-0.31119334767374346,-0.18014793011827138,-0.18777770284996675,-0.15923275299794762,-0.15174412850202196,0.24989942019871186,-0.03146648002530881,0.33886264346132794,-0.09526103834724899,0.06129512879112693,-0.25564705012497235,-0.16869242642823615,-0.15344218378465108,-0.06958149377296703,-0.2180335954061276,-0.2754137819908856,0.10549640739397056,0.11078385575328129,-0.22011813710286274,0.3434580549808888,-0.19388305268234202,-0.27958466874037746,-0.2138644021840045,0.4479481504436871,0.08266063744191232,-0.09531545087539817,0.021102518841867746,-0.13716035306860755,0.18470417478812573,0.06502365577568972,-0.2440797873421412,-0.008616558367507675,0.12934236080379014,0.050404707622375436,-0.12368634936256391,0.1749344392241055,-0.141613786148262,0.09275816076150153,-0.05279970244569329,0.17602868472075686,-0.04968940279856428,-0.12543845657689082,-0.012887808017863583,0.09689321063735595,-0.21058907263867757,0.13352718418824877,-0.1852965092256719,-0.05635127472698804,-0.25640530857992394,-0.33594782591903377,-0.1429081014402963,-0.03827836326640114,-0.009126263773042978,0.0542310703010979,-0.039992930823341245,-0.2556720723066337,-0.21284573875636298,-0.1463868714392135,0.33005095071498636,0.25621039920430877,-0.03638901231404383,-0.1345810224784592,0.30428046329906583,-0.22939109038226324,-0.19622960981112475,-0.36717891805720254,0.1472098479259962,-0.2718934731486262,-0.10720783699668725,0.008217865932492048,1.2568564369644272e-07,1.880747942064527e-05,0.06288286270452009,0.0002126609986259801,0.009297531057421636]\n",
            "Intercept: -3.1023313741665164\n"
          ]
        }
      ]
    },
    {
      "cell_type": "markdown",
      "source": [
        "#Step 5) Train and evaluate the model"
      ],
      "metadata": {
        "id": "xx6bd_yrfvPc"
      }
    },
    {
      "cell_type": "code",
      "source": [
        "# Make predictions on test data using the transform() method.\n",
        "predictions = linearModel.transform(test_data)"
      ],
      "metadata": {
        "id": "ZtLrsvpDfsE5"
      },
      "execution_count": null,
      "outputs": []
    },
    {
      "cell_type": "code",
      "source": [
        "predictions.printSchema()"
      ],
      "metadata": {
        "colab": {
          "base_uri": "https://localhost:8080/"
        },
        "id": "cdEieGBCfzJq",
        "outputId": "51ea8168-fcb1-4cd3-cc5f-ef28bdffeedc"
      },
      "execution_count": null,
      "outputs": [
        {
          "output_type": "stream",
          "name": "stdout",
          "text": [
            "root\n",
            " |-- label: double (nullable = true)\n",
            " |-- features: vector (nullable = true)\n",
            " |-- rawPrediction: vector (nullable = true)\n",
            " |-- probability: vector (nullable = true)\n",
            " |-- prediction: double (nullable = false)\n",
            "\n"
          ]
        }
      ]
    },
    {
      "cell_type": "code",
      "source": [
        "#You are interested by the label, prediction and the probability\n",
        "selected = predictions.select(\"label\", \"prediction\", \"probability\")\n",
        "selected.show(20)"
      ],
      "metadata": {
        "colab": {
          "base_uri": "https://localhost:8080/"
        },
        "id": "cVn5BMuCf17P",
        "outputId": "5de31cb0-7c47-4531-b35d-ae0e0c5ee5a5"
      },
      "execution_count": null,
      "outputs": [
        {
          "output_type": "stream",
          "name": "stdout",
          "text": [
            "+-----+----------+--------------------+\n",
            "|label|prediction|         probability|\n",
            "+-----+----------+--------------------+\n",
            "|  0.0|       0.0|[0.94897211752093...|\n",
            "|  0.0|       0.0|[0.96181340180899...|\n",
            "|  0.0|       0.0|[0.81544680161191...|\n",
            "|  0.0|       0.0|[0.93838588013706...|\n",
            "|  0.0|       0.0|[0.55062963693331...|\n",
            "|  0.0|       1.0|[0.28223281796724...|\n",
            "|  0.0|       1.0|[0.34214769708732...|\n",
            "|  0.0|       0.0|[0.92861466273695...|\n",
            "|  0.0|       1.0|[0.41427127276005...|\n",
            "|  0.0|       1.0|[0.31821655911344...|\n",
            "|  0.0|       0.0|[0.91805481465498...|\n",
            "|  0.0|       0.0|[0.87671197102811...|\n",
            "|  0.0|       0.0|[0.86521764677453...|\n",
            "|  0.0|       0.0|[0.94658924875362...|\n",
            "|  0.0|       0.0|[0.67979060749181...|\n",
            "|  0.0|       0.0|[0.78793006516059...|\n",
            "|  0.0|       0.0|[0.85662515535784...|\n",
            "|  0.0|       0.0|[0.84317330097427...|\n",
            "|  0.0|       0.0|[0.84126323762299...|\n",
            "|  0.0|       0.0|[0.86178242748983...|\n",
            "+-----+----------+--------------------+\n",
            "only showing top 20 rows\n",
            "\n"
          ]
        }
      ]
    },
    {
      "cell_type": "markdown",
      "source": [
        "#Evaluate the model"
      ],
      "metadata": {
        "id": "uYnb1hX7gbOo"
      }
    },
    {
      "cell_type": "code",
      "source": [
        "cm = predictions.select(\"label\", \"prediction\")"
      ],
      "metadata": {
        "id": "RgbJ-NBWf8yi"
      },
      "execution_count": null,
      "outputs": []
    },
    {
      "cell_type": "code",
      "source": [
        "cm.groupby('label').agg({'label': 'count'}).show()"
      ],
      "metadata": {
        "colab": {
          "base_uri": "https://localhost:8080/"
        },
        "id": "OA3hUs5LgfpY",
        "outputId": "a56493ce-2406-487b-a757-b8300e41cbcf"
      },
      "execution_count": null,
      "outputs": [
        {
          "output_type": "stream",
          "name": "stdout",
          "text": [
            "+-----+------------+\n",
            "|label|count(label)|\n",
            "+-----+------------+\n",
            "|  0.0|        7453|\n",
            "|  1.0|        2342|\n",
            "+-----+------------+\n",
            "\n"
          ]
        }
      ]
    },
    {
      "cell_type": "code",
      "source": [
        "cm.groupby('prediction').agg({'prediction': 'count'}).show()"
      ],
      "metadata": {
        "colab": {
          "base_uri": "https://localhost:8080/"
        },
        "id": "bAd33XG8giwl",
        "outputId": "1eb6d102-3a7a-49eb-92d7-fff8312b7eed"
      },
      "execution_count": null,
      "outputs": [
        {
          "output_type": "stream",
          "name": "stdout",
          "text": [
            "+----------+-----------------+\n",
            "|prediction|count(prediction)|\n",
            "+----------+-----------------+\n",
            "|       0.0|             8768|\n",
            "|       1.0|             1027|\n",
            "+----------+-----------------+\n",
            "\n"
          ]
        }
      ]
    },
    {
      "cell_type": "markdown",
      "source": [
        "You can compute the accuracy by computing the count when the label are correctly classified over the total number of rows."
      ],
      "metadata": {
        "id": "pdnCrklnhUPq"
      }
    },
    {
      "cell_type": "code",
      "source": [
        "cm.filter(cm.label == cm.prediction).count() / cm.count()"
      ],
      "metadata": {
        "colab": {
          "base_uri": "https://localhost:8080/"
        },
        "id": "vHHIk4x9g8bO",
        "outputId": "744e0a66-f90e-4b9b-8eac-e4565452e70f"
      },
      "execution_count": null,
      "outputs": [
        {
          "output_type": "execute_result",
          "data": {
            "text/plain": [
              "0.8265441551812149"
            ]
          },
          "metadata": {},
          "execution_count": 124
        }
      ]
    },
    {
      "cell_type": "code",
      "source": [
        "def accuracy_m(model): \n",
        "    predictions = model.transform(test_data)\n",
        "    cm = predictions.select(\"label\", \"prediction\")\n",
        "    acc = cm.filter(cm.label == cm.prediction).count() / cm.count()\n",
        "    print(\"Model accuracy: %.3f%%\" % (acc * 100)) \n",
        "accuracy_m(model = linearModel)\n"
      ],
      "metadata": {
        "colab": {
          "base_uri": "https://localhost:8080/"
        },
        "id": "xckNplX1hYM6",
        "outputId": "8a0fbc0a-b94a-4635-c582-99183e12eb23"
      },
      "execution_count": null,
      "outputs": [
        {
          "output_type": "stream",
          "name": "stdout",
          "text": [
            "Model accuracy: 82.654%\n"
          ]
        }
      ]
    },
    {
      "cell_type": "markdown",
      "source": [
        "#ROC metrics"
      ],
      "metadata": {
        "id": "Bo_3SUmRjCj6"
      }
    },
    {
      "cell_type": "markdown",
      "source": [
        "The module BinaryClassificationEvaluator includes the ROC measures. The Receiver Operating Characteristic curve is another common tool used with binary classification. It is very similar to the precision/recall curve, but instead of plotting precision versus recall, the ROC curve shows the true positive rate (i.e. recall) against the false positive rate. The false positive rate is the ratio of negative instances that are incorrectly classified as positive. It is equal to one minus the true negative rate. The true negative rate is also called specificity. Hence the ROC curve plots sensitivity (recall) versus 1 – specificity"
      ],
      "metadata": {
        "id": "eAMB_b-zjND7"
      }
    },
    {
      "cell_type": "code",
      "source": [
        "### Use ROC \n",
        "from pyspark.ml.evaluation import BinaryClassificationEvaluator\n",
        "\n",
        "# Evaluate model\n",
        "evaluator = BinaryClassificationEvaluator(rawPredictionCol=\"rawPrediction\")\n",
        "print(evaluator.evaluate(predictions))\n",
        "print(evaluator.getMetricName())"
      ],
      "metadata": {
        "colab": {
          "base_uri": "https://localhost:8080/"
        },
        "id": "GR-ynk6fiDfS",
        "outputId": "0a24dea3-57dc-45f8-8423-d09cdec2924d"
      },
      "execution_count": null,
      "outputs": [
        {
          "output_type": "stream",
          "name": "stdout",
          "text": [
            "0.8879125010326574\n",
            "areaUnderROC\n"
          ]
        }
      ]
    },
    {
      "cell_type": "code",
      "source": [
        "print(evaluator.evaluate(predictions))"
      ],
      "metadata": {
        "colab": {
          "base_uri": "https://localhost:8080/"
        },
        "id": "OMhdDS0wjQgb",
        "outputId": "99bdf5fc-c5dc-42d6-ae87-97c4ef0ff82b"
      },
      "execution_count": null,
      "outputs": [
        {
          "output_type": "stream",
          "name": "stdout",
          "text": [
            "0.8879153655535399\n"
          ]
        }
      ]
    },
    {
      "cell_type": "code",
      "source": [
        ""
      ],
      "metadata": {
        "id": "p5EjnNvrjpSe"
      },
      "execution_count": null,
      "outputs": []
    }
  ]
}