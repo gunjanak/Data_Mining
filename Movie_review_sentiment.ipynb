{
  "nbformat": 4,
  "nbformat_minor": 0,
  "metadata": {
    "colab": {
      "name": "Movie_review_sentiment.ipynb",
      "provenance": [],
      "toc_visible": true,
      "mount_file_id": "10Ow-MJX5dMwcS7L1xeOCMMWcVxrNCokI",
      "authorship_tag": "ABX9TyOByiz9BvLY4Ggn22vn/Efh",
      "include_colab_link": true
    },
    "kernelspec": {
      "name": "python3",
      "display_name": "Python 3"
    }
  },
  "cells": [
    {
      "cell_type": "markdown",
      "metadata": {
        "id": "view-in-github",
        "colab_type": "text"
      },
      "source": [
        "<a href=\"https://colab.research.google.com/github/gunjanak/Data_Mining/blob/main/Movie_review_sentiment.ipynb\" target=\"_parent\"><img src=\"https://colab.research.google.com/assets/colab-badge.svg\" alt=\"Open In Colab\"/></a>"
      ]
    },
    {
      "cell_type": "markdown",
      "metadata": {
        "id": "Gk5VCJG6d0Fh"
      },
      "source": [
        "***Train the model with imdb data. Read a movive review from metacritic and label it positive or negative***"
      ]
    },
    {
      "cell_type": "markdown",
      "metadata": {
        "id": "8ixynE7keH1Q"
      },
      "source": [
        "#Part I : Training the model"
      ]
    },
    {
      "cell_type": "code",
      "metadata": {
        "id": "mbVDKTipduCO"
      },
      "source": [
        "import pandas as pd\n",
        "import numpy as np"
      ],
      "execution_count": 79,
      "outputs": []
    },
    {
      "cell_type": "code",
      "metadata": {
        "id": "YD63Gihxeuhm"
      },
      "source": [
        "df = pd.read_csv('/content/drive/MyDrive/Colab Notebooks/Text Mining/Movie_review/IMDB Dataset.csv')"
      ],
      "execution_count": 80,
      "outputs": []
    },
    {
      "cell_type": "code",
      "metadata": {
        "colab": {
          "base_uri": "https://localhost:8080/",
          "height": 206
        },
        "id": "hvTul5DJe24D",
        "outputId": "e955225e-867d-4b1d-eeaa-6630e6dd155d"
      },
      "source": [
        "df.head()"
      ],
      "execution_count": 81,
      "outputs": [
        {
          "output_type": "execute_result",
          "data": {
            "text/html": [
              "<div>\n",
              "<style scoped>\n",
              "    .dataframe tbody tr th:only-of-type {\n",
              "        vertical-align: middle;\n",
              "    }\n",
              "\n",
              "    .dataframe tbody tr th {\n",
              "        vertical-align: top;\n",
              "    }\n",
              "\n",
              "    .dataframe thead th {\n",
              "        text-align: right;\n",
              "    }\n",
              "</style>\n",
              "<table border=\"1\" class=\"dataframe\">\n",
              "  <thead>\n",
              "    <tr style=\"text-align: right;\">\n",
              "      <th></th>\n",
              "      <th>review</th>\n",
              "      <th>sentiment</th>\n",
              "    </tr>\n",
              "  </thead>\n",
              "  <tbody>\n",
              "    <tr>\n",
              "      <th>0</th>\n",
              "      <td>One of the other reviewers has mentioned that ...</td>\n",
              "      <td>positive</td>\n",
              "    </tr>\n",
              "    <tr>\n",
              "      <th>1</th>\n",
              "      <td>A wonderful little production. &lt;br /&gt;&lt;br /&gt;The...</td>\n",
              "      <td>positive</td>\n",
              "    </tr>\n",
              "    <tr>\n",
              "      <th>2</th>\n",
              "      <td>I thought this was a wonderful way to spend ti...</td>\n",
              "      <td>positive</td>\n",
              "    </tr>\n",
              "    <tr>\n",
              "      <th>3</th>\n",
              "      <td>Basically there's a family where a little boy ...</td>\n",
              "      <td>negative</td>\n",
              "    </tr>\n",
              "    <tr>\n",
              "      <th>4</th>\n",
              "      <td>Petter Mattei's \"Love in the Time of Money\" is...</td>\n",
              "      <td>positive</td>\n",
              "    </tr>\n",
              "  </tbody>\n",
              "</table>\n",
              "</div>"
            ],
            "text/plain": [
              "                                              review sentiment\n",
              "0  One of the other reviewers has mentioned that ...  positive\n",
              "1  A wonderful little production. <br /><br />The...  positive\n",
              "2  I thought this was a wonderful way to spend ti...  positive\n",
              "3  Basically there's a family where a little boy ...  negative\n",
              "4  Petter Mattei's \"Love in the Time of Money\" is...  positive"
            ]
          },
          "metadata": {
            "tags": []
          },
          "execution_count": 81
        }
      ]
    },
    {
      "cell_type": "code",
      "metadata": {
        "id": "ZseP2ZrAe8H4"
      },
      "source": [
        "df['Positively Rated'] = np.where(df['sentiment']=='positive',1,0)"
      ],
      "execution_count": 82,
      "outputs": []
    },
    {
      "cell_type": "code",
      "metadata": {
        "colab": {
          "base_uri": "https://localhost:8080/",
          "height": 206
        },
        "id": "8Ozy4Okre_3C",
        "outputId": "924b13d5-72fe-4bab-93a4-867294bc2e0e"
      },
      "source": [
        "df.head()"
      ],
      "execution_count": 83,
      "outputs": [
        {
          "output_type": "execute_result",
          "data": {
            "text/html": [
              "<div>\n",
              "<style scoped>\n",
              "    .dataframe tbody tr th:only-of-type {\n",
              "        vertical-align: middle;\n",
              "    }\n",
              "\n",
              "    .dataframe tbody tr th {\n",
              "        vertical-align: top;\n",
              "    }\n",
              "\n",
              "    .dataframe thead th {\n",
              "        text-align: right;\n",
              "    }\n",
              "</style>\n",
              "<table border=\"1\" class=\"dataframe\">\n",
              "  <thead>\n",
              "    <tr style=\"text-align: right;\">\n",
              "      <th></th>\n",
              "      <th>review</th>\n",
              "      <th>sentiment</th>\n",
              "      <th>Positively Rated</th>\n",
              "    </tr>\n",
              "  </thead>\n",
              "  <tbody>\n",
              "    <tr>\n",
              "      <th>0</th>\n",
              "      <td>One of the other reviewers has mentioned that ...</td>\n",
              "      <td>positive</td>\n",
              "      <td>1</td>\n",
              "    </tr>\n",
              "    <tr>\n",
              "      <th>1</th>\n",
              "      <td>A wonderful little production. &lt;br /&gt;&lt;br /&gt;The...</td>\n",
              "      <td>positive</td>\n",
              "      <td>1</td>\n",
              "    </tr>\n",
              "    <tr>\n",
              "      <th>2</th>\n",
              "      <td>I thought this was a wonderful way to spend ti...</td>\n",
              "      <td>positive</td>\n",
              "      <td>1</td>\n",
              "    </tr>\n",
              "    <tr>\n",
              "      <th>3</th>\n",
              "      <td>Basically there's a family where a little boy ...</td>\n",
              "      <td>negative</td>\n",
              "      <td>0</td>\n",
              "    </tr>\n",
              "    <tr>\n",
              "      <th>4</th>\n",
              "      <td>Petter Mattei's \"Love in the Time of Money\" is...</td>\n",
              "      <td>positive</td>\n",
              "      <td>1</td>\n",
              "    </tr>\n",
              "  </tbody>\n",
              "</table>\n",
              "</div>"
            ],
            "text/plain": [
              "                                              review  ... Positively Rated\n",
              "0  One of the other reviewers has mentioned that ...  ...                1\n",
              "1  A wonderful little production. <br /><br />The...  ...                1\n",
              "2  I thought this was a wonderful way to spend ti...  ...                1\n",
              "3  Basically there's a family where a little boy ...  ...                0\n",
              "4  Petter Mattei's \"Love in the Time of Money\" is...  ...                1\n",
              "\n",
              "[5 rows x 3 columns]"
            ]
          },
          "metadata": {
            "tags": []
          },
          "execution_count": 83
        }
      ]
    },
    {
      "cell_type": "code",
      "metadata": {
        "colab": {
          "base_uri": "https://localhost:8080/"
        },
        "id": "WbwGaiUZfCrb",
        "outputId": "20115af3-1e49-42e3-cf64-383542645eb3"
      },
      "source": [
        "len(df[df['Positively Rated'] == 1])"
      ],
      "execution_count": 84,
      "outputs": [
        {
          "output_type": "execute_result",
          "data": {
            "text/plain": [
              "25000"
            ]
          },
          "metadata": {
            "tags": []
          },
          "execution_count": 84
        }
      ]
    },
    {
      "cell_type": "code",
      "metadata": {
        "colab": {
          "base_uri": "https://localhost:8080/"
        },
        "id": "z9nx5kV5fGO0",
        "outputId": "83be66e4-0ca6-4e29-a003-95fb13152438"
      },
      "source": [
        "len(df)"
      ],
      "execution_count": 85,
      "outputs": [
        {
          "output_type": "execute_result",
          "data": {
            "text/plain": [
              "50000"
            ]
          },
          "metadata": {
            "tags": []
          },
          "execution_count": 85
        }
      ]
    },
    {
      "cell_type": "markdown",
      "metadata": {
        "id": "22Kr7t60fTZ9"
      },
      "source": [
        "df['review'] is X\n",
        "\n",
        "\n",
        "df['Positively Rated'] is y"
      ]
    },
    {
      "cell_type": "code",
      "metadata": {
        "id": "wH5OhnEofKU3"
      },
      "source": [
        "from sklearn.model_selection import train_test_split\n",
        "X_train, X_test, y_train,y_test = train_test_split(df['review'],df['Positively Rated'],random_state=0)"
      ],
      "execution_count": 86,
      "outputs": []
    },
    {
      "cell_type": "code",
      "metadata": {
        "colab": {
          "base_uri": "https://localhost:8080/"
        },
        "id": "WTHQFcVwfPq_",
        "outputId": "c041bf81-742a-4da2-ef9c-56a7fa3dc140"
      },
      "source": [
        "print('X_train first entry:\\n\\n',X_train[0])\n",
        "print('\\n\\nX_train_shape: ',X_train.shape)"
      ],
      "execution_count": 87,
      "outputs": [
        {
          "output_type": "stream",
          "text": [
            "X_train first entry:\n",
            "\n",
            " One of the other reviewers has mentioned that after watching just 1 Oz episode you'll be hooked. They are right, as this is exactly what happened with me.<br /><br />The first thing that struck me about Oz was its brutality and unflinching scenes of violence, which set in right from the word GO. Trust me, this is not a show for the faint hearted or timid. This show pulls no punches with regards to drugs, sex or violence. Its is hardcore, in the classic use of the word.<br /><br />It is called OZ as that is the nickname given to the Oswald Maximum Security State Penitentary. It focuses mainly on Emerald City, an experimental section of the prison where all the cells have glass fronts and face inwards, so privacy is not high on the agenda. Em City is home to many..Aryans, Muslims, gangstas, Latinos, Christians, Italians, Irish and more....so scuffles, death stares, dodgy dealings and shady agreements are never far away.<br /><br />I would say the main appeal of the show is due to the fact that it goes where other shows wouldn't dare. Forget pretty pictures painted for mainstream audiences, forget charm, forget romance...OZ doesn't mess around. The first episode I ever saw struck me as so nasty it was surreal, I couldn't say I was ready for it, but as I watched more, I developed a taste for Oz, and got accustomed to the high levels of graphic violence. Not just violence, but injustice (crooked guards who'll be sold out for a nickel, inmates who'll kill on order and get away with it, well mannered, middle class inmates being turned into prison bitches due to their lack of street skills or prison experience) Watching Oz, you may become comfortable with what is uncomfortable viewing....thats if you can get in touch with your darker side.\n",
            "\n",
            "\n",
            "X_train_shape:  (37500,)\n"
          ],
          "name": "stdout"
        }
      ]
    },
    {
      "cell_type": "markdown",
      "metadata": {
        "id": "YPgYi2Xqf3dp"
      },
      "source": [
        "The bag-of-words approach is simple and commonly used way to represent text for\n",
        "use in machine learning, which ignores structure and\n",
        "only counts how often each word occurs.\n",
        "CountVectorizer allows us to use the bag-of-words approach\n",
        "by converting a collection of text documents into a matrix of token counts. "
      ]
    },
    {
      "cell_type": "code",
      "metadata": {
        "id": "MvsxejYlfgH0"
      },
      "source": [
        "from sklearn.feature_extraction.text import CountVectorizer\n",
        "vect = CountVectorizer().fit(X_train)"
      ],
      "execution_count": 88,
      "outputs": []
    },
    {
      "cell_type": "code",
      "metadata": {
        "colab": {
          "base_uri": "https://localhost:8080/"
        },
        "id": "nFpkCyUOfjx4",
        "outputId": "2ffe3746-a9e3-463e-f1fa-bcca4195d6a7"
      },
      "source": [
        "len(vect.get_feature_names())"
      ],
      "execution_count": 89,
      "outputs": [
        {
          "output_type": "execute_result",
          "data": {
            "text/plain": [
              "90506"
            ]
          },
          "metadata": {
            "tags": []
          },
          "execution_count": 89
        }
      ]
    },
    {
      "cell_type": "markdown",
      "metadata": {
        "id": "o5XeEfvogUYD"
      },
      "source": [
        "we use the transform method to transform the documents in X_train to\n",
        "a document term matrix, giving us the bag-of-word representation of X_train.\n",
        "This representation is stored in a SciPy sparse matrix, where each row corresponds\n",
        "to a document and each column a word from our training vocabulary.\n",
        "The entries in this matrix\n",
        "are the number of times each word appears in each document.\n",
        "Because the number of words in the vocabulary is so\n",
        "much larger than the number of words that might appear in a single review,\n",
        "most entries of this matrix are zero. "
      ]
    },
    {
      "cell_type": "code",
      "metadata": {
        "id": "g2WGWc2bgAeA"
      },
      "source": [
        "X_train_vectorized = vect.transform(X_train)"
      ],
      "execution_count": 91,
      "outputs": []
    },
    {
      "cell_type": "markdown",
      "metadata": {
        "id": "ILR_aosjgsEa"
      },
      "source": [
        "Training Model"
      ]
    },
    {
      "cell_type": "code",
      "metadata": {
        "colab": {
          "base_uri": "https://localhost:8080/"
        },
        "id": "uTefkcNhgGeP",
        "outputId": "27b207c0-b560-469c-bb4c-eeadccb44b5c"
      },
      "source": [
        "from sklearn.linear_model import LogisticRegression\n",
        "model1 = LogisticRegression()\n",
        "model1.fit(X_train_vectorized,y_train)"
      ],
      "execution_count": 92,
      "outputs": [
        {
          "output_type": "stream",
          "text": [
            "/usr/local/lib/python3.6/dist-packages/sklearn/linear_model/_logistic.py:940: ConvergenceWarning: lbfgs failed to converge (status=1):\n",
            "STOP: TOTAL NO. of ITERATIONS REACHED LIMIT.\n",
            "\n",
            "Increase the number of iterations (max_iter) or scale the data as shown in:\n",
            "    https://scikit-learn.org/stable/modules/preprocessing.html\n",
            "Please also refer to the documentation for alternative solver options:\n",
            "    https://scikit-learn.org/stable/modules/linear_model.html#logistic-regression\n",
            "  extra_warning_msg=_LOGISTIC_SOLVER_CONVERGENCE_MSG)\n"
          ],
          "name": "stderr"
        },
        {
          "output_type": "execute_result",
          "data": {
            "text/plain": [
              "LogisticRegression(C=1.0, class_weight=None, dual=False, fit_intercept=True,\n",
              "                   intercept_scaling=1, l1_ratio=None, max_iter=100,\n",
              "                   multi_class='auto', n_jobs=None, penalty='l2',\n",
              "                   random_state=None, solver='lbfgs', tol=0.0001, verbose=0,\n",
              "                   warm_start=False)"
            ]
          },
          "metadata": {
            "tags": []
          },
          "execution_count": 92
        }
      ]
    },
    {
      "cell_type": "code",
      "metadata": {
        "colab": {
          "base_uri": "https://localhost:8080/"
        },
        "id": "d6VdkhMAoMxL",
        "outputId": "5b931aae-be91-4140-cef9-a47f995c7dcb"
      },
      "source": [
        "X_test.shape"
      ],
      "execution_count": 93,
      "outputs": [
        {
          "output_type": "execute_result",
          "data": {
            "text/plain": [
              "(12500,)"
            ]
          },
          "metadata": {
            "tags": []
          },
          "execution_count": 93
        }
      ]
    },
    {
      "cell_type": "code",
      "metadata": {
        "colab": {
          "base_uri": "https://localhost:8080/"
        },
        "id": "5wws90k9ggti",
        "outputId": "3ab29144-0ab2-45d5-948b-bbaf5227e4fc"
      },
      "source": [
        "from sklearn.metrics import roc_auc_score\n",
        "predictions = model1.predict(vect.transform(X_test))\n",
        "print('AUC: ',roc_auc_score(y_test,predictions))"
      ],
      "execution_count": 94,
      "outputs": [
        {
          "output_type": "stream",
          "text": [
            "AUC:  0.8822758683068064\n"
          ],
          "name": "stdout"
        }
      ]
    },
    {
      "cell_type": "code",
      "metadata": {
        "colab": {
          "base_uri": "https://localhost:8080/"
        },
        "id": "O5apNEycqRnJ",
        "outputId": "95293c25-9996-470e-c6a0-bdc21562b74f"
      },
      "source": [
        "print(model1.predict(vect.transform(['not an issue, phone is working','an issue, phone is not working'])))"
      ],
      "execution_count": 95,
      "outputs": [
        {
          "output_type": "stream",
          "text": [
            "[0 0]\n"
          ],
          "name": "stdout"
        }
      ]
    },
    {
      "cell_type": "markdown",
      "metadata": {
        "id": "Hc2_oBD2hnh_"
      },
      "source": [
        "One way we can add some context is by adding sequences of word features\n",
        "known as n-grams.\n",
        "For example, bigrams, which count pairs of adjacent words,\n",
        "could give us features such as is working versus not working.\n",
        "And trigrams, which give us triplets of adjacent words,\n",
        "could give us features such as not an issue.\n",
        "To create these n-gram features,\n",
        "we'll pass in a tuple to the parameter ngram_range,\n",
        "where the values correspond to the minimum length and maximum lengths of sequences.\n",
        "For example, if I pass in the tuple, 1, 2, CountVectorizer\n",
        "will create features using the individual words, as well as the bigrams. "
      ]
    },
    {
      "cell_type": "code",
      "metadata": {
        "colab": {
          "base_uri": "https://localhost:8080/"
        },
        "id": "mq_uA3hzg6SJ",
        "outputId": "a5f0506d-9c1d-4ec5-b376-a434e7c1d526"
      },
      "source": [
        "#using only word of frequency 5\n",
        "#using individual word, bigrams and trigrams\n",
        "vect1 = CountVectorizer(min_df=5,ngram_range=(1,3)).fit(X_train)\n",
        "X_train_vectorized1 = vect1.transform(X_train)\n",
        "len(vect1.get_feature_names())"
      ],
      "execution_count": 96,
      "outputs": [
        {
          "output_type": "execute_result",
          "data": {
            "text/plain": [
              "366814"
            ]
          },
          "metadata": {
            "tags": []
          },
          "execution_count": 96
        }
      ]
    },
    {
      "cell_type": "code",
      "metadata": {
        "colab": {
          "base_uri": "https://localhost:8080/"
        },
        "id": "SRnDOrQshvA3",
        "outputId": "f37d01a3-9333-41b1-bdf5-483ab16ece8d"
      },
      "source": [
        "model2 = LogisticRegression()\n",
        "model2.fit(X_train_vectorized1,y_train)\n",
        "predictions = model2.predict(vect1.transform(X_test))\n",
        "print('AUC: ',roc_auc_score(y_test,predictions))"
      ],
      "execution_count": 97,
      "outputs": [
        {
          "output_type": "stream",
          "text": [
            "/usr/local/lib/python3.6/dist-packages/sklearn/linear_model/_logistic.py:940: ConvergenceWarning: lbfgs failed to converge (status=1):\n",
            "STOP: TOTAL NO. of ITERATIONS REACHED LIMIT.\n",
            "\n",
            "Increase the number of iterations (max_iter) or scale the data as shown in:\n",
            "    https://scikit-learn.org/stable/modules/preprocessing.html\n",
            "Please also refer to the documentation for alternative solver options:\n",
            "    https://scikit-learn.org/stable/modules/linear_model.html#logistic-regression\n",
            "  extra_warning_msg=_LOGISTIC_SOLVER_CONVERGENCE_MSG)\n"
          ],
          "name": "stderr"
        },
        {
          "output_type": "stream",
          "text": [
            "AUC:  0.9046495415265102\n"
          ],
          "name": "stdout"
        }
      ]
    },
    {
      "cell_type": "code",
      "metadata": {
        "colab": {
          "base_uri": "https://localhost:8080/"
        },
        "id": "hqdxdFybpHWl",
        "outputId": "aefda3f2-a2de-41bc-89ec-c5ecb9f6543a"
      },
      "source": [
        "print(model2.predict(vect1.transform(['not an issue, phone is working','an issue, phone is not working'])))"
      ],
      "execution_count": 99,
      "outputs": [
        {
          "output_type": "stream",
          "text": [
            "[1 0]\n"
          ],
          "name": "stdout"
        }
      ]
    },
    {
      "cell_type": "code",
      "metadata": {
        "colab": {
          "base_uri": "https://localhost:8080/"
        },
        "id": "74vfwzcJpMT-",
        "outputId": "b6098c24-77af-4dc5-93ff-455c0df1eb00"
      },
      "source": [
        "print(model1.predict(vect.transform(['not an issue, phone is working','an issue, phone is not working'])))"
      ],
      "execution_count": 100,
      "outputs": [
        {
          "output_type": "stream",
          "text": [
            "[0 0]\n"
          ],
          "name": "stdout"
        }
      ]
    },
    {
      "cell_type": "markdown",
      "metadata": {
        "id": "JJVMZjzQi_He"
      },
      "source": [
        "#Part II: Scrapping the review"
      ]
    },
    {
      "cell_type": "markdown",
      "metadata": {
        "id": "rdfMRMvRjItx"
      },
      "source": [
        "Ask user to enter a movie\n",
        "\n",
        "Scrape reviews of that movie from metacritic and put it in database"
      ]
    },
    {
      "cell_type": "code",
      "metadata": {
        "colab": {
          "base_uri": "https://localhost:8080/"
        },
        "id": "5mnpsGeDi-69",
        "outputId": "31a42fe2-4a37-45f2-bde3-12f40844a713"
      },
      "source": [
        "!pip3 install requests_html bs4"
      ],
      "execution_count": 124,
      "outputs": [
        {
          "output_type": "stream",
          "text": [
            "Requirement already satisfied: requests_html in /usr/local/lib/python3.6/dist-packages (0.10.0)\n",
            "Requirement already satisfied: bs4 in /usr/local/lib/python3.6/dist-packages (0.0.1)\n",
            "Requirement already satisfied: pyquery in /usr/local/lib/python3.6/dist-packages (from requests_html) (1.4.3)\n",
            "Requirement already satisfied: pyppeteer>=0.0.14 in /usr/local/lib/python3.6/dist-packages (from requests_html) (0.2.5)\n",
            "Requirement already satisfied: w3lib in /usr/local/lib/python3.6/dist-packages (from requests_html) (1.22.0)\n",
            "Requirement already satisfied: parse in /usr/local/lib/python3.6/dist-packages (from requests_html) (1.19.0)\n",
            "Requirement already satisfied: requests in /usr/local/lib/python3.6/dist-packages (from requests_html) (2.23.0)\n",
            "Requirement already satisfied: fake-useragent in /usr/local/lib/python3.6/dist-packages (from requests_html) (0.1.11)\n",
            "Requirement already satisfied: beautifulsoup4 in /usr/local/lib/python3.6/dist-packages (from bs4) (4.6.3)\n",
            "Requirement already satisfied: cssselect>0.7.9 in /usr/local/lib/python3.6/dist-packages (from pyquery->requests_html) (1.1.0)\n",
            "Requirement already satisfied: lxml>=2.1 in /usr/local/lib/python3.6/dist-packages (from pyquery->requests_html) (4.2.6)\n",
            "Requirement already satisfied: urllib3<2.0.0,>=1.25.8 in /usr/local/lib/python3.6/dist-packages (from pyppeteer>=0.0.14->requests_html) (1.26.3)\n",
            "Requirement already satisfied: websockets<9.0,>=8.1 in /usr/local/lib/python3.6/dist-packages (from pyppeteer>=0.0.14->requests_html) (8.1)\n",
            "Requirement already satisfied: appdirs<2.0.0,>=1.4.3 in /usr/local/lib/python3.6/dist-packages (from pyppeteer>=0.0.14->requests_html) (1.4.4)\n",
            "Requirement already satisfied: importlib-metadata<3.0.0,>=2.1.1; python_version < \"3.8\" in /usr/local/lib/python3.6/dist-packages (from pyppeteer>=0.0.14->requests_html) (2.1.1)\n",
            "Requirement already satisfied: tqdm<5.0.0,>=4.42.1 in /usr/local/lib/python3.6/dist-packages (from pyppeteer>=0.0.14->requests_html) (4.57.0)\n",
            "Requirement already satisfied: pyee<9.0.0,>=8.1.0 in /usr/local/lib/python3.6/dist-packages (from pyppeteer>=0.0.14->requests_html) (8.1.0)\n",
            "Requirement already satisfied: six>=1.4.1 in /usr/local/lib/python3.6/dist-packages (from w3lib->requests_html) (1.15.0)\n",
            "Requirement already satisfied: idna<3,>=2.5 in /usr/local/lib/python3.6/dist-packages (from requests->requests_html) (2.10)\n",
            "Requirement already satisfied: chardet<4,>=3.0.2 in /usr/local/lib/python3.6/dist-packages (from requests->requests_html) (3.0.4)\n",
            "Requirement already satisfied: certifi>=2017.4.17 in /usr/local/lib/python3.6/dist-packages (from requests->requests_html) (2020.12.5)\n",
            "Requirement already satisfied: zipp>=0.5 in /usr/local/lib/python3.6/dist-packages (from importlib-metadata<3.0.0,>=2.1.1; python_version < \"3.8\"->pyppeteer>=0.0.14->requests_html) (3.4.0)\n"
          ],
          "name": "stdout"
        }
      ]
    },
    {
      "cell_type": "code",
      "metadata": {
        "id": "KcgOhYy7jZq1"
      },
      "source": [
        "from bs4 import BeautifulSoup\n",
        "from requests_html import HTMLSession\n",
        "from urllib.parse import urljoin"
      ],
      "execution_count": 125,
      "outputs": []
    },
    {
      "cell_type": "code",
      "metadata": {
        "id": "VFTb3R7XjgKn"
      },
      "source": [
        "session = HTMLSession()"
      ],
      "execution_count": 126,
      "outputs": []
    },
    {
      "cell_type": "code",
      "metadata": {
        "id": "ugwjjNPPjjBC"
      },
      "source": [
        "def get_all_forms(url):\n",
        "    \"\"\"Returns all form tags found on a web page's `url` \"\"\"\n",
        "    # GET request\n",
        "    res = session.get(url)\n",
        "    # for javascript driven website\n",
        "    # res.html.render()\n",
        "    soup = BeautifulSoup(res.html.html, \"html.parser\")\n",
        "    return soup.find_all(\"form\")"
      ],
      "execution_count": 127,
      "outputs": []
    },
    {
      "cell_type": "code",
      "metadata": {
        "id": "jqaD9RPBjloB"
      },
      "source": [
        "def get_form_details(form):\n",
        "    \"\"\"Returns the HTML details of a form,\n",
        "    including action, method and list of form controls (inputs, etc)\"\"\"\n",
        "    details = {}\n",
        "    # get the form action (requested URL)\n",
        "    action = form.attrs.get(\"action\").lower()\n",
        "    # get the form method (POST, GET, DELETE, etc)\n",
        "    # if not specified, GET is the default in HTML\n",
        "    method = form.attrs.get(\"method\", \"get\").lower()\n",
        "    # get all form inputs\n",
        "    inputs = []\n",
        "    for input_tag in form.find_all(\"input\"):\n",
        "        # get type of input form control\n",
        "        input_type = input_tag.attrs.get(\"type\", \"text\")\n",
        "        # get name attribute\n",
        "        input_name = input_tag.attrs.get(\"name\")\n",
        "        # get the default value of that input tag\n",
        "        input_value =input_tag.attrs.get(\"value\", \"\")\n",
        "        # add everything to that list\n",
        "        inputs.append({\"type\": input_type, \"name\": input_name, \"value\": input_value})\n",
        "    # put everything to the resulting dictionary\n",
        "    details[\"action\"] = action\n",
        "    details[\"method\"] = method\n",
        "    details[\"inputs\"] = inputs\n",
        "    return details"
      ],
      "execution_count": 128,
      "outputs": []
    },
    {
      "cell_type": "code",
      "metadata": {
        "colab": {
          "base_uri": "https://localhost:8080/"
        },
        "id": "pU5_jXIOjosK",
        "outputId": "3bb556ff-733b-4a54-ec80-70275c2ebdfa"
      },
      "source": [
        "url = \"https://www.metacritic.com/\"\n",
        "# get all form tags\n",
        "forms = get_all_forms(url)\n",
        "# iteratte over forms\n",
        "for i, form in enumerate(forms, start=1):\n",
        "    form_details = get_form_details(form)\n",
        "    print(\"=\"*50, f\"form #{i}\", \"=\"*50)\n",
        "    print(form_details)"
      ],
      "execution_count": 129,
      "outputs": [
        {
          "output_type": "stream",
          "text": [
            "================================================== form #1 ==================================================\n",
            "{'action': '/search', 'method': 'post', 'inputs': [{'type': 'text', 'name': 'search_term', 'value': ''}, {'type': 'hidden', 'name': 'search_filter', 'value': 'all'}]}\n"
          ],
          "name": "stdout"
        }
      ]
    },
    {
      "cell_type": "code",
      "metadata": {
        "id": "20RnUjCdjsBs"
      },
      "source": [
        "# get the first form\n",
        "first_form = get_all_forms(url)[0]"
      ],
      "execution_count": 130,
      "outputs": []
    },
    {
      "cell_type": "code",
      "metadata": {
        "colab": {
          "base_uri": "https://localhost:8080/"
        },
        "id": "j7SsDZeJjv54",
        "outputId": "c290746f-d066-4c8b-eec2-049cf37412b5"
      },
      "source": [
        "movie = input('Enter name of movie: ')"
      ],
      "execution_count": 131,
      "outputs": [
        {
          "output_type": "stream",
          "text": [
            "Enter name of movie: bride wars\n"
          ],
          "name": "stdout"
        }
      ]
    },
    {
      "cell_type": "code",
      "metadata": {
        "id": "X5cheix7jy4l"
      },
      "source": [
        "# the data body we want to submit\n",
        "data = {}\n",
        "for input_tag in form_details[\"inputs\"]:\n",
        "    if input_tag[\"type\"] == \"hidden\":\n",
        "        # if it's hidden, use the default value\n",
        "        data[input_tag[\"name\"]] = input_tag[\"value\"]\n",
        "    elif input_tag[\"type\"] != \"submit\":\n",
        "        # all others except submit, prompt the user to set it\n",
        "        #value = input(f\"Enter the value of the field '{input_tag['name']}' (type: {input_tag['type']}): \")\n",
        "        value = movie\n",
        "        data[input_tag[\"name\"]] = value"
      ],
      "execution_count": 132,
      "outputs": []
    },
    {
      "cell_type": "code",
      "metadata": {
        "id": "PWlpgopvj2zM"
      },
      "source": [
        "# join the url with the action (form request URL)\n",
        "url = urljoin(url, form_details[\"action\"])\n",
        "\n",
        "if form_details[\"method\"] == \"post\":\n",
        "    res = session.post(url, data=data)\n",
        "elif form_details[\"method\"] == \"get\":\n",
        "    res = session.get(url, params=data)"
      ],
      "execution_count": 133,
      "outputs": []
    },
    {
      "cell_type": "code",
      "metadata": {
        "id": "9vfi6JLXkE9y"
      },
      "source": [
        "import re"
      ],
      "execution_count": 134,
      "outputs": []
    },
    {
      "cell_type": "code",
      "metadata": {
        "colab": {
          "base_uri": "https://localhost:8080/"
        },
        "id": "SYfXU8sej5SM",
        "outputId": "5cbff37a-92b4-401e-dfa9-2a80c7e45dcf"
      },
      "source": [
        "soup = BeautifulSoup(res.text, 'html.parser')\n",
        "#a = soup.find_all(\"h3\")\n",
        "a = soup.find_all(\"h3\",{\"class\": \"product_title basic_stat\"}) \n",
        "result = []\n",
        "for th in a:\n",
        "    #print(th)\n",
        "    result.append(th)\n",
        "b = str(result[0])\n",
        "cc = re.findall(r'\"([^\"]*)\"', b)\n",
        "d = cc[1]\n",
        "url = 'https://www.metacritic.com'+d\n",
        "print(url)"
      ],
      "execution_count": 135,
      "outputs": [
        {
          "output_type": "stream",
          "text": [
            "https://www.metacritic.com/movie/bride-wars\n"
          ],
          "name": "stdout"
        }
      ]
    },
    {
      "cell_type": "code",
      "metadata": {
        "id": "NWK6U3HFlRw-"
      },
      "source": [
        "import requests"
      ],
      "execution_count": 136,
      "outputs": []
    },
    {
      "cell_type": "code",
      "metadata": {
        "id": "horummetkRL4"
      },
      "source": [
        "def reviews(url):\n",
        "  user_agent = {'User-agent': 'Mozilla/5.0'}\n",
        "  response  = requests.get(url, headers = user_agent)\n",
        "  soup = BeautifulSoup(response.text, 'html.parser')\n",
        "  a = soup.find_all(\"div\",{\"class\": \"review_body\"}) \n",
        "  reviews = []\n",
        "  for i in a:\n",
        "    reviews.append(str(i))\n",
        "\n",
        "  all_reviews = []\n",
        "  for review in reviews:\n",
        "    zz = re.findall(r'<span[^>]*>[\\s\\S]+<\\/span>',review)\n",
        "    zzz = zz[0]\n",
        "    zzzz = zzz[:-7]\n",
        "    zzzzz = zzzz[6:]\n",
        "    output = re.findall(r'(>(.*?)<)',zzzzz)\n",
        "    if not output:\n",
        "      all_reviews.append(zzzzz)\n",
        "    else:\n",
        "      all_reviews.append(output[1][1])\n",
        "    #print(output[1])\n",
        "    #print(output[1][1])\n",
        "  return all_reviews"
      ],
      "execution_count": 137,
      "outputs": []
    },
    {
      "cell_type": "code",
      "metadata": {
        "id": "528E-XhKiyFV"
      },
      "source": [
        "all_reviews = reviews(url)"
      ],
      "execution_count": 138,
      "outputs": []
    },
    {
      "cell_type": "code",
      "metadata": {
        "colab": {
          "base_uri": "https://localhost:8080/"
        },
        "id": "tsv_gRv8lKgR",
        "outputId": "1c8b756b-f492-430a-bade-7793df5b9e08"
      },
      "source": [
        "all_reviews"
      ],
      "execution_count": 139,
      "outputs": [
        {
          "output_type": "execute_result",
          "data": {
            "text/plain": [
              "['Simplemente Anne Hathaway es una gran actriz, sus películas son muy amadas en México, en especial está película, no entiendo porque tiene mala crítica.',\n",
              " 'Bride wars was directed by Gary Winick and has been released in may 2009. In this comedy there are several famous actors such as Anne Hathaway, Kate Hudson and Bryan Greenberg.\\r',\n",
              " 'The movie was fairly entertaining but a little on the goofy side and with many parts unbelievable. Hathaway had drawn my attention into this one - and other than that the story was mildly interesting even though a bit ludicrous (not in a good way). I still have to give it above average',\n",
              " \"Two bi-polar woman with far too much money and time on their hands seek to destroy each others weddings through a series of photo montages and Candice Bergen's blathering narration.\",\n",
              " \"'Bride Wars' is a lousy, unfunny, sexist and uneven comedy that takes its two talented leads with a potentially funny premise, and wastes it in every way possible, leading to a very awkward experience, for me at least.\\r\",\n",
              " ' Regarding the three weddings I served as best man for, all three couples eschewed a big, elaborate, expensive wedding. Two of them had small, private ceremonies at home for family and a few close friends; the third opted for a justice of the peace. In all three cases the logic was that the',\n",
              " ' The worst movie of 2009, so far. And I have a feeling, due to how bad this film is, that that title may stick for all the remaining months to come.']"
            ]
          },
          "metadata": {
            "tags": []
          },
          "execution_count": 139
        }
      ]
    },
    {
      "cell_type": "code",
      "metadata": {
        "colab": {
          "base_uri": "https://localhost:8080/"
        },
        "id": "aFY7nSi5lXV_",
        "outputId": "52919474-338d-4aad-83de-8e12f357308e"
      },
      "source": [
        "len(all_reviews)"
      ],
      "execution_count": 140,
      "outputs": [
        {
          "output_type": "execute_result",
          "data": {
            "text/plain": [
              "7"
            ]
          },
          "metadata": {
            "tags": []
          },
          "execution_count": 140
        }
      ]
    },
    {
      "cell_type": "markdown",
      "metadata": {
        "id": "jCSLnNX_mQ1L"
      },
      "source": [
        "***Predicting sentiment of reviews with both models and put result  in dataframe***"
      ]
    },
    {
      "cell_type": "code",
      "metadata": {
        "id": "7bbkBsQFg3jx"
      },
      "source": [
        "df = pd.DataFrame(columns=['Movie', 'Review','Rating_Model1','Rating_Model2'])"
      ],
      "execution_count": 141,
      "outputs": []
    },
    {
      "cell_type": "code",
      "metadata": {
        "colab": {
          "base_uri": "https://localhost:8080/",
          "height": 49
        },
        "id": "oMURQN1Fml-A",
        "outputId": "e0822d8e-2843-4d24-dc31-f24ed0ca7ed3"
      },
      "source": [
        "df.head()"
      ],
      "execution_count": 142,
      "outputs": [
        {
          "output_type": "execute_result",
          "data": {
            "text/html": [
              "<div>\n",
              "<style scoped>\n",
              "    .dataframe tbody tr th:only-of-type {\n",
              "        vertical-align: middle;\n",
              "    }\n",
              "\n",
              "    .dataframe tbody tr th {\n",
              "        vertical-align: top;\n",
              "    }\n",
              "\n",
              "    .dataframe thead th {\n",
              "        text-align: right;\n",
              "    }\n",
              "</style>\n",
              "<table border=\"1\" class=\"dataframe\">\n",
              "  <thead>\n",
              "    <tr style=\"text-align: right;\">\n",
              "      <th></th>\n",
              "      <th>Movie</th>\n",
              "      <th>Review</th>\n",
              "      <th>Rating_Model1</th>\n",
              "      <th>Rating_Model2</th>\n",
              "    </tr>\n",
              "  </thead>\n",
              "  <tbody>\n",
              "  </tbody>\n",
              "</table>\n",
              "</div>"
            ],
            "text/plain": [
              "Empty DataFrame\n",
              "Columns: [Movie, Review, Rating_Model1, Rating_Model2]\n",
              "Index: []"
            ]
          },
          "metadata": {
            "tags": []
          },
          "execution_count": 142
        }
      ]
    },
    {
      "cell_type": "code",
      "metadata": {
        "id": "rUJLmU8PmnQ-"
      },
      "source": [
        "\n",
        "for review in all_reviews:\n",
        "  rating1 = model1.predict(vect.transform([review]))\n",
        "  rating2 = model2.predict(vect1.transform([review]))\n",
        "  df = df.append({'Movie':movie,'Review':review,'Rating_Model1':rating1,'Rating_Model2':rating2},ignore_index = True) \n",
        "\n"
      ],
      "execution_count": 143,
      "outputs": []
    },
    {
      "cell_type": "code",
      "metadata": {
        "colab": {
          "base_uri": "https://localhost:8080/",
          "height": 269
        },
        "id": "2GBu8Z60m9S5",
        "outputId": "2e373bb1-a18f-421f-c66e-6859946ed2de"
      },
      "source": [
        "df"
      ],
      "execution_count": 144,
      "outputs": [
        {
          "output_type": "execute_result",
          "data": {
            "text/html": [
              "<div>\n",
              "<style scoped>\n",
              "    .dataframe tbody tr th:only-of-type {\n",
              "        vertical-align: middle;\n",
              "    }\n",
              "\n",
              "    .dataframe tbody tr th {\n",
              "        vertical-align: top;\n",
              "    }\n",
              "\n",
              "    .dataframe thead th {\n",
              "        text-align: right;\n",
              "    }\n",
              "</style>\n",
              "<table border=\"1\" class=\"dataframe\">\n",
              "  <thead>\n",
              "    <tr style=\"text-align: right;\">\n",
              "      <th></th>\n",
              "      <th>Movie</th>\n",
              "      <th>Review</th>\n",
              "      <th>Rating_Model1</th>\n",
              "      <th>Rating_Model2</th>\n",
              "    </tr>\n",
              "  </thead>\n",
              "  <tbody>\n",
              "    <tr>\n",
              "      <th>0</th>\n",
              "      <td>bride wars</td>\n",
              "      <td>Simplemente Anne Hathaway es una gran actriz, ...</td>\n",
              "      <td>[1]</td>\n",
              "      <td>[1]</td>\n",
              "    </tr>\n",
              "    <tr>\n",
              "      <th>1</th>\n",
              "      <td>bride wars</td>\n",
              "      <td>Bride wars was directed by Gary Winick and has...</td>\n",
              "      <td>[0]</td>\n",
              "      <td>[1]</td>\n",
              "    </tr>\n",
              "    <tr>\n",
              "      <th>2</th>\n",
              "      <td>bride wars</td>\n",
              "      <td>The movie was fairly entertaining but a little...</td>\n",
              "      <td>[0]</td>\n",
              "      <td>[0]</td>\n",
              "    </tr>\n",
              "    <tr>\n",
              "      <th>3</th>\n",
              "      <td>bride wars</td>\n",
              "      <td>Two bi-polar woman with far too much money and...</td>\n",
              "      <td>[0]</td>\n",
              "      <td>[0]</td>\n",
              "    </tr>\n",
              "    <tr>\n",
              "      <th>4</th>\n",
              "      <td>bride wars</td>\n",
              "      <td>'Bride Wars' is a lousy, unfunny, sexist and u...</td>\n",
              "      <td>[0]</td>\n",
              "      <td>[0]</td>\n",
              "    </tr>\n",
              "    <tr>\n",
              "      <th>5</th>\n",
              "      <td>bride wars</td>\n",
              "      <td>Regarding the three weddings I served as best...</td>\n",
              "      <td>[1]</td>\n",
              "      <td>[0]</td>\n",
              "    </tr>\n",
              "    <tr>\n",
              "      <th>6</th>\n",
              "      <td>bride wars</td>\n",
              "      <td>The worst movie of 2009, so far. And I have a...</td>\n",
              "      <td>[0]</td>\n",
              "      <td>[0]</td>\n",
              "    </tr>\n",
              "  </tbody>\n",
              "</table>\n",
              "</div>"
            ],
            "text/plain": [
              "        Movie  ... Rating_Model2\n",
              "0  bride wars  ...           [1]\n",
              "1  bride wars  ...           [1]\n",
              "2  bride wars  ...           [0]\n",
              "3  bride wars  ...           [0]\n",
              "4  bride wars  ...           [0]\n",
              "5  bride wars  ...           [0]\n",
              "6  bride wars  ...           [0]\n",
              "\n",
              "[7 rows x 4 columns]"
            ]
          },
          "metadata": {
            "tags": []
          },
          "execution_count": 144
        }
      ]
    },
    {
      "cell_type": "code",
      "metadata": {
        "id": "YCbMmg0Em-BA"
      },
      "source": [
        ""
      ],
      "execution_count": 144,
      "outputs": []
    }
  ]
}