{
  "nbformat": 4,
  "nbformat_minor": 0,
  "metadata": {
    "colab": {
      "name": "news_classification_twitter.ipynb",
      "provenance": []
    },
    "kernelspec": {
      "name": "python3",
      "display_name": "Python 3"
    }
  },
  "cells": [
    {
      "cell_type": "markdown",
      "metadata": {
        "id": "tJ2P8iHf91Hg"
      },
      "source": [
        "Train various models on the following data source of data [link text](https://archive.ics.uci.edu/ml/datasets/News+Aggregator)\n",
        "\n",
        "Train various machine learning models such as:\n",
        "\n",
        "\n",
        "1.   Logistic Regression\n",
        "2.   Decision Tree\n",
        "3.   Naive Bayes\n",
        "4.   Linear SVC\n",
        "\n",
        "\n",
        "\n",
        "Now read one tweet from 15 differnet news agency and try to put them into one of 4 categories (Business, Technology, Entertainment, medicine) using various models"
      ]
    },
    {
      "cell_type": "markdown",
      "metadata": {
        "id": "XYRDbtP89pG4"
      },
      "source": [
        "#Reading and preparing data"
      ]
    },
    {
      "cell_type": "code",
      "metadata": {
        "id": "lM1NdYr0p3x5"
      },
      "source": [
        "import pandas as pd\n",
        "import numpy as np"
      ],
      "execution_count": null,
      "outputs": []
    },
    {
      "cell_type": "markdown",
      "metadata": {
        "id": "KQfBnzNJuZ7_"
      },
      "source": [
        "source of data [link text](https://archive.ics.uci.edu/ml/datasets/News+Aggregator)"
      ]
    },
    {
      "cell_type": "code",
      "metadata": {
        "id": "a_vKQUgxqBHw"
      },
      "source": [
        "df = pd.read_csv('/content/drive/MyDrive/Colab Notebooks/Text Mining/Twitter/uci-news-aggregator.csv',encoding='latin-1')"
      ],
      "execution_count": null,
      "outputs": []
    },
    {
      "cell_type": "markdown",
      "metadata": {
        "id": "6WZIxlIxqoiN"
      },
      "source": [
        "(b = business, t = science and technology, e = entertainment, m = health)"
      ]
    },
    {
      "cell_type": "code",
      "metadata": {
        "colab": {
          "base_uri": "https://localhost:8080/",
          "height": 780
        },
        "id": "zjY_ky0_qPgQ",
        "outputId": "fc40dea1-93a0-4e2d-9eda-3f1fe2ffcad1"
      },
      "source": [
        "df[2100:2110]"
      ],
      "execution_count": null,
      "outputs": [
        {
          "output_type": "execute_result",
          "data": {
            "text/html": [
              "<div>\n",
              "<style scoped>\n",
              "    .dataframe tbody tr th:only-of-type {\n",
              "        vertical-align: middle;\n",
              "    }\n",
              "\n",
              "    .dataframe tbody tr th {\n",
              "        vertical-align: top;\n",
              "    }\n",
              "\n",
              "    .dataframe thead th {\n",
              "        text-align: right;\n",
              "    }\n",
              "</style>\n",
              "<table border=\"1\" class=\"dataframe\">\n",
              "  <thead>\n",
              "    <tr style=\"text-align: right;\">\n",
              "      <th></th>\n",
              "      <th>ID</th>\n",
              "      <th>TITLE</th>\n",
              "      <th>URL</th>\n",
              "      <th>PUBLISHER</th>\n",
              "      <th>CATEGORY</th>\n",
              "      <th>STORY</th>\n",
              "      <th>HOSTNAME</th>\n",
              "      <th>TIMESTAMP</th>\n",
              "    </tr>\n",
              "  </thead>\n",
              "  <tbody>\n",
              "    <tr>\n",
              "      <th>2100</th>\n",
              "      <td>2101</td>\n",
              "      <td>NSA Whistleblower Edward Snowden: Keep Their H...</td>\n",
              "      <td>http://readwrite.com/2014/03/10/edward-snowden...</td>\n",
              "      <td>ReadWrite</td>\n",
              "      <td>t</td>\n",
              "      <td>dqvpqdCv-IV7KrMD51wr0w-O_QIeM</td>\n",
              "      <td>readwrite.com</td>\n",
              "      <td>1394513149036</td>\n",
              "    </tr>\n",
              "    <tr>\n",
              "      <th>2101</th>\n",
              "      <td>2102</td>\n",
              "      <td>Edward Snowden Tells SXSW He'd Leak Those Secr...</td>\n",
              "      <td>http://kplu.org/post/edward-snowden-tells-sxsw...</td>\n",
              "      <td>KPLU News for Seattle and the Northwest</td>\n",
              "      <td>t</td>\n",
              "      <td>dqvpqdCv-IV7KrMD51wr0w-O_QIeM</td>\n",
              "      <td>kplu.org</td>\n",
              "      <td>1394513149255</td>\n",
              "    </tr>\n",
              "    <tr>\n",
              "      <th>2102</th>\n",
              "      <td>2103</td>\n",
              "      <td>The security vs. privacy debate is already ove...</td>\n",
              "      <td>http://washingtonexaminer.com/the-security-vs....</td>\n",
              "      <td>Washington Examiner</td>\n",
              "      <td>t</td>\n",
              "      <td>dqvpqdCv-IV7KrMD51wr0w-O_QIeM</td>\n",
              "      <td>washingtonexaminer.com</td>\n",
              "      <td>1394513149407</td>\n",
              "    </tr>\n",
              "    <tr>\n",
              "      <th>2103</th>\n",
              "      <td>2104</td>\n",
              "      <td>Snowden at SXSW: \"Would I do it again? Absolut...</td>\n",
              "      <td>http://www.philly.com/philly/blogs/inthemix/Sn...</td>\n",
              "      <td>Philly.com \\(blog\\)</td>\n",
              "      <td>t</td>\n",
              "      <td>dqvpqdCv-IV7KrMD51wr0w-O_QIeM</td>\n",
              "      <td>www.philly.com</td>\n",
              "      <td>1394513149592</td>\n",
              "    </tr>\n",
              "    <tr>\n",
              "      <th>2104</th>\n",
              "      <td>2105</td>\n",
              "      <td>Snowden to tech leaders: 'We need you to help us'</td>\n",
              "      <td>http://www.upi.com/Top_News/US/2014/03/10/Snow...</td>\n",
              "      <td>UPI.com</td>\n",
              "      <td>t</td>\n",
              "      <td>dqvpqdCv-IV7KrMD51wr0w-O_QIeM</td>\n",
              "      <td>www.upi.com</td>\n",
              "      <td>1394513149784</td>\n",
              "    </tr>\n",
              "    <tr>\n",
              "      <th>2105</th>\n",
              "      <td>2106</td>\n",
              "      <td>Edward Snowden at SXSW: Encryption is the answ...</td>\n",
              "      <td>http://www.digitaltrends.com/web/edward-snowde...</td>\n",
              "      <td>Digital Trends</td>\n",
              "      <td>t</td>\n",
              "      <td>dqvpqdCv-IV7KrMD51wr0w-O_QIeM</td>\n",
              "      <td>www.digitaltrends.com</td>\n",
              "      <td>1394513149970</td>\n",
              "    </tr>\n",
              "    <tr>\n",
              "      <th>2106</th>\n",
              "      <td>2107</td>\n",
              "      <td>Edward Snowden at SXSW: 'Absolutely' no regrets</td>\n",
              "      <td>http://metronews.ca/news/world/967201/edward-s...</td>\n",
              "      <td>MetroNews Canada</td>\n",
              "      <td>t</td>\n",
              "      <td>dqvpqdCv-IV7KrMD51wr0w-O_QIeM</td>\n",
              "      <td>metronews.ca</td>\n",
              "      <td>1394513150229</td>\n",
              "    </tr>\n",
              "    <tr>\n",
              "      <th>2107</th>\n",
              "      <td>2108</td>\n",
              "      <td>How to Use Edward Snowden's Three Tips for Dig...</td>\n",
              "      <td>http://stream.wsj.com/story/latest-headlines/S...</td>\n",
              "      <td>Wall Street Journal</td>\n",
              "      <td>t</td>\n",
              "      <td>dqvpqdCv-IV7KrMD51wr0w-O_QIeM</td>\n",
              "      <td>stream.wsj.com</td>\n",
              "      <td>1394513150406</td>\n",
              "    </tr>\n",
              "    <tr>\n",
              "      <th>2108</th>\n",
              "      <td>2109</td>\n",
              "      <td>Whistleblower Snowden Brings Message to SXSW</td>\n",
              "      <td>http://www.woai.com/articles/woai-local-news-s...</td>\n",
              "      <td>WOAI.com</td>\n",
              "      <td>t</td>\n",
              "      <td>dqvpqdCv-IV7KrMD51wr0w-O_QIeM</td>\n",
              "      <td>www.woai.com</td>\n",
              "      <td>1394513150615</td>\n",
              "    </tr>\n",
              "    <tr>\n",
              "      <th>2109</th>\n",
              "      <td>2110</td>\n",
              "      <td>Edward Snowden: Tech Giants Are Irresponsible ...</td>\n",
              "      <td>http://www.adweek.com/news/technology/edward-s...</td>\n",
              "      <td>Adweek</td>\n",
              "      <td>t</td>\n",
              "      <td>dqvpqdCv-IV7KrMD51wr0w-O_QIeM</td>\n",
              "      <td>www.adweek.com</td>\n",
              "      <td>1394513150776</td>\n",
              "    </tr>\n",
              "  </tbody>\n",
              "</table>\n",
              "</div>"
            ],
            "text/plain": [
              "        ID  ...      TIMESTAMP\n",
              "2100  2101  ...  1394513149036\n",
              "2101  2102  ...  1394513149255\n",
              "2102  2103  ...  1394513149407\n",
              "2103  2104  ...  1394513149592\n",
              "2104  2105  ...  1394513149784\n",
              "2105  2106  ...  1394513149970\n",
              "2106  2107  ...  1394513150229\n",
              "2107  2108  ...  1394513150406\n",
              "2108  2109  ...  1394513150615\n",
              "2109  2110  ...  1394513150776\n",
              "\n",
              "[10 rows x 8 columns]"
            ]
          },
          "metadata": {
            "tags": []
          },
          "execution_count": 3
        }
      ]
    },
    {
      "cell_type": "code",
      "metadata": {
        "colab": {
          "base_uri": "https://localhost:8080/",
          "height": 188
        },
        "id": "KiFKME-bqTAH",
        "outputId": "81d8cd82-24ae-4d0c-f043-4e56f20b5e24"
      },
      "source": [
        "df.tail(1)"
      ],
      "execution_count": null,
      "outputs": [
        {
          "output_type": "execute_result",
          "data": {
            "text/html": [
              "<div>\n",
              "<style scoped>\n",
              "    .dataframe tbody tr th:only-of-type {\n",
              "        vertical-align: middle;\n",
              "    }\n",
              "\n",
              "    .dataframe tbody tr th {\n",
              "        vertical-align: top;\n",
              "    }\n",
              "\n",
              "    .dataframe thead th {\n",
              "        text-align: right;\n",
              "    }\n",
              "</style>\n",
              "<table border=\"1\" class=\"dataframe\">\n",
              "  <thead>\n",
              "    <tr style=\"text-align: right;\">\n",
              "      <th></th>\n",
              "      <th>ID</th>\n",
              "      <th>TITLE</th>\n",
              "      <th>URL</th>\n",
              "      <th>PUBLISHER</th>\n",
              "      <th>CATEGORY</th>\n",
              "      <th>STORY</th>\n",
              "      <th>HOSTNAME</th>\n",
              "      <th>TIMESTAMP</th>\n",
              "    </tr>\n",
              "  </thead>\n",
              "  <tbody>\n",
              "    <tr>\n",
              "      <th>422418</th>\n",
              "      <td>422937</td>\n",
              "      <td>Phoenix boy undergoes surgery to repair throat...</td>\n",
              "      <td>http://www.cbs3springfield.com/story/26368078/...</td>\n",
              "      <td>WSHM-TV</td>\n",
              "      <td>m</td>\n",
              "      <td>dpcLMoJD69UYMXMxaoEFnWql9YjQM</td>\n",
              "      <td>www.cbs3springfield.com</td>\n",
              "      <td>1409229191565</td>\n",
              "    </tr>\n",
              "  </tbody>\n",
              "</table>\n",
              "</div>"
            ],
            "text/plain": [
              "            ID  ...      TIMESTAMP\n",
              "422418  422937  ...  1409229191565\n",
              "\n",
              "[1 rows x 8 columns]"
            ]
          },
          "metadata": {
            "tags": []
          },
          "execution_count": 4
        }
      ]
    },
    {
      "cell_type": "code",
      "metadata": {
        "colab": {
          "base_uri": "https://localhost:8080/"
        },
        "id": "ESt4uE3uqY7J",
        "outputId": "7613d99e-7f73-4378-8bc7-7ec892e4dffc"
      },
      "source": [
        "df2 = df.apply(lambda x : True\n",
        "            if x['CATEGORY'] == 'b' else False, axis = 1) \n",
        "  \n",
        "# Count number of True in the series \n",
        "num_rows = len(df2[df2 == True].index) \n",
        "  \n",
        "print('Total business article : ', \n",
        "      num_rows ) "
      ],
      "execution_count": null,
      "outputs": [
        {
          "output_type": "stream",
          "text": [
            "Total business article :  115967\n"
          ],
          "name": "stdout"
        }
      ]
    },
    {
      "cell_type": "code",
      "metadata": {
        "colab": {
          "base_uri": "https://localhost:8080/"
        },
        "id": "RK5aLEGnreEu",
        "outputId": "9affccae-597b-4ae6-a93f-38b2f2216f92"
      },
      "source": [
        "df2 = df.apply(lambda x : True\n",
        "            if x['CATEGORY'] == 't' else False, axis = 1) \n",
        "  \n",
        "# Count number of True in the series \n",
        "num_rows = len(df2[df2 == True].index) \n",
        "  \n",
        "print('Total science and tech article : ', \n",
        "      num_rows ) "
      ],
      "execution_count": null,
      "outputs": [
        {
          "output_type": "stream",
          "text": [
            "Total science and tech article :  108344\n"
          ],
          "name": "stdout"
        }
      ]
    },
    {
      "cell_type": "code",
      "metadata": {
        "colab": {
          "base_uri": "https://localhost:8080/"
        },
        "id": "j4HUMICArmWd",
        "outputId": "35a95136-3872-4c3f-b70a-eac3efb3e325"
      },
      "source": [
        "df2 = df.apply(lambda x : True\n",
        "            if x['CATEGORY'] == 'e' else False, axis = 1) \n",
        "  \n",
        "# Count number of True in the series \n",
        "num_rows = len(df2[df2 == True].index) \n",
        "  \n",
        "print('Total entertainment article: ', \n",
        "      num_rows ) "
      ],
      "execution_count": null,
      "outputs": [
        {
          "output_type": "stream",
          "text": [
            "Total entertainment article:  152469\n"
          ],
          "name": "stdout"
        }
      ]
    },
    {
      "cell_type": "code",
      "metadata": {
        "colab": {
          "base_uri": "https://localhost:8080/"
        },
        "id": "tqTMXFI5rz7H",
        "outputId": "1916686f-a892-4810-dc89-40a99dbb9ee0"
      },
      "source": [
        "df2 = df.apply(lambda x : True\n",
        "            if x['CATEGORY'] == 'm' else False, axis = 1) \n",
        "  \n",
        "# Count number of True in the series \n",
        "num_rows = len(df2[df2 == True].index) \n",
        "  \n",
        "print('Total medical article: ', \n",
        "      num_rows ) "
      ],
      "execution_count": null,
      "outputs": [
        {
          "output_type": "stream",
          "text": [
            "Total medical article:  45639\n"
          ],
          "name": "stdout"
        }
      ]
    },
    {
      "cell_type": "code",
      "metadata": {
        "id": "PWKeeiEWr9OT"
      },
      "source": [
        "df3 = df[['TITLE','CATEGORY']]"
      ],
      "execution_count": null,
      "outputs": []
    },
    {
      "cell_type": "code",
      "metadata": {
        "colab": {
          "base_uri": "https://localhost:8080/",
          "height": 206
        },
        "id": "c6MMc1inxphc",
        "outputId": "c8f08041-ba98-49cb-f2c2-6d139c86bdd8"
      },
      "source": [
        "df3.head()"
      ],
      "execution_count": null,
      "outputs": [
        {
          "output_type": "execute_result",
          "data": {
            "text/html": [
              "<div>\n",
              "<style scoped>\n",
              "    .dataframe tbody tr th:only-of-type {\n",
              "        vertical-align: middle;\n",
              "    }\n",
              "\n",
              "    .dataframe tbody tr th {\n",
              "        vertical-align: top;\n",
              "    }\n",
              "\n",
              "    .dataframe thead th {\n",
              "        text-align: right;\n",
              "    }\n",
              "</style>\n",
              "<table border=\"1\" class=\"dataframe\">\n",
              "  <thead>\n",
              "    <tr style=\"text-align: right;\">\n",
              "      <th></th>\n",
              "      <th>TITLE</th>\n",
              "      <th>CATEGORY</th>\n",
              "    </tr>\n",
              "  </thead>\n",
              "  <tbody>\n",
              "    <tr>\n",
              "      <th>0</th>\n",
              "      <td>Fed official says weak data caused by weather,...</td>\n",
              "      <td>b</td>\n",
              "    </tr>\n",
              "    <tr>\n",
              "      <th>1</th>\n",
              "      <td>Fed's Charles Plosser sees high bar for change...</td>\n",
              "      <td>b</td>\n",
              "    </tr>\n",
              "    <tr>\n",
              "      <th>2</th>\n",
              "      <td>US open: Stocks fall after Fed official hints ...</td>\n",
              "      <td>b</td>\n",
              "    </tr>\n",
              "    <tr>\n",
              "      <th>3</th>\n",
              "      <td>Fed risks falling 'behind the curve', Charles ...</td>\n",
              "      <td>b</td>\n",
              "    </tr>\n",
              "    <tr>\n",
              "      <th>4</th>\n",
              "      <td>Fed's Plosser: Nasty Weather Has Curbed Job Gr...</td>\n",
              "      <td>b</td>\n",
              "    </tr>\n",
              "  </tbody>\n",
              "</table>\n",
              "</div>"
            ],
            "text/plain": [
              "                                               TITLE CATEGORY\n",
              "0  Fed official says weak data caused by weather,...        b\n",
              "1  Fed's Charles Plosser sees high bar for change...        b\n",
              "2  US open: Stocks fall after Fed official hints ...        b\n",
              "3  Fed risks falling 'behind the curve', Charles ...        b\n",
              "4  Fed's Plosser: Nasty Weather Has Curbed Job Gr...        b"
            ]
          },
          "metadata": {
            "tags": []
          },
          "execution_count": 10
        }
      ]
    },
    {
      "cell_type": "code",
      "metadata": {
        "colab": {
          "base_uri": "https://localhost:8080/"
        },
        "id": "lXNsUobSxrRE",
        "outputId": "167ef7ac-254b-4261-f49b-1af5eb21de3b"
      },
      "source": [
        "category_no = []\n",
        "for row in df3['CATEGORY']:\n",
        "    if row == 'b':    category_no.append(0)\n",
        "    elif row == 't':  category_no.append(1)\n",
        "    elif row == 'e':  category_no.append(2)\n",
        "    elif row == 'm':  category_no.append(3)\n",
        "    \n",
        "    else:           category_no.append('Not_Rated')\n",
        "        \n",
        "# Creating a column from the list\n",
        "df3['category_no'] = category_no"
      ],
      "execution_count": null,
      "outputs": [
        {
          "output_type": "stream",
          "text": [
            "/usr/local/lib/python3.7/dist-packages/ipykernel_launcher.py:11: SettingWithCopyWarning: \n",
            "A value is trying to be set on a copy of a slice from a DataFrame.\n",
            "Try using .loc[row_indexer,col_indexer] = value instead\n",
            "\n",
            "See the caveats in the documentation: https://pandas.pydata.org/pandas-docs/stable/user_guide/indexing.html#returning-a-view-versus-a-copy\n",
            "  # This is added back by InteractiveShellApp.init_path()\n"
          ],
          "name": "stderr"
        }
      ]
    },
    {
      "cell_type": "code",
      "metadata": {
        "colab": {
          "base_uri": "https://localhost:8080/",
          "height": 206
        },
        "id": "TKB2Rts2zpOI",
        "outputId": "b2f4d905-528b-40a9-e7c1-58f3ff381897"
      },
      "source": [
        "df3.head()"
      ],
      "execution_count": null,
      "outputs": [
        {
          "output_type": "execute_result",
          "data": {
            "text/html": [
              "<div>\n",
              "<style scoped>\n",
              "    .dataframe tbody tr th:only-of-type {\n",
              "        vertical-align: middle;\n",
              "    }\n",
              "\n",
              "    .dataframe tbody tr th {\n",
              "        vertical-align: top;\n",
              "    }\n",
              "\n",
              "    .dataframe thead th {\n",
              "        text-align: right;\n",
              "    }\n",
              "</style>\n",
              "<table border=\"1\" class=\"dataframe\">\n",
              "  <thead>\n",
              "    <tr style=\"text-align: right;\">\n",
              "      <th></th>\n",
              "      <th>TITLE</th>\n",
              "      <th>CATEGORY</th>\n",
              "      <th>category_no</th>\n",
              "    </tr>\n",
              "  </thead>\n",
              "  <tbody>\n",
              "    <tr>\n",
              "      <th>0</th>\n",
              "      <td>Fed official says weak data caused by weather,...</td>\n",
              "      <td>b</td>\n",
              "      <td>0</td>\n",
              "    </tr>\n",
              "    <tr>\n",
              "      <th>1</th>\n",
              "      <td>Fed's Charles Plosser sees high bar for change...</td>\n",
              "      <td>b</td>\n",
              "      <td>0</td>\n",
              "    </tr>\n",
              "    <tr>\n",
              "      <th>2</th>\n",
              "      <td>US open: Stocks fall after Fed official hints ...</td>\n",
              "      <td>b</td>\n",
              "      <td>0</td>\n",
              "    </tr>\n",
              "    <tr>\n",
              "      <th>3</th>\n",
              "      <td>Fed risks falling 'behind the curve', Charles ...</td>\n",
              "      <td>b</td>\n",
              "      <td>0</td>\n",
              "    </tr>\n",
              "    <tr>\n",
              "      <th>4</th>\n",
              "      <td>Fed's Plosser: Nasty Weather Has Curbed Job Gr...</td>\n",
              "      <td>b</td>\n",
              "      <td>0</td>\n",
              "    </tr>\n",
              "  </tbody>\n",
              "</table>\n",
              "</div>"
            ],
            "text/plain": [
              "                                               TITLE CATEGORY  category_no\n",
              "0  Fed official says weak data caused by weather,...        b            0\n",
              "1  Fed's Charles Plosser sees high bar for change...        b            0\n",
              "2  US open: Stocks fall after Fed official hints ...        b            0\n",
              "3  Fed risks falling 'behind the curve', Charles ...        b            0\n",
              "4  Fed's Plosser: Nasty Weather Has Curbed Job Gr...        b            0"
            ]
          },
          "metadata": {
            "tags": []
          },
          "execution_count": 12
        }
      ]
    },
    {
      "cell_type": "code",
      "metadata": {
        "colab": {
          "base_uri": "https://localhost:8080/",
          "height": 206
        },
        "id": "lH9NtCpRzvio",
        "outputId": "a7772271-392a-4c7a-afc3-c5877a568395"
      },
      "source": [
        "df3.tail()"
      ],
      "execution_count": null,
      "outputs": [
        {
          "output_type": "execute_result",
          "data": {
            "text/html": [
              "<div>\n",
              "<style scoped>\n",
              "    .dataframe tbody tr th:only-of-type {\n",
              "        vertical-align: middle;\n",
              "    }\n",
              "\n",
              "    .dataframe tbody tr th {\n",
              "        vertical-align: top;\n",
              "    }\n",
              "\n",
              "    .dataframe thead th {\n",
              "        text-align: right;\n",
              "    }\n",
              "</style>\n",
              "<table border=\"1\" class=\"dataframe\">\n",
              "  <thead>\n",
              "    <tr style=\"text-align: right;\">\n",
              "      <th></th>\n",
              "      <th>TITLE</th>\n",
              "      <th>CATEGORY</th>\n",
              "      <th>category_no</th>\n",
              "    </tr>\n",
              "  </thead>\n",
              "  <tbody>\n",
              "    <tr>\n",
              "      <th>422414</th>\n",
              "      <td>Surgeons to remove 4-year-old's rib to rebuild...</td>\n",
              "      <td>m</td>\n",
              "      <td>3</td>\n",
              "    </tr>\n",
              "    <tr>\n",
              "      <th>422415</th>\n",
              "      <td>Boy to have surgery on esophagus after battery...</td>\n",
              "      <td>m</td>\n",
              "      <td>3</td>\n",
              "    </tr>\n",
              "    <tr>\n",
              "      <th>422416</th>\n",
              "      <td>Child who swallowed battery to have reconstruc...</td>\n",
              "      <td>m</td>\n",
              "      <td>3</td>\n",
              "    </tr>\n",
              "    <tr>\n",
              "      <th>422417</th>\n",
              "      <td>Phoenix boy undergoes surgery to repair throat...</td>\n",
              "      <td>m</td>\n",
              "      <td>3</td>\n",
              "    </tr>\n",
              "    <tr>\n",
              "      <th>422418</th>\n",
              "      <td>Phoenix boy undergoes surgery to repair throat...</td>\n",
              "      <td>m</td>\n",
              "      <td>3</td>\n",
              "    </tr>\n",
              "  </tbody>\n",
              "</table>\n",
              "</div>"
            ],
            "text/plain": [
              "                                                    TITLE CATEGORY  category_no\n",
              "422414  Surgeons to remove 4-year-old's rib to rebuild...        m            3\n",
              "422415  Boy to have surgery on esophagus after battery...        m            3\n",
              "422416  Child who swallowed battery to have reconstruc...        m            3\n",
              "422417  Phoenix boy undergoes surgery to repair throat...        m            3\n",
              "422418  Phoenix boy undergoes surgery to repair throat...        m            3"
            ]
          },
          "metadata": {
            "tags": []
          },
          "execution_count": 13
        }
      ]
    },
    {
      "cell_type": "markdown",
      "metadata": {
        "id": "Aoe60uMAHpPv"
      },
      "source": [
        "#Making Machine learning models"
      ]
    },
    {
      "cell_type": "markdown",
      "metadata": {
        "id": "05ep1xdeHueU"
      },
      "source": [
        "***Train test split***"
      ]
    },
    {
      "cell_type": "code",
      "metadata": {
        "id": "3_e0TARdHO9S"
      },
      "source": [
        "from sklearn.model_selection import train_test_split\n",
        "X_train, X_test, y_train,y_test = train_test_split(df3['TITLE'],df3['category_no'],random_state=0)"
      ],
      "execution_count": null,
      "outputs": []
    },
    {
      "cell_type": "markdown",
      "metadata": {
        "id": "0Da7_uwYHyx7"
      },
      "source": [
        "***Vectorizing***"
      ]
    },
    {
      "cell_type": "code",
      "metadata": {
        "id": "xlf1_VOYHYpG"
      },
      "source": [
        "from sklearn.feature_extraction.text import TfidfVectorizer\n",
        "\n",
        "vect = TfidfVectorizer(min_df=5,ngram_range=(1,3)).fit(X_train)\n",
        "len(vect.get_feature_names())\n",
        "X_train_vectorized = vect.transform(X_train)"
      ],
      "execution_count": null,
      "outputs": []
    },
    {
      "cell_type": "markdown",
      "metadata": {
        "id": "73MQlh-UoNGR"
      },
      "source": [
        "***Logistic Regression***"
      ]
    },
    {
      "cell_type": "code",
      "metadata": {
        "id": "TG6_-hByjpPt"
      },
      "source": [
        "from sklearn.linear_model import LogisticRegression"
      ],
      "execution_count": null,
      "outputs": []
    },
    {
      "cell_type": "code",
      "metadata": {
        "colab": {
          "base_uri": "https://localhost:8080/"
        },
        "id": "XaoTIGO2KIxS",
        "outputId": "b71233f5-bdd4-464a-d656-b7f41fff378c"
      },
      "source": [
        "\n",
        "model = LogisticRegression()\n",
        "model.fit(X_train_vectorized,y_train)\n",
        "predictions = model.predict(vect.transform(X_test))\n",
        "accuracy = model.score(vect.transform(X_test), y_test) \n",
        "print(accuracy)\n"
      ],
      "execution_count": null,
      "outputs": [
        {
          "output_type": "stream",
          "text": [
            "/usr/local/lib/python3.7/dist-packages/sklearn/linear_model/_logistic.py:940: ConvergenceWarning: lbfgs failed to converge (status=1):\n",
            "STOP: TOTAL NO. of ITERATIONS REACHED LIMIT.\n",
            "\n",
            "Increase the number of iterations (max_iter) or scale the data as shown in:\n",
            "    https://scikit-learn.org/stable/modules/preprocessing.html\n",
            "Please also refer to the documentation for alternative solver options:\n",
            "    https://scikit-learn.org/stable/modules/linear_model.html#logistic-regression\n",
            "  extra_warning_msg=_LOGISTIC_SOLVER_CONVERGENCE_MSG)\n"
          ],
          "name": "stderr"
        },
        {
          "output_type": "stream",
          "text": [
            "0.9486672032574215\n"
          ],
          "name": "stdout"
        }
      ]
    },
    {
      "cell_type": "code",
      "metadata": {
        "colab": {
          "base_uri": "https://localhost:8080/",
          "height": 606
        },
        "id": "r4oUJqE2kMAu",
        "outputId": "a7529bea-2c35-447d-8890-76e1ca2646e5"
      },
      "source": [
        "from sklearn.metrics import confusion_matrix\n",
        "import matplotlib.pyplot as plt\n",
        "import seaborn as sns\n",
        "\n",
        "cm = confusion_matrix(y_test,predictions)\n",
        "fig, ax = plt.subplots(figsize=(10,10))\n",
        "sns.heatmap(cm, annot=True, fmt='d')\n",
        "plt.ylabel('Actual')\n",
        "plt.xlabel('Predicted')\n",
        "plt.show()"
      ],
      "execution_count": null,
      "outputs": [
        {
          "output_type": "display_data",
          "data": {
            "image/png": "[encoded data removed]",
            "text/plain": [
              "<Figure size 720x720 with 2 Axes>"
            ]
          },
          "metadata": {
            "tags": [],
            "needs_background": "light"
          }
        }
      ]
    },
    {
      "cell_type": "markdown",
      "metadata": {
        "id": "e6Ysa1iIoORK"
      },
      "source": [
        "***DecisionTreeClassifier***"
      ]
    },
    {
      "cell_type": "code",
      "metadata": {
        "colab": {
          "base_uri": "https://localhost:8080/"
        },
        "id": "8y1kRRgikWYy",
        "outputId": "9fa9a4a4-0666-4fa5-dbc9-18f83c9574e0"
      },
      "source": [
        "from sklearn.tree import DecisionTreeClassifier \n",
        "dtree_model = DecisionTreeClassifier(max_depth = 4).fit(X_train_vectorized,y_train) \n",
        "\n",
        "predictions = dtree_model.predict(vect.transform(X_test))\n",
        "accuracy = dtree_model.score(vect.transform(X_test), y_test) \n",
        "print(accuracy)"
      ],
      "execution_count": null,
      "outputs": [
        {
          "output_type": "stream",
          "text": [
            "0.4346385114341177\n"
          ],
          "name": "stdout"
        }
      ]
    },
    {
      "cell_type": "code",
      "metadata": {
        "colab": {
          "base_uri": "https://localhost:8080/",
          "height": 606
        },
        "id": "yMhLkeB0o4yU",
        "outputId": "05065b26-0ef4-4c8a-8cfc-db6279d7a0b1"
      },
      "source": [
        "\n",
        "cm = confusion_matrix(y_test,predictions)\n",
        "fig, ax = plt.subplots(figsize=(10,10))\n",
        "sns.heatmap(cm, annot=True, fmt='d')\n",
        "plt.ylabel('Actual')\n",
        "plt.xlabel('Predicted')\n",
        "plt.show()"
      ],
      "execution_count": null,
      "outputs": [
        {
          "output_type": "display_data",
          "data": {
            "image/png": "[encoded data removed]",
            "text/plain": [
              "<Figure size 720x720 with 2 Axes>"
            ]
          },
          "metadata": {
            "tags": [],
            "needs_background": "light"
          }
        }
      ]
    },
    {
      "cell_type": "markdown",
      "metadata": {
        "id": "aj_5GnegpK6k"
      },
      "source": [
        "***MultinomialNB***"
      ]
    },
    {
      "cell_type": "code",
      "metadata": {
        "colab": {
          "base_uri": "https://localhost:8080/"
        },
        "id": "kaQJ8RNYj6sw",
        "outputId": "59dce32c-d2bb-4563-90af-0d2fcb25be96"
      },
      "source": [
        "from sklearn.naive_bayes import MultinomialNB\n",
        "nb_model = MultinomialNB().fit(X_train_vectorized,y_train)\n",
        "nb_predictions = nb_model.predict(vect.transform(X_test)) \n",
        "accuracy = nb_model.score(vect.transform(X_test), y_test) \n",
        "print(accuracy)"
      ],
      "execution_count": null,
      "outputs": [
        {
          "output_type": "stream",
          "text": [
            "0.9342644761138204\n"
          ],
          "name": "stdout"
        }
      ]
    },
    {
      "cell_type": "code",
      "metadata": {
        "colab": {
          "base_uri": "https://localhost:8080/",
          "height": 606
        },
        "id": "AwX9LtIglTwG",
        "outputId": "ba23f7fa-54c3-4020-c236-c02dd6a7aac3"
      },
      "source": [
        "\n",
        "cm = confusion_matrix(y_test,nb_predictions)\n",
        "fig, ax = plt.subplots(figsize=(10,10))\n",
        "sns.heatmap(cm, annot=True, fmt='d')\n",
        "plt.ylabel('Actual')\n",
        "plt.xlabel('Predicted')\n",
        "plt.show()"
      ],
      "execution_count": null,
      "outputs": [
        {
          "output_type": "display_data",
          "data": {
            "image/png": "[encoded data removed]",
            "text/plain": [
              "<Figure size 720x720 with 2 Axes>"
            ]
          },
          "metadata": {
            "tags": [],
            "needs_background": "light"
          }
        }
      ]
    },
    {
      "cell_type": "markdown",
      "metadata": {
        "id": "HXE65l5i04rQ"
      },
      "source": [
        "***Support Vector Machine***"
      ]
    },
    {
      "cell_type": "code",
      "metadata": {
        "colab": {
          "base_uri": "https://localhost:8080/"
        },
        "id": "ueESCOGAyX9I",
        "outputId": "f809557f-cc0e-4889-e152-553e332b483d"
      },
      "source": [
        "from sklearn.svm import LinearSVC\n",
        "svc_model = LinearSVC().fit(X_train_vectorized,y_train)\n",
        "svc_predictions = svc_model.predict(vect.transform(X_test)) \n",
        "accuracy = svc_model.score(vect.transform(X_test), y_test) \n",
        "print(accuracy)\n"
      ],
      "execution_count": null,
      "outputs": [
        {
          "output_type": "stream",
          "text": [
            "0.9562520713981345\n"
          ],
          "name": "stdout"
        }
      ]
    },
    {
      "cell_type": "code",
      "metadata": {
        "colab": {
          "base_uri": "https://localhost:8080/",
          "height": 606
        },
        "id": "vkcVMmDXy1O3",
        "outputId": "a6127020-1b5e-4bdd-bdbd-98d90b916749"
      },
      "source": [
        "cm = confusion_matrix(y_test,svc_predictions)\n",
        "fig, ax = plt.subplots(figsize=(10,10))\n",
        "sns.heatmap(cm, annot=True, fmt='d')\n",
        "plt.ylabel('Actual')\n",
        "plt.xlabel('Predicted')\n",
        "plt.show()"
      ],
      "execution_count": null,
      "outputs": [
        {
          "output_type": "display_data",
          "data": {
            "image/png": "[encoded data removed]",
            "text/plain": [
              "<Figure size 720x720 with 2 Axes>"
            ]
          },
          "metadata": {
            "tags": [],
            "needs_background": "light"
          }
        }
      ]
    },
    {
      "cell_type": "markdown",
      "metadata": {
        "id": "j-TTGasi1T1G"
      },
      "source": [
        "#Extracting news from twitter and predicting"
      ]
    },
    {
      "cell_type": "code",
      "metadata": {
        "id": "cpwBrsJ61Erz"
      },
      "source": [
        "import tweepy"
      ],
      "execution_count": null,
      "outputs": []
    },
    {
      "cell_type": "code",
      "metadata": {
        "id": "40b3gAro1y45"
      },
      "source": [
        "import csv\n",
        "reader = csv.reader(open('/content/drive/MyDrive/Colab Notebooks/Text Mining/Twitter/key.csv', 'r'))\n",
        "d = {}\n",
        "for row in reader:\n",
        "   k, v = row\n",
        "   d[k] = v"
      ],
      "execution_count": null,
      "outputs": []
    },
    {
      "cell_type": "code",
      "metadata": {
        "id": "XuyclYF111Yr"
      },
      "source": [
        "# Creating the authentication object\n",
        "auth = tweepy.OAuthHandler(d['C_KEY'],d['C_SECRET'])\n",
        "# Setting your access token and secret\n",
        "auth.set_access_token(d['A_TOKEN'], d['A_SECRET'])\n",
        "# Creating the API object while passing in auth information\n",
        "api = tweepy.API(auth)"
      ],
      "execution_count": null,
      "outputs": []
    },
    {
      "cell_type": "code",
      "metadata": {
        "id": "bYptfEQ72h46"
      },
      "source": [
        "news_agency = [\"Reuters\",\"pacificbiznews\",\"enews\",\"WIRED\",\"MTVNEWS\",\"ReutersScience\",\"SkySports\",\"YourAnonNews\",\"NDTVProfit\",\"medical_xpress\",\"mnt\",\"wwos\",\"Sport24news\",\"gmanews\",\"TheHackersNews\"]"
      ],
      "execution_count": null,
      "outputs": []
    },
    {
      "cell_type": "code",
      "metadata": {
        "colab": {
          "base_uri": "https://localhost:8080/"
        },
        "id": "SW7vhN6_6IzJ",
        "outputId": "190204b5-c5fd-4e8b-d876-d41cd1124c4c"
      },
      "source": [
        "len(news_agency)"
      ],
      "execution_count": null,
      "outputs": [
        {
          "output_type": "execute_result",
          "data": {
            "text/plain": [
              "15"
            ]
          },
          "metadata": {
            "tags": []
          },
          "execution_count": 29
        }
      ]
    },
    {
      "cell_type": "markdown",
      "metadata": {
        "id": "jR0VFVMe8TBB"
      },
      "source": [
        "***Prediction Using Logistic Regression***"
      ]
    },
    {
      "cell_type": "code",
      "metadata": {
        "id": "-av1wqM5_AoC"
      },
      "source": [
        "df = df = pd.DataFrame(columns = ['News_agency', 'Tweet','Logistic_R','NB','SVC']) "
      ],
      "execution_count": null,
      "outputs": []
    },
    {
      "cell_type": "code",
      "metadata": {
        "id": "X6nkaGLc_Kx6"
      },
      "source": [
        "#df['News_agency'] = np.array(news_agency)"
      ],
      "execution_count": null,
      "outputs": []
    },
    {
      "cell_type": "code",
      "metadata": {
        "colab": {
          "base_uri": "https://localhost:8080/",
          "height": 49
        },
        "id": "wW5ca-DnAtSK",
        "outputId": "0360ee00-93ff-44e9-b344-26ce8e482847"
      },
      "source": [
        "df.head()"
      ],
      "execution_count": null,
      "outputs": [
        {
          "output_type": "execute_result",
          "data": {
            "text/html": [
              "<div>\n",
              "<style scoped>\n",
              "    .dataframe tbody tr th:only-of-type {\n",
              "        vertical-align: middle;\n",
              "    }\n",
              "\n",
              "    .dataframe tbody tr th {\n",
              "        vertical-align: top;\n",
              "    }\n",
              "\n",
              "    .dataframe thead th {\n",
              "        text-align: right;\n",
              "    }\n",
              "</style>\n",
              "<table border=\"1\" class=\"dataframe\">\n",
              "  <thead>\n",
              "    <tr style=\"text-align: right;\">\n",
              "      <th></th>\n",
              "      <th>News_agency</th>\n",
              "      <th>Tweet</th>\n",
              "      <th>Logistic_R</th>\n",
              "      <th>NB</th>\n",
              "      <th>SVC</th>\n",
              "    </tr>\n",
              "  </thead>\n",
              "  <tbody>\n",
              "  </tbody>\n",
              "</table>\n",
              "</div>"
            ],
            "text/plain": [
              "Empty DataFrame\n",
              "Columns: [News_agency, Tweet, Logistic_R, NB, SVC]\n",
              "Index: []"
            ]
          },
          "metadata": {
            "tags": []
          },
          "execution_count": 32
        }
      ]
    },
    {
      "cell_type": "code",
      "metadata": {
        "id": "LvAP_MToBC_s"
      },
      "source": [
        "agency = []\n",
        "tweets = []\n",
        "LR = []\n",
        "NB = []\n",
        "SVC = []"
      ],
      "execution_count": null,
      "outputs": []
    },
    {
      "cell_type": "code",
      "metadata": {
        "id": "8Jf0u_0c6L3m"
      },
      "source": [
        "for name in news_agency:\n",
        "  # Number of tweets to pull\n",
        "  tweetCount = 2\n",
        "\n",
        "  # Calling the user_timeline function with our parameters\n",
        "  results = api.user_timeline(id=name, count=tweetCount)\n",
        "\n",
        "  # foreach through all tweets pulled\n",
        "  for tweet in results:\n",
        "    # printing the text stored inside the tweet object\n",
        "    tweets.append(tweet.text)\n",
        "    agency.append(name)\n",
        "    \n",
        "    prediction1 = model.predict(vect.transform([tweet.text]))\n",
        "    if(prediction1[0]==0):\n",
        "      output1 = 'Business'\n",
        "    elif(prediction1[0]==1):\n",
        "      output1 = 'Technology'\n",
        "    elif(prediction1[0]==2):\n",
        "      output1 = 'Entertainment'\n",
        "    else:\n",
        "      output1 = 'Medicine'\n",
        "    LR.append(output1)\n",
        "    \n",
        "\n",
        "    prediction2 = nb_model.predict(vect.transform([tweet.text]))\n",
        "    if(prediction2[0]==0):\n",
        "      output2 = 'Business'\n",
        "    elif(prediction2[0]==1):\n",
        "      output2 = 'Technology'\n",
        "    elif(prediction2[0]==2):\n",
        "      output2 = 'Entertainment'\n",
        "    else:\n",
        "      output2 = 'Medicine'\n",
        "      \n",
        "    NB.append(output2)\n",
        "\n",
        "\n",
        "    prediction3 = svc_model.predict(vect.transform([tweet.text]))\n",
        "    if(prediction3[0]==0):\n",
        "      output3 = 'Business'\n",
        "    elif(prediction3[0]==1):\n",
        "      output3 = 'Technology'\n",
        "    elif(prediction3[0]==2):\n",
        "      output3 = 'Entertainment'\n",
        "    else:\n",
        "      output3 = 'Medicine'\n",
        "    SVC.append(output3)\n",
        "      "
      ],
      "execution_count": null,
      "outputs": []
    },
    {
      "cell_type": "code",
      "metadata": {
        "colab": {
          "base_uri": "https://localhost:8080/",
          "height": 49
        },
        "id": "ikudUQdSBra5",
        "outputId": "022a8207-735a-444a-a72d-dc8fc8e5b020"
      },
      "source": [
        "df.head()"
      ],
      "execution_count": null,
      "outputs": [
        {
          "output_type": "execute_result",
          "data": {
            "text/html": [
              "<div>\n",
              "<style scoped>\n",
              "    .dataframe tbody tr th:only-of-type {\n",
              "        vertical-align: middle;\n",
              "    }\n",
              "\n",
              "    .dataframe tbody tr th {\n",
              "        vertical-align: top;\n",
              "    }\n",
              "\n",
              "    .dataframe thead th {\n",
              "        text-align: right;\n",
              "    }\n",
              "</style>\n",
              "<table border=\"1\" class=\"dataframe\">\n",
              "  <thead>\n",
              "    <tr style=\"text-align: right;\">\n",
              "      <th></th>\n",
              "      <th>News_agency</th>\n",
              "      <th>Tweet</th>\n",
              "      <th>Logistic_R</th>\n",
              "      <th>NB</th>\n",
              "      <th>SVC</th>\n",
              "    </tr>\n",
              "  </thead>\n",
              "  <tbody>\n",
              "  </tbody>\n",
              "</table>\n",
              "</div>"
            ],
            "text/plain": [
              "Empty DataFrame\n",
              "Columns: [News_agency, Tweet, Logistic_R, NB, SVC]\n",
              "Index: []"
            ]
          },
          "metadata": {
            "tags": []
          },
          "execution_count": 35
        }
      ]
    },
    {
      "cell_type": "code",
      "metadata": {
        "id": "tUww6cpaBk03"
      },
      "source": [
        "df['News_agency'] = np.array(agency)\n",
        "df['Tweet'] = np.array(tweets)\n",
        "df['Logistic_R'] = np.array(LR)\n",
        "df['NB'] = np.array(NB)\n",
        "df['SVC'] = np.array(SVC)"
      ],
      "execution_count": null,
      "outputs": []
    },
    {
      "cell_type": "code",
      "metadata": {
        "colab": {
          "base_uri": "https://localhost:8080/",
          "height": 990
        },
        "id": "M9WxsQ8BCAix",
        "outputId": "c304bac8-db65-4c64-cd78-a79db54099d2"
      },
      "source": [
        "df"
      ],
      "execution_count": null,
      "outputs": [
        {
          "output_type": "execute_result",
          "data": {
            "text/html": [
              "<div>\n",
              "<style scoped>\n",
              "    .dataframe tbody tr th:only-of-type {\n",
              "        vertical-align: middle;\n",
              "    }\n",
              "\n",
              "    .dataframe tbody tr th {\n",
              "        vertical-align: top;\n",
              "    }\n",
              "\n",
              "    .dataframe thead th {\n",
              "        text-align: right;\n",
              "    }\n",
              "</style>\n",
              "<table border=\"1\" class=\"dataframe\">\n",
              "  <thead>\n",
              "    <tr style=\"text-align: right;\">\n",
              "      <th></th>\n",
              "      <th>News_agency</th>\n",
              "      <th>Tweet</th>\n",
              "      <th>Logistic_R</th>\n",
              "      <th>NB</th>\n",
              "      <th>SVC</th>\n",
              "    </tr>\n",
              "  </thead>\n",
              "  <tbody>\n",
              "    <tr>\n",
              "      <th>0</th>\n",
              "      <td>Reuters</td>\n",
              "      <td>Hong Kong hikes share trading tax, bourse's st...</td>\n",
              "      <td>Business</td>\n",
              "      <td>Business</td>\n",
              "      <td>Business</td>\n",
              "    </tr>\n",
              "    <tr>\n",
              "      <th>1</th>\n",
              "      <td>Reuters</td>\n",
              "      <td>Upbeat German data lifts European shares; Puma...</td>\n",
              "      <td>Business</td>\n",
              "      <td>Business</td>\n",
              "      <td>Business</td>\n",
              "    </tr>\n",
              "    <tr>\n",
              "      <th>2</th>\n",
              "      <td>pacificbiznews</td>\n",
              "      <td>For the full year, Matson reported net income ...</td>\n",
              "      <td>Business</td>\n",
              "      <td>Business</td>\n",
              "      <td>Business</td>\n",
              "    </tr>\n",
              "    <tr>\n",
              "      <th>3</th>\n",
              "      <td>pacificbiznews</td>\n",
              "      <td>The change will happen at 12:01 a.m. on Thursd...</td>\n",
              "      <td>Entertainment</td>\n",
              "      <td>Technology</td>\n",
              "      <td>Entertainment</td>\n",
              "    </tr>\n",
              "    <tr>\n",
              "      <th>4</th>\n",
              "      <td>enews</td>\n",
              "      <td>Inside Clare Crawley and Dale Moss' \"Plans for...</td>\n",
              "      <td>Business</td>\n",
              "      <td>Entertainment</td>\n",
              "      <td>Entertainment</td>\n",
              "    </tr>\n",
              "    <tr>\n",
              "      <th>5</th>\n",
              "      <td>enews</td>\n",
              "      <td>Nicola Coughlan Makes a Very Bridgerton-Inspir...</td>\n",
              "      <td>Entertainment</td>\n",
              "      <td>Entertainment</td>\n",
              "      <td>Entertainment</td>\n",
              "    </tr>\n",
              "    <tr>\n",
              "      <th>6</th>\n",
              "      <td>WIRED</td>\n",
              "      <td>You don't need to spend an arm and a leg to pl...</td>\n",
              "      <td>Technology</td>\n",
              "      <td>Technology</td>\n",
              "      <td>Entertainment</td>\n",
              "    </tr>\n",
              "    <tr>\n",
              "      <th>7</th>\n",
              "      <td>WIRED</td>\n",
              "      <td>“In roughly three decades, the global populati...</td>\n",
              "      <td>Business</td>\n",
              "      <td>Technology</td>\n",
              "      <td>Technology</td>\n",
              "    </tr>\n",
              "    <tr>\n",
              "      <th>8</th>\n",
              "      <td>MTVNEWS</td>\n",
              "      <td>RT @ziggymarley: .@maluma speaks on our collab...</td>\n",
              "      <td>Entertainment</td>\n",
              "      <td>Technology</td>\n",
              "      <td>Entertainment</td>\n",
              "    </tr>\n",
              "    <tr>\n",
              "      <th>9</th>\n",
              "      <td>MTVNEWS</td>\n",
              "      <td>.@Dometi_ asked young Black lawmakers what mot...</td>\n",
              "      <td>Business</td>\n",
              "      <td>Business</td>\n",
              "      <td>Business</td>\n",
              "    </tr>\n",
              "    <tr>\n",
              "      <th>10</th>\n",
              "      <td>ReutersScience</td>\n",
              "      <td>A wild and ailing sheep found in a forest in A...</td>\n",
              "      <td>Technology</td>\n",
              "      <td>Technology</td>\n",
              "      <td>Technology</td>\n",
              "    </tr>\n",
              "    <tr>\n",
              "      <th>11</th>\n",
              "      <td>ReutersScience</td>\n",
              "      <td>A wild and ailing sheep found in a forest in A...</td>\n",
              "      <td>Technology</td>\n",
              "      <td>Technology</td>\n",
              "      <td>Technology</td>\n",
              "    </tr>\n",
              "    <tr>\n",
              "      <th>12</th>\n",
              "      <td>SkySports</td>\n",
              "      <td>England are underway having won the toss and c...</td>\n",
              "      <td>Business</td>\n",
              "      <td>Medicine</td>\n",
              "      <td>Business</td>\n",
              "    </tr>\n",
              "    <tr>\n",
              "      <th>13</th>\n",
              "      <td>SkySports</td>\n",
              "      <td>From multiple back surgeries to winning a majo...</td>\n",
              "      <td>Business</td>\n",
              "      <td>Entertainment</td>\n",
              "      <td>Medicine</td>\n",
              "    </tr>\n",
              "    <tr>\n",
              "      <th>14</th>\n",
              "      <td>YourAnonNews</td>\n",
              "      <td>Myanmar Leaks show the relation between genoci...</td>\n",
              "      <td>Business</td>\n",
              "      <td>Business</td>\n",
              "      <td>Business</td>\n",
              "    </tr>\n",
              "    <tr>\n",
              "      <th>15</th>\n",
              "      <td>YourAnonNews</td>\n",
              "      <td>RT @NatSecGeek: Bofa: \"The confidential inform...</td>\n",
              "      <td>Business</td>\n",
              "      <td>Business</td>\n",
              "      <td>Business</td>\n",
              "    </tr>\n",
              "    <tr>\n",
              "      <th>16</th>\n",
              "      <td>NDTVProfit</td>\n",
              "      <td>Maruti Suzuki Launches All-New Swift 2021; Sha...</td>\n",
              "      <td>Business</td>\n",
              "      <td>Technology</td>\n",
              "      <td>Technology</td>\n",
              "    </tr>\n",
              "    <tr>\n",
              "      <th>17</th>\n",
              "      <td>NDTVProfit</td>\n",
              "      <td>Nifty, Bank Nifty Live Prices Not Updating Acr...</td>\n",
              "      <td>Business</td>\n",
              "      <td>Business</td>\n",
              "      <td>Business</td>\n",
              "    </tr>\n",
              "    <tr>\n",
              "      <th>18</th>\n",
              "      <td>medical_xpress</td>\n",
              "      <td>Seeing #schizophrenia: X-rays shed light on ne...</td>\n",
              "      <td>Technology</td>\n",
              "      <td>Technology</td>\n",
              "      <td>Technology</td>\n",
              "    </tr>\n",
              "    <tr>\n",
              "      <th>19</th>\n",
              "      <td>medical_xpress</td>\n",
              "      <td>Certain occupations may be associated with hig...</td>\n",
              "      <td>Medicine</td>\n",
              "      <td>Medicine</td>\n",
              "      <td>Medicine</td>\n",
              "    </tr>\n",
              "    <tr>\n",
              "      <th>20</th>\n",
              "      <td>mnt</td>\n",
              "      <td>New research finds that online searches can ac...</td>\n",
              "      <td>Medicine</td>\n",
              "      <td>Medicine</td>\n",
              "      <td>Medicine</td>\n",
              "    </tr>\n",
              "    <tr>\n",
              "      <th>21</th>\n",
              "      <td>mnt</td>\n",
              "      <td>#CreutzfeldtJakobDisease is a neurodegenerativ...</td>\n",
              "      <td>Medicine</td>\n",
              "      <td>Technology</td>\n",
              "      <td>Business</td>\n",
              "    </tr>\n",
              "    <tr>\n",
              "      <th>22</th>\n",
              "      <td>wwos</td>\n",
              "      <td>RT @RugbyOnNine: Olivia Fox visits @StanSportA...</td>\n",
              "      <td>Entertainment</td>\n",
              "      <td>Entertainment</td>\n",
              "      <td>Entertainment</td>\n",
              "    </tr>\n",
              "    <tr>\n",
              "      <th>23</th>\n",
              "      <td>wwos</td>\n",
              "      <td>Mitchell Starc has withdrawn from the NSW squa...</td>\n",
              "      <td>Entertainment</td>\n",
              "      <td>Entertainment</td>\n",
              "      <td>Entertainment</td>\n",
              "    </tr>\n",
              "    <tr>\n",
              "      <th>24</th>\n",
              "      <td>Sport24news</td>\n",
              "      <td>Kaizer Chiefs coach Gavin Hunt was disappointe...</td>\n",
              "      <td>Entertainment</td>\n",
              "      <td>Entertainment</td>\n",
              "      <td>Entertainment</td>\n",
              "    </tr>\n",
              "    <tr>\n",
              "      <th>25</th>\n",
              "      <td>Sport24news</td>\n",
              "      <td>Ox Nche on Siya Kolisi's first hit-out: 'Young...</td>\n",
              "      <td>Entertainment</td>\n",
              "      <td>Entertainment</td>\n",
              "      <td>Entertainment</td>\n",
              "    </tr>\n",
              "    <tr>\n",
              "      <th>26</th>\n",
              "      <td>gmanews</td>\n",
              "      <td>Vanessa Bryant took to Instagram to express he...</td>\n",
              "      <td>Entertainment</td>\n",
              "      <td>Entertainment</td>\n",
              "      <td>Entertainment</td>\n",
              "    </tr>\n",
              "    <tr>\n",
              "      <th>27</th>\n",
              "      <td>gmanews</td>\n",
              "      <td>Roque on deploying Pinoy health workers for CO...</td>\n",
              "      <td>Medicine</td>\n",
              "      <td>Medicine</td>\n",
              "      <td>Medicine</td>\n",
              "    </tr>\n",
              "    <tr>\n",
              "      <th>28</th>\n",
              "      <td>TheHackersNews</td>\n",
              "      <td>Critical RCE vulnerabilities discovered in #VM...</td>\n",
              "      <td>Technology</td>\n",
              "      <td>Technology</td>\n",
              "      <td>Technology</td>\n",
              "    </tr>\n",
              "    <tr>\n",
              "      <th>29</th>\n",
              "      <td>TheHackersNews</td>\n",
              "      <td>RT @TheHackersNews: Researchers demonstrate a ...</td>\n",
              "      <td>Technology</td>\n",
              "      <td>Technology</td>\n",
              "      <td>Technology</td>\n",
              "    </tr>\n",
              "  </tbody>\n",
              "</table>\n",
              "</div>"
            ],
            "text/plain": [
              "       News_agency  ...            SVC\n",
              "0          Reuters  ...       Business\n",
              "1          Reuters  ...       Business\n",
              "2   pacificbiznews  ...       Business\n",
              "3   pacificbiznews  ...  Entertainment\n",
              "4            enews  ...  Entertainment\n",
              "5            enews  ...  Entertainment\n",
              "6            WIRED  ...  Entertainment\n",
              "7            WIRED  ...     Technology\n",
              "8          MTVNEWS  ...  Entertainment\n",
              "9          MTVNEWS  ...       Business\n",
              "10  ReutersScience  ...     Technology\n",
              "11  ReutersScience  ...     Technology\n",
              "12       SkySports  ...       Business\n",
              "13       SkySports  ...       Medicine\n",
              "14    YourAnonNews  ...       Business\n",
              "15    YourAnonNews  ...       Business\n",
              "16      NDTVProfit  ...     Technology\n",
              "17      NDTVProfit  ...       Business\n",
              "18  medical_xpress  ...     Technology\n",
              "19  medical_xpress  ...       Medicine\n",
              "20             mnt  ...       Medicine\n",
              "21             mnt  ...       Business\n",
              "22            wwos  ...  Entertainment\n",
              "23            wwos  ...  Entertainment\n",
              "24     Sport24news  ...  Entertainment\n",
              "25     Sport24news  ...  Entertainment\n",
              "26         gmanews  ...  Entertainment\n",
              "27         gmanews  ...       Medicine\n",
              "28  TheHackersNews  ...     Technology\n",
              "29  TheHackersNews  ...     Technology\n",
              "\n",
              "[30 rows x 5 columns]"
            ]
          },
          "metadata": {
            "tags": []
          },
          "execution_count": 37
        }
      ]
    }
  ]
}