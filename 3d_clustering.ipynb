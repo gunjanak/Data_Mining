{
  "nbformat": 4,
  "nbformat_minor": 0,
  "metadata": {
    "colab": {
      "name": "3d_clustering.ipynb",
      "provenance": [],
      "mount_file_id": "1WDEaiCLTVlZHnNUeuyXMsxbYMfTSABxL",
      "authorship_tag": "ABX9TyNy5Abc3K8IoOJjAo6+rPEr",
      "include_colab_link": true
    },
    "kernelspec": {
      "name": "python3",
      "display_name": "Python 3"
    }
  },
  "cells": [
    {
      "cell_type": "markdown",
      "metadata": {
        "id": "view-in-github",
        "colab_type": "text"
      },
      "source": [
        "<a href=\"https://colab.research.google.com/github/gunjanak/Data_Mining/blob/main/3d_clustering.ipynb\" target=\"_parent\"><img src=\"https://colab.research.google.com/assets/colab-badge.svg\" alt=\"Open In Colab\"/></a>"
      ]
    },
    {
      "cell_type": "markdown",
      "metadata": {
        "id": "A6ABp8glLlZc"
      },
      "source": [
        "Inspiration\n",
        "\n",
        "https://link.springer.com/article/10.1057/dbm.2012.17"
      ]
    },
    {
      "cell_type": "markdown",
      "metadata": {
        "id": "PoaanOzaLoRg"
      },
      "source": [
        "***The Task***\n",
        "\n",
        "In given data choose countries whose name start with 'S'.\n",
        "\n",
        "Then find pattern or make cluster according to customer."
      ]
    },
    {
      "cell_type": "markdown",
      "metadata": {
        "id": "fEygUk5dL6HE"
      },
      "source": [
        "Here I have chosen or used three parameters.\n",
        "Amount \n",
        "\n",
        "Frequency\n",
        "\n",
        "Recency"
      ]
    },
    {
      "cell_type": "code",
      "metadata": {
        "id": "SN8GQpM0u-UO"
      },
      "source": [
        "import pandas as pd"
      ],
      "execution_count": 1,
      "outputs": []
    },
    {
      "cell_type": "markdown",
      "metadata": {
        "id": "4JN84XkEMD0Z"
      },
      "source": [
        "Import the data from my drive"
      ]
    },
    {
      "cell_type": "code",
      "metadata": {
        "id": "_r0r5CyZvFs1"
      },
      "source": [
        "a = pd.read_excel(\"/content/drive/MyDrive/Colab Notebooks/Data assignment/Data/online_retail_II.xlsx\") "
      ],
      "execution_count": 2,
      "outputs": []
    },
    {
      "cell_type": "code",
      "metadata": {
        "id": "E8_ePAtDvQmD"
      },
      "source": [
        "buffer_df = a"
      ],
      "execution_count": 3,
      "outputs": []
    },
    {
      "cell_type": "markdown",
      "metadata": {
        "id": "nJ6XxIRZMH0-"
      },
      "source": [
        "Choosing countries whose name starts with 'S'"
      ]
    },
    {
      "cell_type": "code",
      "metadata": {
        "id": "ccOPX8dKvpXY"
      },
      "source": [
        "buffer_df['Country_S'] = list( \n",
        "    map(lambda x: x.startswith('S'), buffer_df['Country']))"
      ],
      "execution_count": 4,
      "outputs": []
    },
    {
      "cell_type": "code",
      "metadata": {
        "id": "0iii6ZylvvUd"
      },
      "source": [
        "S_df = buffer_df"
      ],
      "execution_count": 5,
      "outputs": []
    },
    {
      "cell_type": "code",
      "metadata": {
        "colab": {
          "base_uri": "https://localhost:8080/",
          "height": 345
        },
        "id": "QsUuCF9Qv3vM",
        "outputId": "baeea82d-3f93-4d59-9eaa-8fa7d8c3cd35"
      },
      "source": [
        "S_df.head()"
      ],
      "execution_count": 6,
      "outputs": [
        {
          "output_type": "execute_result",
          "data": {
            "text/html": [
              "<div>\n",
              "<style scoped>\n",
              "    .dataframe tbody tr th:only-of-type {\n",
              "        vertical-align: middle;\n",
              "    }\n",
              "\n",
              "    .dataframe tbody tr th {\n",
              "        vertical-align: top;\n",
              "    }\n",
              "\n",
              "    .dataframe thead th {\n",
              "        text-align: right;\n",
              "    }\n",
              "</style>\n",
              "<table border=\"1\" class=\"dataframe\">\n",
              "  <thead>\n",
              "    <tr style=\"text-align: right;\">\n",
              "      <th></th>\n",
              "      <th>Invoice</th>\n",
              "      <th>StockCode</th>\n",
              "      <th>Description</th>\n",
              "      <th>Quantity</th>\n",
              "      <th>InvoiceDate</th>\n",
              "      <th>Price</th>\n",
              "      <th>Customer ID</th>\n",
              "      <th>Country</th>\n",
              "      <th>Country_S</th>\n",
              "    </tr>\n",
              "  </thead>\n",
              "  <tbody>\n",
              "    <tr>\n",
              "      <th>0</th>\n",
              "      <td>489434</td>\n",
              "      <td>85048</td>\n",
              "      <td>15CM CHRISTMAS GLASS BALL 20 LIGHTS</td>\n",
              "      <td>12</td>\n",
              "      <td>2009-12-01 07:45:00</td>\n",
              "      <td>6.95</td>\n",
              "      <td>13085.0</td>\n",
              "      <td>United Kingdom</td>\n",
              "      <td>False</td>\n",
              "    </tr>\n",
              "    <tr>\n",
              "      <th>1</th>\n",
              "      <td>489434</td>\n",
              "      <td>79323P</td>\n",
              "      <td>PINK CHERRY LIGHTS</td>\n",
              "      <td>12</td>\n",
              "      <td>2009-12-01 07:45:00</td>\n",
              "      <td>6.75</td>\n",
              "      <td>13085.0</td>\n",
              "      <td>United Kingdom</td>\n",
              "      <td>False</td>\n",
              "    </tr>\n",
              "    <tr>\n",
              "      <th>2</th>\n",
              "      <td>489434</td>\n",
              "      <td>79323W</td>\n",
              "      <td>WHITE CHERRY LIGHTS</td>\n",
              "      <td>12</td>\n",
              "      <td>2009-12-01 07:45:00</td>\n",
              "      <td>6.75</td>\n",
              "      <td>13085.0</td>\n",
              "      <td>United Kingdom</td>\n",
              "      <td>False</td>\n",
              "    </tr>\n",
              "    <tr>\n",
              "      <th>3</th>\n",
              "      <td>489434</td>\n",
              "      <td>22041</td>\n",
              "      <td>RECORD FRAME 7\" SINGLE SIZE</td>\n",
              "      <td>48</td>\n",
              "      <td>2009-12-01 07:45:00</td>\n",
              "      <td>2.10</td>\n",
              "      <td>13085.0</td>\n",
              "      <td>United Kingdom</td>\n",
              "      <td>False</td>\n",
              "    </tr>\n",
              "    <tr>\n",
              "      <th>4</th>\n",
              "      <td>489434</td>\n",
              "      <td>21232</td>\n",
              "      <td>STRAWBERRY CERAMIC TRINKET BOX</td>\n",
              "      <td>24</td>\n",
              "      <td>2009-12-01 07:45:00</td>\n",
              "      <td>1.25</td>\n",
              "      <td>13085.0</td>\n",
              "      <td>United Kingdom</td>\n",
              "      <td>False</td>\n",
              "    </tr>\n",
              "  </tbody>\n",
              "</table>\n",
              "</div>"
            ],
            "text/plain": [
              "  Invoice StockCode  ...         Country  Country_S\n",
              "0  489434     85048  ...  United Kingdom      False\n",
              "1  489434    79323P  ...  United Kingdom      False\n",
              "2  489434    79323W  ...  United Kingdom      False\n",
              "3  489434     22041  ...  United Kingdom      False\n",
              "4  489434     21232  ...  United Kingdom      False\n",
              "\n",
              "[5 rows x 9 columns]"
            ]
          },
          "metadata": {
            "tags": []
          },
          "execution_count": 6
        }
      ]
    },
    {
      "cell_type": "code",
      "metadata": {
        "id": "zv1Q5Bq0wDH2"
      },
      "source": [
        "S_df = S_df[S_df.Country_S == True]"
      ],
      "execution_count": 7,
      "outputs": []
    },
    {
      "cell_type": "code",
      "metadata": {
        "colab": {
          "base_uri": "https://localhost:8080/",
          "height": 328
        },
        "id": "_obhr0SQwL0w",
        "outputId": "f96e059b-e4b6-4394-abfe-bd5acf3d7525"
      },
      "source": [
        "S_df.head()"
      ],
      "execution_count": 8,
      "outputs": [
        {
          "output_type": "execute_result",
          "data": {
            "text/html": [
              "<div>\n",
              "<style scoped>\n",
              "    .dataframe tbody tr th:only-of-type {\n",
              "        vertical-align: middle;\n",
              "    }\n",
              "\n",
              "    .dataframe tbody tr th {\n",
              "        vertical-align: top;\n",
              "    }\n",
              "\n",
              "    .dataframe thead th {\n",
              "        text-align: right;\n",
              "    }\n",
              "</style>\n",
              "<table border=\"1\" class=\"dataframe\">\n",
              "  <thead>\n",
              "    <tr style=\"text-align: right;\">\n",
              "      <th></th>\n",
              "      <th>Invoice</th>\n",
              "      <th>StockCode</th>\n",
              "      <th>Description</th>\n",
              "      <th>Quantity</th>\n",
              "      <th>InvoiceDate</th>\n",
              "      <th>Price</th>\n",
              "      <th>Customer ID</th>\n",
              "      <th>Country</th>\n",
              "      <th>Country_S</th>\n",
              "    </tr>\n",
              "  </thead>\n",
              "  <tbody>\n",
              "    <tr>\n",
              "      <th>6764</th>\n",
              "      <td>C489955</td>\n",
              "      <td>20870</td>\n",
              "      <td>OPULENT VELVET CANDLE IN BOX</td>\n",
              "      <td>-1</td>\n",
              "      <td>2009-12-03 10:57:00</td>\n",
              "      <td>2.10</td>\n",
              "      <td>12484.0</td>\n",
              "      <td>Spain</td>\n",
              "      <td>True</td>\n",
              "    </tr>\n",
              "    <tr>\n",
              "      <th>6765</th>\n",
              "      <td>C489955</td>\n",
              "      <td>21232</td>\n",
              "      <td>STRAWBERRY CERAMIC TRINKET BOX</td>\n",
              "      <td>-1</td>\n",
              "      <td>2009-12-03 10:57:00</td>\n",
              "      <td>1.25</td>\n",
              "      <td>12484.0</td>\n",
              "      <td>Spain</td>\n",
              "      <td>True</td>\n",
              "    </tr>\n",
              "    <tr>\n",
              "      <th>11177</th>\n",
              "      <td>490295</td>\n",
              "      <td>79323P</td>\n",
              "      <td>PINK CHERRY LIGHTS</td>\n",
              "      <td>4</td>\n",
              "      <td>2009-12-04 13:47:00</td>\n",
              "      <td>6.75</td>\n",
              "      <td>12510.0</td>\n",
              "      <td>Spain</td>\n",
              "      <td>True</td>\n",
              "    </tr>\n",
              "    <tr>\n",
              "      <th>11178</th>\n",
              "      <td>490295</td>\n",
              "      <td>79323W</td>\n",
              "      <td>WHITE CHERRY LIGHTS</td>\n",
              "      <td>4</td>\n",
              "      <td>2009-12-04 13:47:00</td>\n",
              "      <td>6.75</td>\n",
              "      <td>12510.0</td>\n",
              "      <td>Spain</td>\n",
              "      <td>True</td>\n",
              "    </tr>\n",
              "    <tr>\n",
              "      <th>11179</th>\n",
              "      <td>490295</td>\n",
              "      <td>79323B</td>\n",
              "      <td>BLACK CHERRY LIGHTS</td>\n",
              "      <td>4</td>\n",
              "      <td>2009-12-04 13:47:00</td>\n",
              "      <td>6.75</td>\n",
              "      <td>12510.0</td>\n",
              "      <td>Spain</td>\n",
              "      <td>True</td>\n",
              "    </tr>\n",
              "  </tbody>\n",
              "</table>\n",
              "</div>"
            ],
            "text/plain": [
              "       Invoice StockCode  ... Country  Country_S\n",
              "6764   C489955     20870  ...   Spain       True\n",
              "6765   C489955     21232  ...   Spain       True\n",
              "11177   490295    79323P  ...   Spain       True\n",
              "11178   490295    79323W  ...   Spain       True\n",
              "11179   490295    79323B  ...   Spain       True\n",
              "\n",
              "[5 rows x 9 columns]"
            ]
          },
          "metadata": {
            "tags": []
          },
          "execution_count": 8
        }
      ]
    },
    {
      "cell_type": "markdown",
      "metadata": {
        "id": "-pdJt0IYMQFK"
      },
      "source": [
        "Selecting columns of interest"
      ]
    },
    {
      "cell_type": "code",
      "metadata": {
        "id": "lMQFrlH3wN3_"
      },
      "source": [
        "df1 = S_df[['Invoice','StockCode','Quantity','Price','InvoiceDate','Customer ID']]"
      ],
      "execution_count": 9,
      "outputs": []
    },
    {
      "cell_type": "code",
      "metadata": {
        "colab": {
          "base_uri": "https://localhost:8080/",
          "height": 206
        },
        "id": "HIHO2KsiwXFg",
        "outputId": "147c73df-5d6d-4d97-b5ec-a12ac80a34b1"
      },
      "source": [
        "df1.head()"
      ],
      "execution_count": 10,
      "outputs": [
        {
          "output_type": "execute_result",
          "data": {
            "text/html": [
              "<div>\n",
              "<style scoped>\n",
              "    .dataframe tbody tr th:only-of-type {\n",
              "        vertical-align: middle;\n",
              "    }\n",
              "\n",
              "    .dataframe tbody tr th {\n",
              "        vertical-align: top;\n",
              "    }\n",
              "\n",
              "    .dataframe thead th {\n",
              "        text-align: right;\n",
              "    }\n",
              "</style>\n",
              "<table border=\"1\" class=\"dataframe\">\n",
              "  <thead>\n",
              "    <tr style=\"text-align: right;\">\n",
              "      <th></th>\n",
              "      <th>Invoice</th>\n",
              "      <th>StockCode</th>\n",
              "      <th>Quantity</th>\n",
              "      <th>Price</th>\n",
              "      <th>InvoiceDate</th>\n",
              "      <th>Customer ID</th>\n",
              "    </tr>\n",
              "  </thead>\n",
              "  <tbody>\n",
              "    <tr>\n",
              "      <th>6764</th>\n",
              "      <td>C489955</td>\n",
              "      <td>20870</td>\n",
              "      <td>-1</td>\n",
              "      <td>2.10</td>\n",
              "      <td>2009-12-03 10:57:00</td>\n",
              "      <td>12484.0</td>\n",
              "    </tr>\n",
              "    <tr>\n",
              "      <th>6765</th>\n",
              "      <td>C489955</td>\n",
              "      <td>21232</td>\n",
              "      <td>-1</td>\n",
              "      <td>1.25</td>\n",
              "      <td>2009-12-03 10:57:00</td>\n",
              "      <td>12484.0</td>\n",
              "    </tr>\n",
              "    <tr>\n",
              "      <th>11177</th>\n",
              "      <td>490295</td>\n",
              "      <td>79323P</td>\n",
              "      <td>4</td>\n",
              "      <td>6.75</td>\n",
              "      <td>2009-12-04 13:47:00</td>\n",
              "      <td>12510.0</td>\n",
              "    </tr>\n",
              "    <tr>\n",
              "      <th>11178</th>\n",
              "      <td>490295</td>\n",
              "      <td>79323W</td>\n",
              "      <td>4</td>\n",
              "      <td>6.75</td>\n",
              "      <td>2009-12-04 13:47:00</td>\n",
              "      <td>12510.0</td>\n",
              "    </tr>\n",
              "    <tr>\n",
              "      <th>11179</th>\n",
              "      <td>490295</td>\n",
              "      <td>79323B</td>\n",
              "      <td>4</td>\n",
              "      <td>6.75</td>\n",
              "      <td>2009-12-04 13:47:00</td>\n",
              "      <td>12510.0</td>\n",
              "    </tr>\n",
              "  </tbody>\n",
              "</table>\n",
              "</div>"
            ],
            "text/plain": [
              "       Invoice StockCode  Quantity  Price         InvoiceDate  Customer ID\n",
              "6764   C489955     20870        -1   2.10 2009-12-03 10:57:00      12484.0\n",
              "6765   C489955     21232        -1   1.25 2009-12-03 10:57:00      12484.0\n",
              "11177   490295    79323P         4   6.75 2009-12-04 13:47:00      12510.0\n",
              "11178   490295    79323W         4   6.75 2009-12-04 13:47:00      12510.0\n",
              "11179   490295    79323B         4   6.75 2009-12-04 13:47:00      12510.0"
            ]
          },
          "metadata": {
            "tags": []
          },
          "execution_count": 10
        }
      ]
    },
    {
      "cell_type": "markdown",
      "metadata": {
        "id": "szwZX4gWMT3G"
      },
      "source": [
        "Making new column (Amount)"
      ]
    },
    {
      "cell_type": "code",
      "metadata": {
        "colab": {
          "base_uri": "https://localhost:8080/"
        },
        "id": "S-L-pq_lwZOK",
        "outputId": "8df7bbc5-12ed-4ce5-daa1-aaa693807576"
      },
      "source": [
        "df1['Amount'] = df1['Quantity']*df1['Price']"
      ],
      "execution_count": 11,
      "outputs": [
        {
          "output_type": "stream",
          "text": [
            "/usr/local/lib/python3.6/dist-packages/ipykernel_launcher.py:1: SettingWithCopyWarning: \n",
            "A value is trying to be set on a copy of a slice from a DataFrame.\n",
            "Try using .loc[row_indexer,col_indexer] = value instead\n",
            "\n",
            "See the caveats in the documentation: https://pandas.pydata.org/pandas-docs/stable/user_guide/indexing.html#returning-a-view-versus-a-copy\n",
            "  \"\"\"Entry point for launching an IPython kernel.\n"
          ],
          "name": "stderr"
        }
      ]
    },
    {
      "cell_type": "code",
      "metadata": {
        "colab": {
          "base_uri": "https://localhost:8080/",
          "height": 206
        },
        "id": "P3Wt2z1JwhQN",
        "outputId": "31894beb-e44f-45b4-e759-3f46ecb80389"
      },
      "source": [
        "df1.head()"
      ],
      "execution_count": 12,
      "outputs": [
        {
          "output_type": "execute_result",
          "data": {
            "text/html": [
              "<div>\n",
              "<style scoped>\n",
              "    .dataframe tbody tr th:only-of-type {\n",
              "        vertical-align: middle;\n",
              "    }\n",
              "\n",
              "    .dataframe tbody tr th {\n",
              "        vertical-align: top;\n",
              "    }\n",
              "\n",
              "    .dataframe thead th {\n",
              "        text-align: right;\n",
              "    }\n",
              "</style>\n",
              "<table border=\"1\" class=\"dataframe\">\n",
              "  <thead>\n",
              "    <tr style=\"text-align: right;\">\n",
              "      <th></th>\n",
              "      <th>Invoice</th>\n",
              "      <th>StockCode</th>\n",
              "      <th>Quantity</th>\n",
              "      <th>Price</th>\n",
              "      <th>InvoiceDate</th>\n",
              "      <th>Customer ID</th>\n",
              "      <th>Amount</th>\n",
              "    </tr>\n",
              "  </thead>\n",
              "  <tbody>\n",
              "    <tr>\n",
              "      <th>6764</th>\n",
              "      <td>C489955</td>\n",
              "      <td>20870</td>\n",
              "      <td>-1</td>\n",
              "      <td>2.10</td>\n",
              "      <td>2009-12-03 10:57:00</td>\n",
              "      <td>12484.0</td>\n",
              "      <td>-2.10</td>\n",
              "    </tr>\n",
              "    <tr>\n",
              "      <th>6765</th>\n",
              "      <td>C489955</td>\n",
              "      <td>21232</td>\n",
              "      <td>-1</td>\n",
              "      <td>1.25</td>\n",
              "      <td>2009-12-03 10:57:00</td>\n",
              "      <td>12484.0</td>\n",
              "      <td>-1.25</td>\n",
              "    </tr>\n",
              "    <tr>\n",
              "      <th>11177</th>\n",
              "      <td>490295</td>\n",
              "      <td>79323P</td>\n",
              "      <td>4</td>\n",
              "      <td>6.75</td>\n",
              "      <td>2009-12-04 13:47:00</td>\n",
              "      <td>12510.0</td>\n",
              "      <td>27.00</td>\n",
              "    </tr>\n",
              "    <tr>\n",
              "      <th>11178</th>\n",
              "      <td>490295</td>\n",
              "      <td>79323W</td>\n",
              "      <td>4</td>\n",
              "      <td>6.75</td>\n",
              "      <td>2009-12-04 13:47:00</td>\n",
              "      <td>12510.0</td>\n",
              "      <td>27.00</td>\n",
              "    </tr>\n",
              "    <tr>\n",
              "      <th>11179</th>\n",
              "      <td>490295</td>\n",
              "      <td>79323B</td>\n",
              "      <td>4</td>\n",
              "      <td>6.75</td>\n",
              "      <td>2009-12-04 13:47:00</td>\n",
              "      <td>12510.0</td>\n",
              "      <td>27.00</td>\n",
              "    </tr>\n",
              "  </tbody>\n",
              "</table>\n",
              "</div>"
            ],
            "text/plain": [
              "       Invoice StockCode  Quantity  ...         InvoiceDate Customer ID  Amount\n",
              "6764   C489955     20870        -1  ... 2009-12-03 10:57:00     12484.0   -2.10\n",
              "6765   C489955     21232        -1  ... 2009-12-03 10:57:00     12484.0   -1.25\n",
              "11177   490295    79323P         4  ... 2009-12-04 13:47:00     12510.0   27.00\n",
              "11178   490295    79323W         4  ... 2009-12-04 13:47:00     12510.0   27.00\n",
              "11179   490295    79323B         4  ... 2009-12-04 13:47:00     12510.0   27.00\n",
              "\n",
              "[5 rows x 7 columns]"
            ]
          },
          "metadata": {
            "tags": []
          },
          "execution_count": 12
        }
      ]
    },
    {
      "cell_type": "markdown",
      "metadata": {
        "id": "VY6Tq4EvMZGw"
      },
      "source": [
        "Extracting date of purchase"
      ]
    },
    {
      "cell_type": "code",
      "metadata": {
        "colab": {
          "base_uri": "https://localhost:8080/"
        },
        "id": "aF_UrMT6wjfc",
        "outputId": "69e36cff-0cb4-4650-bec5-816b7d973e3b"
      },
      "source": [
        "df1['Date'] = df1['InvoiceDate'].dt.date"
      ],
      "execution_count": 13,
      "outputs": [
        {
          "output_type": "stream",
          "text": [
            "/usr/local/lib/python3.6/dist-packages/ipykernel_launcher.py:1: SettingWithCopyWarning: \n",
            "A value is trying to be set on a copy of a slice from a DataFrame.\n",
            "Try using .loc[row_indexer,col_indexer] = value instead\n",
            "\n",
            "See the caveats in the documentation: https://pandas.pydata.org/pandas-docs/stable/user_guide/indexing.html#returning-a-view-versus-a-copy\n",
            "  \"\"\"Entry point for launching an IPython kernel.\n"
          ],
          "name": "stderr"
        }
      ]
    },
    {
      "cell_type": "code",
      "metadata": {
        "colab": {
          "base_uri": "https://localhost:8080/",
          "height": 206
        },
        "id": "Va4MSRYvwxWR",
        "outputId": "e538517a-ee6b-4200-8a2d-01c49427494f"
      },
      "source": [
        "df1.head()"
      ],
      "execution_count": 14,
      "outputs": [
        {
          "output_type": "execute_result",
          "data": {
            "text/html": [
              "<div>\n",
              "<style scoped>\n",
              "    .dataframe tbody tr th:only-of-type {\n",
              "        vertical-align: middle;\n",
              "    }\n",
              "\n",
              "    .dataframe tbody tr th {\n",
              "        vertical-align: top;\n",
              "    }\n",
              "\n",
              "    .dataframe thead th {\n",
              "        text-align: right;\n",
              "    }\n",
              "</style>\n",
              "<table border=\"1\" class=\"dataframe\">\n",
              "  <thead>\n",
              "    <tr style=\"text-align: right;\">\n",
              "      <th></th>\n",
              "      <th>Invoice</th>\n",
              "      <th>StockCode</th>\n",
              "      <th>Quantity</th>\n",
              "      <th>Price</th>\n",
              "      <th>InvoiceDate</th>\n",
              "      <th>Customer ID</th>\n",
              "      <th>Amount</th>\n",
              "      <th>Date</th>\n",
              "    </tr>\n",
              "  </thead>\n",
              "  <tbody>\n",
              "    <tr>\n",
              "      <th>6764</th>\n",
              "      <td>C489955</td>\n",
              "      <td>20870</td>\n",
              "      <td>-1</td>\n",
              "      <td>2.10</td>\n",
              "      <td>2009-12-03 10:57:00</td>\n",
              "      <td>12484.0</td>\n",
              "      <td>-2.10</td>\n",
              "      <td>2009-12-03</td>\n",
              "    </tr>\n",
              "    <tr>\n",
              "      <th>6765</th>\n",
              "      <td>C489955</td>\n",
              "      <td>21232</td>\n",
              "      <td>-1</td>\n",
              "      <td>1.25</td>\n",
              "      <td>2009-12-03 10:57:00</td>\n",
              "      <td>12484.0</td>\n",
              "      <td>-1.25</td>\n",
              "      <td>2009-12-03</td>\n",
              "    </tr>\n",
              "    <tr>\n",
              "      <th>11177</th>\n",
              "      <td>490295</td>\n",
              "      <td>79323P</td>\n",
              "      <td>4</td>\n",
              "      <td>6.75</td>\n",
              "      <td>2009-12-04 13:47:00</td>\n",
              "      <td>12510.0</td>\n",
              "      <td>27.00</td>\n",
              "      <td>2009-12-04</td>\n",
              "    </tr>\n",
              "    <tr>\n",
              "      <th>11178</th>\n",
              "      <td>490295</td>\n",
              "      <td>79323W</td>\n",
              "      <td>4</td>\n",
              "      <td>6.75</td>\n",
              "      <td>2009-12-04 13:47:00</td>\n",
              "      <td>12510.0</td>\n",
              "      <td>27.00</td>\n",
              "      <td>2009-12-04</td>\n",
              "    </tr>\n",
              "    <tr>\n",
              "      <th>11179</th>\n",
              "      <td>490295</td>\n",
              "      <td>79323B</td>\n",
              "      <td>4</td>\n",
              "      <td>6.75</td>\n",
              "      <td>2009-12-04 13:47:00</td>\n",
              "      <td>12510.0</td>\n",
              "      <td>27.00</td>\n",
              "      <td>2009-12-04</td>\n",
              "    </tr>\n",
              "  </tbody>\n",
              "</table>\n",
              "</div>"
            ],
            "text/plain": [
              "       Invoice StockCode  Quantity  ...  Customer ID Amount        Date\n",
              "6764   C489955     20870        -1  ...      12484.0  -2.10  2009-12-03\n",
              "6765   C489955     21232        -1  ...      12484.0  -1.25  2009-12-03\n",
              "11177   490295    79323P         4  ...      12510.0  27.00  2009-12-04\n",
              "11178   490295    79323W         4  ...      12510.0  27.00  2009-12-04\n",
              "11179   490295    79323B         4  ...      12510.0  27.00  2009-12-04\n",
              "\n",
              "[5 rows x 8 columns]"
            ]
          },
          "metadata": {
            "tags": []
          },
          "execution_count": 14
        }
      ]
    },
    {
      "cell_type": "markdown",
      "metadata": {
        "id": "MHoxjpMlMdxM"
      },
      "source": [
        "Taking only columns of interest"
      ]
    },
    {
      "cell_type": "code",
      "metadata": {
        "id": "wR-W9nLdwzji"
      },
      "source": [
        "df2 = df1[[\"Customer ID\",'Amount','Date']]"
      ],
      "execution_count": 15,
      "outputs": []
    },
    {
      "cell_type": "code",
      "metadata": {
        "colab": {
          "base_uri": "https://localhost:8080/",
          "height": 206
        },
        "id": "k47GBQyBxXI_",
        "outputId": "bbb0e427-7b62-4011-f177-ab29a88616fd"
      },
      "source": [
        "df2.head()"
      ],
      "execution_count": 16,
      "outputs": [
        {
          "output_type": "execute_result",
          "data": {
            "text/html": [
              "<div>\n",
              "<style scoped>\n",
              "    .dataframe tbody tr th:only-of-type {\n",
              "        vertical-align: middle;\n",
              "    }\n",
              "\n",
              "    .dataframe tbody tr th {\n",
              "        vertical-align: top;\n",
              "    }\n",
              "\n",
              "    .dataframe thead th {\n",
              "        text-align: right;\n",
              "    }\n",
              "</style>\n",
              "<table border=\"1\" class=\"dataframe\">\n",
              "  <thead>\n",
              "    <tr style=\"text-align: right;\">\n",
              "      <th></th>\n",
              "      <th>Customer ID</th>\n",
              "      <th>Amount</th>\n",
              "      <th>Date</th>\n",
              "    </tr>\n",
              "  </thead>\n",
              "  <tbody>\n",
              "    <tr>\n",
              "      <th>6764</th>\n",
              "      <td>12484.0</td>\n",
              "      <td>-2.10</td>\n",
              "      <td>2009-12-03</td>\n",
              "    </tr>\n",
              "    <tr>\n",
              "      <th>6765</th>\n",
              "      <td>12484.0</td>\n",
              "      <td>-1.25</td>\n",
              "      <td>2009-12-03</td>\n",
              "    </tr>\n",
              "    <tr>\n",
              "      <th>11177</th>\n",
              "      <td>12510.0</td>\n",
              "      <td>27.00</td>\n",
              "      <td>2009-12-04</td>\n",
              "    </tr>\n",
              "    <tr>\n",
              "      <th>11178</th>\n",
              "      <td>12510.0</td>\n",
              "      <td>27.00</td>\n",
              "      <td>2009-12-04</td>\n",
              "    </tr>\n",
              "    <tr>\n",
              "      <th>11179</th>\n",
              "      <td>12510.0</td>\n",
              "      <td>27.00</td>\n",
              "      <td>2009-12-04</td>\n",
              "    </tr>\n",
              "  </tbody>\n",
              "</table>\n",
              "</div>"
            ],
            "text/plain": [
              "       Customer ID  Amount        Date\n",
              "6764       12484.0   -2.10  2009-12-03\n",
              "6765       12484.0   -1.25  2009-12-03\n",
              "11177      12510.0   27.00  2009-12-04\n",
              "11178      12510.0   27.00  2009-12-04\n",
              "11179      12510.0   27.00  2009-12-04"
            ]
          },
          "metadata": {
            "tags": []
          },
          "execution_count": 16
        }
      ]
    },
    {
      "cell_type": "markdown",
      "metadata": {
        "id": "IxPmShx_Mhw3"
      },
      "source": [
        "Counting unique entries in each columns"
      ]
    },
    {
      "cell_type": "code",
      "metadata": {
        "id": "XfSfLfHbxYrU"
      },
      "source": [
        "n = df2.nunique(axis=0) "
      ],
      "execution_count": 17,
      "outputs": []
    },
    {
      "cell_type": "code",
      "metadata": {
        "colab": {
          "base_uri": "https://localhost:8080/"
        },
        "id": "ybVovGnNxdgF",
        "outputId": "69c4ee87-08c6-488c-ae7b-198e4173a375"
      },
      "source": [
        "n"
      ],
      "execution_count": 18,
      "outputs": [
        {
          "output_type": "execute_result",
          "data": {
            "text/plain": [
              "Customer ID     56\n",
              "Amount         479\n",
              "Date           123\n",
              "dtype: int64"
            ]
          },
          "metadata": {
            "tags": []
          },
          "execution_count": 18
        }
      ]
    },
    {
      "cell_type": "markdown",
      "metadata": {
        "id": "Sc0vmYqAMofq"
      },
      "source": [
        "Making new column 'Frequency' which takes account of how many times a customer have done the shopping"
      ]
    },
    {
      "cell_type": "code",
      "metadata": {
        "id": "TylhpKLyxgx0"
      },
      "source": [
        "frequency = df2.groupby('Customer ID')['Date'].nunique()"
      ],
      "execution_count": 19,
      "outputs": []
    },
    {
      "cell_type": "code",
      "metadata": {
        "colab": {
          "base_uri": "https://localhost:8080/"
        },
        "id": "nbs4vxBGxsUg",
        "outputId": "a96dee92-a7b0-4b87-bf94-463c6eac9940"
      },
      "source": [
        "frequency"
      ],
      "execution_count": 20,
      "outputs": [
        {
          "output_type": "execute_result",
          "data": {
            "text/plain": [
              "Customer ID\n",
              "12357.0     1\n",
              "12371.0     2\n",
              "12376.0     2\n",
              "12377.0     2\n",
              "12378.0     1\n",
              "12409.0     4\n",
              "12410.0     1\n",
              "12413.0     1\n",
              "12417.0     1\n",
              "12418.0     4\n",
              "12419.0     2\n",
              "12421.0     3\n",
              "12422.0     6\n",
              "12445.0     2\n",
              "12450.0     5\n",
              "12451.0     3\n",
              "12454.0     5\n",
              "12457.0     2\n",
              "12458.0     2\n",
              "12459.0     1\n",
              "12482.0     7\n",
              "12483.0    11\n",
              "12484.0     8\n",
              "12485.0     1\n",
              "12486.0     1\n",
              "12487.0     1\n",
              "12495.0     2\n",
              "12496.0     1\n",
              "12503.0     1\n",
              "12507.0     1\n",
              "12510.0     8\n",
              "12537.0     1\n",
              "12538.0     1\n",
              "12539.0     2\n",
              "12540.0    14\n",
              "12542.0     4\n",
              "12543.0     1\n",
              "12547.0     1\n",
              "12554.0     1\n",
              "12555.0     1\n",
              "12557.0     4\n",
              "12570.0     1\n",
              "12606.0     1\n",
              "12629.0     2\n",
              "12638.0     1\n",
              "12639.0     2\n",
              "12661.0     1\n",
              "12676.0     3\n",
              "12687.0     1\n",
              "12744.0     2\n",
              "12801.0     2\n",
              "12807.0     3\n",
              "13501.0     3\n",
              "13520.0     8\n",
              "17097.0     2\n",
              "17404.0    10\n",
              "Name: Date, dtype: int64"
            ]
          },
          "metadata": {
            "tags": []
          },
          "execution_count": 20
        }
      ]
    },
    {
      "cell_type": "code",
      "metadata": {
        "id": "MHx7VnzKxwgI"
      },
      "source": [
        "minimum = df2.groupby('Customer ID')['Amount'].min()"
      ],
      "execution_count": 21,
      "outputs": []
    },
    {
      "cell_type": "code",
      "metadata": {
        "colab": {
          "base_uri": "https://localhost:8080/"
        },
        "id": "jAV3KPflyg_D",
        "outputId": "f9d0119f-e071-499e-8a31-ebdd56f19ad7"
      },
      "source": [
        "minimum"
      ],
      "execution_count": 22,
      "outputs": [
        {
          "output_type": "execute_result",
          "data": {
            "text/plain": [
              "Customer ID\n",
              "12357.0     10.08\n",
              "12371.0      5.04\n",
              "12376.0     10.20\n",
              "12377.0      5.04\n",
              "12378.0      5.04\n",
              "12409.0   -122.40\n",
              "12410.0     10.08\n",
              "12413.0      8.95\n",
              "12417.0      4.20\n",
              "12418.0     -4.25\n",
              "12419.0      4.56\n",
              "12421.0     -5.00\n",
              "12422.0    -36.00\n",
              "12445.0     -8.50\n",
              "12450.0    -14.85\n",
              "12451.0    -12.50\n",
              "12454.0   -950.40\n",
              "12457.0    -39.80\n",
              "12458.0      4.56\n",
              "12459.0      8.50\n",
              "12482.0   -874.84\n",
              "12483.0    -52.46\n",
              "12484.0    -12.75\n",
              "12485.0      6.30\n",
              "12486.0      3.80\n",
              "12487.0    -25.50\n",
              "12495.0    -17.00\n",
              "12496.0      1.25\n",
              "12503.0    230.00\n",
              "12507.0      7.80\n",
              "12510.0   -751.11\n",
              "12537.0      9.95\n",
              "12538.0     10.20\n",
              "12539.0      5.04\n",
              "12540.0    -56.00\n",
              "12542.0    -15.90\n",
              "12543.0      7.80\n",
              "12547.0     10.08\n",
              "12554.0      5.04\n",
              "12555.0    129.23\n",
              "12557.0     27.20\n",
              "12570.0     77.52\n",
              "12606.0     21.00\n",
              "12629.0      7.80\n",
              "12638.0     10.20\n",
              "12639.0      5.04\n",
              "12661.0     13.20\n",
              "12676.0    -70.00\n",
              "12687.0      6.72\n",
              "12744.0      5.04\n",
              "12801.0    -39.95\n",
              "12807.0    -40.00\n",
              "13501.0    -15.00\n",
              "13520.0    -39.60\n",
              "17097.0      0.42\n",
              "17404.0   -100.80\n",
              "Name: Amount, dtype: float64"
            ]
          },
          "metadata": {
            "tags": []
          },
          "execution_count": 22
        }
      ]
    },
    {
      "cell_type": "code",
      "metadata": {
        "id": "uBoa7fP-x0wb"
      },
      "source": [
        "total = df2.groupby('Customer ID')['Amount'].sum()"
      ],
      "execution_count": 23,
      "outputs": []
    },
    {
      "cell_type": "code",
      "metadata": {
        "id": "Y79IE3OQx8-j"
      },
      "source": [
        "mean = df2.groupby('Customer ID')['Amount'].mean()"
      ],
      "execution_count": 24,
      "outputs": []
    },
    {
      "cell_type": "code",
      "metadata": {
        "id": "CFtbUIdWyAAe"
      },
      "source": [
        "maximum = df2.groupby('Customer ID')['Amount'].max()"
      ],
      "execution_count": 25,
      "outputs": []
    },
    {
      "cell_type": "code",
      "metadata": {
        "id": "zseN-mQEyDIj"
      },
      "source": [
        "first_purchase = df2.groupby('Customer ID')['Date'].min()"
      ],
      "execution_count": 26,
      "outputs": []
    },
    {
      "cell_type": "code",
      "metadata": {
        "colab": {
          "base_uri": "https://localhost:8080/"
        },
        "id": "yADYixvLyZdB",
        "outputId": "b484c0eb-df10-4709-9742-4e92bef489ef"
      },
      "source": [
        "first_purchase"
      ],
      "execution_count": 27,
      "outputs": [
        {
          "output_type": "execute_result",
          "data": {
            "text/plain": [
              "Customer ID\n",
              "12357.0    2010-11-16\n",
              "12371.0    2010-03-04\n",
              "12376.0    2010-10-18\n",
              "12377.0    2010-04-29\n",
              "12378.0    2010-05-26\n",
              "12409.0    2010-05-23\n",
              "12410.0    2010-07-25\n",
              "12413.0    2010-11-02\n",
              "12417.0    2010-10-01\n",
              "12418.0    2010-03-19\n",
              "12419.0    2010-10-22\n",
              "12421.0    2010-07-22\n",
              "12422.0    2010-05-20\n",
              "12445.0    2010-10-15\n",
              "12450.0    2010-08-22\n",
              "12451.0    2010-06-28\n",
              "12454.0    2010-01-26\n",
              "12457.0    2010-09-30\n",
              "12458.0    2010-08-09\n",
              "12459.0    2010-04-13\n",
              "12482.0    2010-02-24\n",
              "12483.0    2010-01-31\n",
              "12484.0    2009-12-03\n",
              "12485.0    2010-06-28\n",
              "12486.0    2010-10-04\n",
              "12487.0    2009-12-09\n",
              "12495.0    2010-03-09\n",
              "12496.0    2010-03-29\n",
              "12503.0    2010-05-04\n",
              "12507.0    2010-05-04\n",
              "12510.0    2009-12-04\n",
              "12537.0    2010-10-27\n",
              "12538.0    2010-11-26\n",
              "12539.0    2009-12-23\n",
              "12540.0    2009-12-07\n",
              "12542.0    2010-03-09\n",
              "12543.0    2010-09-17\n",
              "12547.0    2010-07-27\n",
              "12554.0    2010-09-17\n",
              "12555.0    2010-01-26\n",
              "12557.0    2009-12-17\n",
              "12570.0    2010-01-26\n",
              "12606.0    2010-01-26\n",
              "12629.0    2010-10-12\n",
              "12638.0    2010-03-10\n",
              "12639.0    2010-03-22\n",
              "12661.0    2010-09-29\n",
              "12676.0    2010-08-13\n",
              "12687.0    2010-08-16\n",
              "12744.0    2010-04-27\n",
              "12801.0    2010-07-27\n",
              "12807.0    2010-11-18\n",
              "13501.0    2010-05-18\n",
              "13520.0    2009-12-17\n",
              "17097.0    2010-10-05\n",
              "17404.0    2010-01-07\n",
              "Name: Date, dtype: object"
            ]
          },
          "metadata": {
            "tags": []
          },
          "execution_count": 27
        }
      ]
    },
    {
      "cell_type": "markdown",
      "metadata": {
        "id": "nq-TnukTM6PU"
      },
      "source": [
        "'Recency' is last time customer have purchased "
      ]
    },
    {
      "cell_type": "code",
      "metadata": {
        "id": "faQmpLOEybAZ"
      },
      "source": [
        "recency = df2.groupby('Customer ID')['Date'].max()"
      ],
      "execution_count": 28,
      "outputs": []
    },
    {
      "cell_type": "code",
      "metadata": {
        "id": "-1mT_Oy7y33F"
      },
      "source": [
        "data = {\"frequency\": frequency, \n",
        "        \"minimum\": minimum, \n",
        "        \"maximum\": maximum,\n",
        "        \"Total\":total,\n",
        "        \"mean\":mean,\n",
        "        \"first_purchase\":first_purchase,\n",
        "        \"recency\":recency\n",
        "        } "
      ],
      "execution_count": 29,
      "outputs": []
    },
    {
      "cell_type": "code",
      "metadata": {
        "id": "M3IFj-EGzD3f"
      },
      "source": [
        "df4 = pd.concat(data,axis = 1) "
      ],
      "execution_count": 30,
      "outputs": []
    },
    {
      "cell_type": "code",
      "metadata": {
        "id": "kNJAxxw0zKCk"
      },
      "source": [
        "df5 = df4[[\"frequency\",'Total',\"recency\"]]"
      ],
      "execution_count": 64,
      "outputs": []
    },
    {
      "cell_type": "code",
      "metadata": {
        "colab": {
          "base_uri": "https://localhost:8080/",
          "height": 238
        },
        "id": "LBxWVcPPzM4J",
        "outputId": "e76b4612-e050-4a6f-a267-19e5385d535f"
      },
      "source": [
        "df5.head()"
      ],
      "execution_count": 65,
      "outputs": [
        {
          "output_type": "execute_result",
          "data": {
            "text/html": [
              "<div>\n",
              "<style scoped>\n",
              "    .dataframe tbody tr th:only-of-type {\n",
              "        vertical-align: middle;\n",
              "    }\n",
              "\n",
              "    .dataframe tbody tr th {\n",
              "        vertical-align: top;\n",
              "    }\n",
              "\n",
              "    .dataframe thead th {\n",
              "        text-align: right;\n",
              "    }\n",
              "</style>\n",
              "<table border=\"1\" class=\"dataframe\">\n",
              "  <thead>\n",
              "    <tr style=\"text-align: right;\">\n",
              "      <th></th>\n",
              "      <th>frequency</th>\n",
              "      <th>Total</th>\n",
              "      <th>recency</th>\n",
              "    </tr>\n",
              "    <tr>\n",
              "      <th>Customer ID</th>\n",
              "      <th></th>\n",
              "      <th></th>\n",
              "      <th></th>\n",
              "    </tr>\n",
              "  </thead>\n",
              "  <tbody>\n",
              "    <tr>\n",
              "      <th>12357.0</th>\n",
              "      <td>1</td>\n",
              "      <td>12079.99</td>\n",
              "      <td>2010-11-16</td>\n",
              "    </tr>\n",
              "    <tr>\n",
              "      <th>12371.0</th>\n",
              "      <td>2</td>\n",
              "      <td>2179.42</td>\n",
              "      <td>2010-10-26</td>\n",
              "    </tr>\n",
              "    <tr>\n",
              "      <th>12376.0</th>\n",
              "      <td>2</td>\n",
              "      <td>503.15</td>\n",
              "      <td>2010-11-15</td>\n",
              "    </tr>\n",
              "    <tr>\n",
              "      <th>12377.0</th>\n",
              "      <td>2</td>\n",
              "      <td>1798.20</td>\n",
              "      <td>2010-11-23</td>\n",
              "    </tr>\n",
              "    <tr>\n",
              "      <th>12378.0</th>\n",
              "      <td>1</td>\n",
              "      <td>1407.70</td>\n",
              "      <td>2010-05-26</td>\n",
              "    </tr>\n",
              "  </tbody>\n",
              "</table>\n",
              "</div>"
            ],
            "text/plain": [
              "             frequency     Total     recency\n",
              "Customer ID                                 \n",
              "12357.0              1  12079.99  2010-11-16\n",
              "12371.0              2   2179.42  2010-10-26\n",
              "12376.0              2    503.15  2010-11-15\n",
              "12377.0              2   1798.20  2010-11-23\n",
              "12378.0              1   1407.70  2010-05-26"
            ]
          },
          "metadata": {
            "tags": []
          },
          "execution_count": 65
        }
      ]
    },
    {
      "cell_type": "markdown",
      "metadata": {
        "id": "3-GPpcddNA8q"
      },
      "source": [
        "Changing date time to int"
      ]
    },
    {
      "cell_type": "code",
      "metadata": {
        "colab": {
          "base_uri": "https://localhost:8080/"
        },
        "id": "f8_gdMzt4bCr",
        "outputId": "2603de85-8744-444c-f69d-badd78bfbb3a"
      },
      "source": [
        "df5['recency'] = df5.recency.apply(lambda x: x.strftime('%Y%m%d')).astype(int)"
      ],
      "execution_count": 66,
      "outputs": [
        {
          "output_type": "stream",
          "text": [
            "/usr/local/lib/python3.6/dist-packages/ipykernel_launcher.py:1: SettingWithCopyWarning: \n",
            "A value is trying to be set on a copy of a slice from a DataFrame.\n",
            "Try using .loc[row_indexer,col_indexer] = value instead\n",
            "\n",
            "See the caveats in the documentation: https://pandas.pydata.org/pandas-docs/stable/user_guide/indexing.html#returning-a-view-versus-a-copy\n",
            "  \"\"\"Entry point for launching an IPython kernel.\n"
          ],
          "name": "stderr"
        }
      ]
    },
    {
      "cell_type": "markdown",
      "metadata": {
        "id": "O96jo6lTNGku"
      },
      "source": [
        "int to string"
      ]
    },
    {
      "cell_type": "code",
      "metadata": {
        "colab": {
          "base_uri": "https://localhost:8080/"
        },
        "id": "FeeCAj794iKN",
        "outputId": "ea8a2fd6-f3bb-4120-869b-d5885f7e98c5"
      },
      "source": [
        "df5['recency'] = df5['recency'].map(str)"
      ],
      "execution_count": 67,
      "outputs": [
        {
          "output_type": "stream",
          "text": [
            "/usr/local/lib/python3.6/dist-packages/ipykernel_launcher.py:1: SettingWithCopyWarning: \n",
            "A value is trying to be set on a copy of a slice from a DataFrame.\n",
            "Try using .loc[row_indexer,col_indexer] = value instead\n",
            "\n",
            "See the caveats in the documentation: https://pandas.pydata.org/pandas-docs/stable/user_guide/indexing.html#returning-a-view-versus-a-copy\n",
            "  \"\"\"Entry point for launching an IPython kernel.\n"
          ],
          "name": "stderr"
        }
      ]
    },
    {
      "cell_type": "markdown",
      "metadata": {
        "id": "LhtWRdYINKa7"
      },
      "source": [
        "eliminating 1st 2 and last 2 letters of string.\n",
        "\n",
        "Here our goal is to set recency accoring to month "
      ]
    },
    {
      "cell_type": "code",
      "metadata": {
        "colab": {
          "base_uri": "https://localhost:8080/"
        },
        "id": "QN44saX25vFx",
        "outputId": "b9184cf3-d9b3-468c-c555-8dc5bb28f1c3"
      },
      "source": [
        "df5['recency'] = df5['recency'].str[2:]"
      ],
      "execution_count": 68,
      "outputs": [
        {
          "output_type": "stream",
          "text": [
            "/usr/local/lib/python3.6/dist-packages/ipykernel_launcher.py:1: SettingWithCopyWarning: \n",
            "A value is trying to be set on a copy of a slice from a DataFrame.\n",
            "Try using .loc[row_indexer,col_indexer] = value instead\n",
            "\n",
            "See the caveats in the documentation: https://pandas.pydata.org/pandas-docs/stable/user_guide/indexing.html#returning-a-view-versus-a-copy\n",
            "  \"\"\"Entry point for launching an IPython kernel.\n"
          ],
          "name": "stderr"
        }
      ]
    },
    {
      "cell_type": "code",
      "metadata": {
        "colab": {
          "base_uri": "https://localhost:8080/"
        },
        "id": "7QMQ3EU66f7T",
        "outputId": "75b404bc-d27b-4094-b217-36c8213872cd"
      },
      "source": [
        "df5['recency'] = df5['recency'].str[:-2]"
      ],
      "execution_count": 69,
      "outputs": [
        {
          "output_type": "stream",
          "text": [
            "/usr/local/lib/python3.6/dist-packages/ipykernel_launcher.py:1: SettingWithCopyWarning: \n",
            "A value is trying to be set on a copy of a slice from a DataFrame.\n",
            "Try using .loc[row_indexer,col_indexer] = value instead\n",
            "\n",
            "See the caveats in the documentation: https://pandas.pydata.org/pandas-docs/stable/user_guide/indexing.html#returning-a-view-versus-a-copy\n",
            "  \"\"\"Entry point for launching an IPython kernel.\n"
          ],
          "name": "stderr"
        }
      ]
    },
    {
      "cell_type": "code",
      "metadata": {
        "colab": {
          "base_uri": "https://localhost:8080/"
        },
        "id": "0EBXwWMe4j_i",
        "outputId": "0bf55d59-a407-437a-fa7c-aa770dc904d0"
      },
      "source": [
        "df5['recency'] = df5['recency'].astype(int)"
      ],
      "execution_count": 70,
      "outputs": [
        {
          "output_type": "stream",
          "text": [
            "/usr/local/lib/python3.6/dist-packages/ipykernel_launcher.py:1: SettingWithCopyWarning: \n",
            "A value is trying to be set on a copy of a slice from a DataFrame.\n",
            "Try using .loc[row_indexer,col_indexer] = value instead\n",
            "\n",
            "See the caveats in the documentation: https://pandas.pydata.org/pandas-docs/stable/user_guide/indexing.html#returning-a-view-versus-a-copy\n",
            "  \"\"\"Entry point for launching an IPython kernel.\n"
          ],
          "name": "stderr"
        }
      ]
    },
    {
      "cell_type": "code",
      "metadata": {
        "id": "af2OVfaN7KIS"
      },
      "source": [
        "df5 = df5.sort_values('recency')"
      ],
      "execution_count": 71,
      "outputs": []
    },
    {
      "cell_type": "markdown",
      "metadata": {
        "id": "UBtrlEDoNcGP"
      },
      "source": [
        "Reindexing and other stuffs so that recency is numbered from 1\n",
        "\n",
        "To make clustering easier"
      ]
    },
    {
      "cell_type": "code",
      "metadata": {
        "id": "uHYPIf8u_gMQ"
      },
      "source": [
        "#df5 = df5.reset_index()"
      ],
      "execution_count": 39,
      "outputs": []
    },
    {
      "cell_type": "code",
      "metadata": {
        "colab": {
          "base_uri": "https://localhost:8080/",
          "height": 238
        },
        "id": "FVvpDF1B_hzS",
        "outputId": "b2a4ffce-c9f7-4b74-8c2b-890211f9f51d"
      },
      "source": [
        "df5.head()"
      ],
      "execution_count": 72,
      "outputs": [
        {
          "output_type": "execute_result",
          "data": {
            "text/html": [
              "<div>\n",
              "<style scoped>\n",
              "    .dataframe tbody tr th:only-of-type {\n",
              "        vertical-align: middle;\n",
              "    }\n",
              "\n",
              "    .dataframe tbody tr th {\n",
              "        vertical-align: top;\n",
              "    }\n",
              "\n",
              "    .dataframe thead th {\n",
              "        text-align: right;\n",
              "    }\n",
              "</style>\n",
              "<table border=\"1\" class=\"dataframe\">\n",
              "  <thead>\n",
              "    <tr style=\"text-align: right;\">\n",
              "      <th></th>\n",
              "      <th>frequency</th>\n",
              "      <th>Total</th>\n",
              "      <th>recency</th>\n",
              "    </tr>\n",
              "    <tr>\n",
              "      <th>Customer ID</th>\n",
              "      <th></th>\n",
              "      <th></th>\n",
              "      <th></th>\n",
              "    </tr>\n",
              "  </thead>\n",
              "  <tbody>\n",
              "    <tr>\n",
              "      <th>12487.0</th>\n",
              "      <td>1</td>\n",
              "      <td>259.80</td>\n",
              "      <td>912</td>\n",
              "    </tr>\n",
              "    <tr>\n",
              "      <th>12555.0</th>\n",
              "      <td>1</td>\n",
              "      <td>129.23</td>\n",
              "      <td>1001</td>\n",
              "    </tr>\n",
              "    <tr>\n",
              "      <th>12570.0</th>\n",
              "      <td>1</td>\n",
              "      <td>77.52</td>\n",
              "      <td>1001</td>\n",
              "    </tr>\n",
              "    <tr>\n",
              "      <th>12606.0</th>\n",
              "      <td>1</td>\n",
              "      <td>21.00</td>\n",
              "      <td>1001</td>\n",
              "    </tr>\n",
              "    <tr>\n",
              "      <th>12495.0</th>\n",
              "      <td>2</td>\n",
              "      <td>323.40</td>\n",
              "      <td>1003</td>\n",
              "    </tr>\n",
              "  </tbody>\n",
              "</table>\n",
              "</div>"
            ],
            "text/plain": [
              "             frequency   Total  recency\n",
              "Customer ID                            \n",
              "12487.0              1  259.80      912\n",
              "12555.0              1  129.23     1001\n",
              "12570.0              1   77.52     1001\n",
              "12606.0              1   21.00     1001\n",
              "12495.0              2  323.40     1003"
            ]
          },
          "metadata": {
            "tags": []
          },
          "execution_count": 72
        }
      ]
    },
    {
      "cell_type": "code",
      "metadata": {
        "id": "P9aDc0nl_jaD"
      },
      "source": [
        "#df6 = df5[['Customer ID','frequency','Total']]"
      ],
      "execution_count": 41,
      "outputs": []
    },
    {
      "cell_type": "code",
      "metadata": {
        "id": "JdyPNuIw_yUM"
      },
      "source": [
        "#df6['Recency'] = df6.index + 1"
      ],
      "execution_count": 42,
      "outputs": []
    },
    {
      "cell_type": "code",
      "metadata": {
        "id": "Br6nSFYy_73N"
      },
      "source": [
        "df6 = df5"
      ],
      "execution_count": 73,
      "outputs": []
    },
    {
      "cell_type": "code",
      "metadata": {
        "colab": {
          "base_uri": "https://localhost:8080/",
          "height": 238
        },
        "id": "GPMvIuIaBgIY",
        "outputId": "967d523f-2c32-4b17-9520-17ce9f65c04d"
      },
      "source": [
        "df6.head()"
      ],
      "execution_count": 75,
      "outputs": [
        {
          "output_type": "execute_result",
          "data": {
            "text/html": [
              "<div>\n",
              "<style scoped>\n",
              "    .dataframe tbody tr th:only-of-type {\n",
              "        vertical-align: middle;\n",
              "    }\n",
              "\n",
              "    .dataframe tbody tr th {\n",
              "        vertical-align: top;\n",
              "    }\n",
              "\n",
              "    .dataframe thead th {\n",
              "        text-align: right;\n",
              "    }\n",
              "</style>\n",
              "<table border=\"1\" class=\"dataframe\">\n",
              "  <thead>\n",
              "    <tr style=\"text-align: right;\">\n",
              "      <th></th>\n",
              "      <th>frequency</th>\n",
              "      <th>Total</th>\n",
              "      <th>recency</th>\n",
              "    </tr>\n",
              "    <tr>\n",
              "      <th>Customer ID</th>\n",
              "      <th></th>\n",
              "      <th></th>\n",
              "      <th></th>\n",
              "    </tr>\n",
              "  </thead>\n",
              "  <tbody>\n",
              "    <tr>\n",
              "      <th>12487.0</th>\n",
              "      <td>1</td>\n",
              "      <td>259.80</td>\n",
              "      <td>912</td>\n",
              "    </tr>\n",
              "    <tr>\n",
              "      <th>12555.0</th>\n",
              "      <td>1</td>\n",
              "      <td>129.23</td>\n",
              "      <td>1001</td>\n",
              "    </tr>\n",
              "    <tr>\n",
              "      <th>12570.0</th>\n",
              "      <td>1</td>\n",
              "      <td>77.52</td>\n",
              "      <td>1001</td>\n",
              "    </tr>\n",
              "    <tr>\n",
              "      <th>12606.0</th>\n",
              "      <td>1</td>\n",
              "      <td>21.00</td>\n",
              "      <td>1001</td>\n",
              "    </tr>\n",
              "    <tr>\n",
              "      <th>12495.0</th>\n",
              "      <td>2</td>\n",
              "      <td>323.40</td>\n",
              "      <td>1003</td>\n",
              "    </tr>\n",
              "  </tbody>\n",
              "</table>\n",
              "</div>"
            ],
            "text/plain": [
              "             frequency   Total  recency\n",
              "Customer ID                            \n",
              "12487.0              1  259.80      912\n",
              "12555.0              1  129.23     1001\n",
              "12570.0              1   77.52     1001\n",
              "12606.0              1   21.00     1001\n",
              "12495.0              2  323.40     1003"
            ]
          },
          "metadata": {
            "tags": []
          },
          "execution_count": 75
        }
      ]
    },
    {
      "cell_type": "markdown",
      "metadata": {
        "id": "Gm5AG3hON-47"
      },
      "source": [
        "From dataframe to numpy array"
      ]
    },
    {
      "cell_type": "code",
      "metadata": {
        "id": "98VRqr2n2XB9"
      },
      "source": [
        "df6_array = df6.values"
      ],
      "execution_count": 76,
      "outputs": []
    },
    {
      "cell_type": "code",
      "metadata": {
        "id": "Hy4XNBbM-okC"
      },
      "source": [
        "X = df6_array"
      ],
      "execution_count": 77,
      "outputs": []
    },
    {
      "cell_type": "markdown",
      "metadata": {
        "id": "YSYcHx3aOvcr"
      },
      "source": [
        "Elbow method to find optimum no of clusters"
      ]
    },
    {
      "cell_type": "code",
      "metadata": {
        "id": "VXbwF5mMOlwS"
      },
      "source": [
        "from sklearn.cluster import KMeans\n",
        "import matplotlib.pyplot as plt"
      ],
      "execution_count": 78,
      "outputs": []
    },
    {
      "cell_type": "code",
      "metadata": {
        "colab": {
          "base_uri": "https://localhost:8080/",
          "height": 434
        },
        "id": "s2Kj0E0-15iP",
        "outputId": "76aedf35-4a3f-438a-ef09-180df7904b2e"
      },
      "source": [
        "# Run the Kmeans algorithm and get the index of data points clusters\n",
        "sse = []\n",
        "list_k = list(range(1, 10))\n",
        "\n",
        "for k in list_k:\n",
        "    km = KMeans(n_clusters=k)\n",
        "    km.fit(X)\n",
        "    sse.append(km.inertia_)\n",
        "\n",
        "# Plot sse against k\n",
        "plt.figure(figsize=(6, 6))\n",
        "plt.plot(list_k, sse, '-o')\n",
        "plt.xlabel(r'Number of clusters *k*')\n",
        "plt.ylabel('Sum of squared distance');\n",
        "\n",
        "\n"
      ],
      "execution_count": 79,
      "outputs": [
        {
          "output_type": "display_data",
          "data": {
            "image/png": "[encoded data removed]",
            "text/plain": [
              "<Figure size 432x432 with 1 Axes>"
            ]
          },
          "metadata": {
            "tags": []
          }
        }
      ]
    },
    {
      "cell_type": "markdown",
      "metadata": {
        "id": "fBT6WQP2O4Ts"
      },
      "source": [
        " silhouette coefficient to find optimum no of clusters"
      ]
    },
    {
      "cell_type": "code",
      "metadata": {
        "id": "aHDbJJQnCNCO"
      },
      "source": [
        "from sklearn.metrics import silhouette_score"
      ],
      "execution_count": 80,
      "outputs": []
    },
    {
      "cell_type": "code",
      "metadata": {
        "id": "kLV5vOOaCNok"
      },
      "source": [
        "silhouette_coefficients = []\n",
        "# Notice you start at 2 clusters for silhouette coefficient\n",
        "for k in range(2, 11):\n",
        "  kmeans = KMeans(n_clusters=k)\n",
        "  kmeans.fit(X)\n",
        "  score = silhouette_score(X, kmeans.labels_)\n",
        "  silhouette_coefficients.append(score)"
      ],
      "execution_count": 81,
      "outputs": []
    },
    {
      "cell_type": "code",
      "metadata": {
        "colab": {
          "base_uri": "https://localhost:8080/",
          "height": 304
        },
        "id": "OH5lYritCP4r",
        "outputId": "9fb56be8-6a31-42fe-e2b3-b36ef8d5407f"
      },
      "source": [
        "plt.style.use(\"fivethirtyeight\")\n",
        "plt.plot(range(2, 11), silhouette_coefficients)\n",
        "plt.xticks(range(2, 11))\n",
        "plt.xlabel(\"Number of Clusters\")\n",
        "plt.ylabel(\"Silhouette Coefficient\")\n",
        "plt.show()\n"
      ],
      "execution_count": 82,
      "outputs": [
        {
          "output_type": "display_data",
          "data": {
            "image/png": "[encoded data removed]",
            "text/plain": [
              "<Figure size 432x288 with 1 Axes>"
            ]
          },
          "metadata": {
            "tags": []
          }
        }
      ]
    },
    {
      "cell_type": "markdown",
      "metadata": {
        "id": "HW3fXlahO9Ru"
      },
      "source": [
        "taking cluster size 3"
      ]
    },
    {
      "cell_type": "code",
      "metadata": {
        "id": "8-cdOeSjC1es"
      },
      "source": [
        "from sklearn.cluster import KMeans\n",
        "kmeans = KMeans(n_clusters=3)\n",
        "kmeans.fit(X)\n",
        "labels =kmeans.labels_;\n",
        "centroids = kmeans.cluster_centers_"
      ],
      "execution_count": 83,
      "outputs": []
    },
    {
      "cell_type": "code",
      "metadata": {
        "colab": {
          "base_uri": "https://localhost:8080/",
          "height": 631
        },
        "id": "S19gh7aqCSOz",
        "outputId": "7cd64ebc-5ffa-4537-dac7-10c76182da5f"
      },
      "source": [
        "plt.figure('Spanish Customer', figsize=(10,10))\n",
        "ax = plt.axes(projection = '3d')\n",
        "ax.scatter(X[:,0],X[:,1],X[:,2], c=labels, s=70)\n",
        "ax.scatter(centroids[0,0],centroids[0,1],centroids[0,2],c='r', s=70, marker='*', label='centroid')\n",
        "ax.scatter(centroids[1,0],centroids[1,1],centroids[1,2],c='r', s=70, marker='*',label='centroid')\n",
        "ax.scatter(centroids[2,0],centroids[2,1],centroids[2,2] ,c='r', s=70, marker='*',label='centroid')\n",
        "ax.set_xlabel('Frequency', fontsize=20)\n",
        "ax.set_ylabel('Total', fontsize=20)\n",
        "ax.set_zlabel('Recency', fontsize=20)"
      ],
      "execution_count": 102,
      "outputs": [
        {
          "output_type": "execute_result",
          "data": {
            "text/plain": [
              "Text(0.5, 0, 'Recency')"
            ]
          },
          "metadata": {
            "tags": []
          },
          "execution_count": 102
        },
        {
          "output_type": "display_data",
          "data": {
            "image/png": "[encoded data removed]",
            "text/plain": [
              "<Figure size 720x720 with 1 Axes>"
            ]
          },
          "metadata": {
            "tags": []
          }
        }
      ]
    },
    {
      "cell_type": "markdown",
      "metadata": {
        "id": "xFdy0-CrPIE5"
      },
      "source": [
        "Calculating min and max for each variable in each cluster"
      ]
    },
    {
      "cell_type": "code",
      "metadata": {
        "colab": {
          "base_uri": "https://localhost:8080/"
        },
        "id": "_QlbaRLrEvXs",
        "outputId": "3fa210a0-14d7-4dcd-e4ed-f8521be9a406"
      },
      "source": [
        "labels"
      ],
      "execution_count": 85,
      "outputs": [
        {
          "output_type": "execute_result",
          "data": {
            "text/plain": [
              "array([0, 0, 0, 0, 0, 0, 0, 0, 0, 0, 0, 0, 0, 0, 0, 0, 0, 0, 0, 0, 0, 0,\n",
              "       2, 0, 0, 0, 1, 0, 0, 0, 0, 0, 0, 0, 2, 0, 0, 0, 0, 0, 2, 2, 0, 0,\n",
              "       0, 0, 0, 0, 0, 0, 0, 0, 1, 0, 0, 2], dtype=int32)"
            ]
          },
          "metadata": {
            "tags": []
          },
          "execution_count": 85
        }
      ]
    },
    {
      "cell_type": "code",
      "metadata": {
        "colab": {
          "base_uri": "https://localhost:8080/"
        },
        "id": "fxDU2_eRETAt",
        "outputId": "d561e5dc-1bfa-4bdb-ec30-d8e57e4f6b05"
      },
      "source": [
        "X.shape"
      ],
      "execution_count": 86,
      "outputs": [
        {
          "output_type": "execute_result",
          "data": {
            "text/plain": [
              "(56, 3)"
            ]
          },
          "metadata": {
            "tags": []
          },
          "execution_count": 86
        }
      ]
    },
    {
      "cell_type": "code",
      "metadata": {
        "colab": {
          "base_uri": "https://localhost:8080/"
        },
        "id": "zTvqNWCTFTDy",
        "outputId": "7f2e27d5-b4f9-4d03-ab96-77419f62ed01"
      },
      "source": [
        "labels.shape"
      ],
      "execution_count": 87,
      "outputs": [
        {
          "output_type": "execute_result",
          "data": {
            "text/plain": [
              "(56,)"
            ]
          },
          "metadata": {
            "tags": []
          },
          "execution_count": 87
        }
      ]
    },
    {
      "cell_type": "code",
      "metadata": {
        "id": "Q53yjWSIFad7"
      },
      "source": [
        "label0=[]\n",
        "maxf = 0\n",
        "maxt = 0\n",
        "maxr = 0\n",
        "\n",
        "minf = 1000000000\n",
        "mint = 1000000000\n",
        "minr = 1000000000\n",
        "for i in range(56):\n",
        "  \n",
        "  if(labels[i]==0):\n",
        "    label0.append(X[i])\n",
        "\n",
        "    if(X[i][0]>maxf):\n",
        "      maxf=X[i][0]\n",
        "    if(X[i][1]>maxt):\n",
        "      maxt=X[i][1]\n",
        "    if(X[i][2]>maxr):\n",
        "      maxr=X[i][2]\n",
        "\n",
        "    if(X[i][0]<minf):\n",
        "      minf=X[i][0]\n",
        "    if(X[i][1]<mint):\n",
        "      mint=X[i][1]\n",
        "    if(X[i][2]<minr):\n",
        "      minr=X[i][2]\n",
        "    "
      ],
      "execution_count": 88,
      "outputs": []
    },
    {
      "cell_type": "code",
      "metadata": {
        "colab": {
          "base_uri": "https://localhost:8080/"
        },
        "id": "5OpgpAW6KVOw",
        "outputId": "523c4824-a2bf-4c6d-f541-c9ffa637ac36"
      },
      "source": [
        "print(maxf,maxt,maxr,minf,mint,minr)"
      ],
      "execution_count": 89,
      "outputs": [
        {
          "output_type": "stream",
          "text": [
            "11.0 4292.709999999999 1012.0 1.0 21.0 912.0\n"
          ],
          "name": "stdout"
        }
      ]
    },
    {
      "cell_type": "code",
      "metadata": {
        "id": "yIr27SSDPuwa"
      },
      "source": [
        "label0"
      ],
      "execution_count": null,
      "outputs": []
    },
    {
      "cell_type": "markdown",
      "metadata": {
        "id": "6ZG01zUrPRQp"
      },
      "source": [
        "***For cluster 0***\n",
        "\n",
        "min freq = 1\n",
        "\n",
        "min total = 21\n",
        "\n",
        "min recency = 912\n",
        "\n",
        "\n",
        "\n",
        "max freq = 11\n",
        "\n",
        "max total = 4292.7099\n",
        "\n",
        "max recency = 1012"
      ]
    },
    {
      "cell_type": "code",
      "metadata": {
        "id": "TkFIwh-VGdPk"
      },
      "source": [
        "label1=[]\n",
        "maxf = 0\n",
        "maxt = 0\n",
        "maxr = 0\n",
        "\n",
        "minf = 1000000000\n",
        "mint = 1000000000\n",
        "minr = 1000000000\n",
        "for i in range(56):\n",
        "  \n",
        "  if(labels[i]==1):\n",
        "    label1.append(X[i])\n",
        "\n",
        "    if(X[i][0]>maxf):\n",
        "      maxf=X[i][0]\n",
        "    if(X[i][1]>maxt):\n",
        "      maxt=X[i][1]\n",
        "    if(X[i][2]>maxr):\n",
        "      maxr=X[i][2]\n",
        "\n",
        "    if(X[i][0]<minf):\n",
        "      minf=X[i][0]\n",
        "    if(X[i][1]<mint):\n",
        "      mint=X[i][1]\n",
        "    if(X[i][2]<minr):\n",
        "      minr=X[i][2]\n",
        "    "
      ],
      "execution_count": 91,
      "outputs": []
    },
    {
      "cell_type": "code",
      "metadata": {
        "colab": {
          "base_uri": "https://localhost:8080/"
        },
        "id": "3EleQ7sTKM9n",
        "outputId": "e008c57f-c0b3-46d9-ba29-b2fc099dfc54"
      },
      "source": [
        "print(maxf,maxt,maxr,minf,mint,minr)"
      ],
      "execution_count": 92,
      "outputs": [
        {
          "output_type": "stream",
          "text": [
            "10.0 21893.529999999984 1011.0 7.0 15705.999999999998 1009.0\n"
          ],
          "name": "stdout"
        }
      ]
    },
    {
      "cell_type": "markdown",
      "metadata": {
        "id": "lW1m2tM_RC5g"
      },
      "source": [
        "***For cluster 1***\n",
        "\n",
        "min freq = 7\n",
        "\n",
        "min total = 15705.99\n",
        "\n",
        "min recency = 1009\n",
        "\n",
        "\n",
        "\n",
        "max freq = 10\n",
        "\n",
        "max total = 21893.5299\n",
        "\n",
        "max recency = 1011"
      ]
    },
    {
      "cell_type": "code",
      "metadata": {
        "id": "gmI9H9GxGhsE"
      },
      "source": [
        "label2=[]\n",
        "maxf = 0\n",
        "maxt = 0\n",
        "maxr = 0\n",
        "\n",
        "minf = 1000000000\n",
        "mint = 1000000000\n",
        "minr = 1000000000\n",
        "for i in range(56):\n",
        "  \n",
        "  if(labels[i]==2):\n",
        "    label2.append(X[i])\n",
        "\n",
        "    if(X[i][0]>maxf):\n",
        "      maxf=X[i][0]\n",
        "    if(X[i][1]>maxt):\n",
        "      maxt=X[i][1]\n",
        "    if(X[i][2]>maxr):\n",
        "      maxr=X[i][2]\n",
        "\n",
        "    if(X[i][0]<minf):\n",
        "      minf=X[i][0]\n",
        "    if(X[i][1]<mint):\n",
        "      mint=X[i][1]\n",
        "    if(X[i][2]<minr):\n",
        "      minr=X[i][2]\n",
        "    "
      ],
      "execution_count": 93,
      "outputs": []
    },
    {
      "cell_type": "code",
      "metadata": {
        "colab": {
          "base_uri": "https://localhost:8080/"
        },
        "id": "DNw44GPEJNem",
        "outputId": "f95faa4d-967b-48f0-e433-ba9ff07d6cf1"
      },
      "source": [
        "print(maxf,maxt,maxr,minf,mint,minr)"
      ],
      "execution_count": 94,
      "outputs": [
        {
          "output_type": "stream",
          "text": [
            "14.0 12079.98999999999 1012.0 1.0 5646.399999999998 1009.0\n"
          ],
          "name": "stdout"
        }
      ]
    },
    {
      "cell_type": "markdown",
      "metadata": {
        "id": "j93YRpfoRSdr"
      },
      "source": [
        "***For cluster 2***\n",
        "\n",
        "min freq = 1\n",
        "\n",
        "min total = 5646.399\n",
        "\n",
        "min recency = 1009\n",
        "\n",
        "\n",
        "\n",
        "max freq = 14\n",
        "\n",
        "max total = 12079\n",
        "\n",
        "max recency = 1012"
      ]
    }
  ]
}