{
  "nbformat": 4,
  "nbformat_minor": 0,
  "metadata": {
    "colab": {
      "name": "restaurant.ipynb",
      "provenance": [],
      "toc_visible": true
    },
    "kernelspec": {
      "name": "python3",
      "display_name": "Python 3"
    }
  },
  "cells": [
    {
      "cell_type": "code",
      "metadata": {
        "id": "duhAP5xfxMbo"
      },
      "source": [
        "import pandas as pd\n",
        "import numpy as np"
      ],
      "execution_count": 1,
      "outputs": []
    },
    {
      "cell_type": "code",
      "metadata": {
        "id": "337qviVoxYqT"
      },
      "source": [
        "df_order = pd.read_csv('/content/drive/MyDrive/Colab Notebooks/Text Mining/Restautant/order_data.csv')"
      ],
      "execution_count": 2,
      "outputs": []
    },
    {
      "cell_type": "code",
      "metadata": {
        "colab": {
          "base_uri": "https://localhost:8080/",
          "height": 537
        },
        "id": "zcQD2vJDxzFy",
        "outputId": "43ca4a0d-95dd-428d-910f-718a3739bdcd"
      },
      "source": [
        "df_order.head(10)"
      ],
      "execution_count": 3,
      "outputs": [
        {
          "output_type": "execute_result",
          "data": {
            "text/html": [
              "<div>\n",
              "<style scoped>\n",
              "    .dataframe tbody tr th:only-of-type {\n",
              "        vertical-align: middle;\n",
              "    }\n",
              "\n",
              "    .dataframe tbody tr th {\n",
              "        vertical-align: top;\n",
              "    }\n",
              "\n",
              "    .dataframe thead th {\n",
              "        text-align: right;\n",
              "    }\n",
              "</style>\n",
              "<table border=\"1\" class=\"dataframe\">\n",
              "  <thead>\n",
              "    <tr style=\"text-align: right;\">\n",
              "      <th></th>\n",
              "      <th>createdAt</th>\n",
              "      <th>status</th>\n",
              "      <th>restaurantName</th>\n",
              "      <th>pickupDeadline</th>\n",
              "      <th>driverArrivedAtRestaurantAt</th>\n",
              "      <th>pickedAt</th>\n",
              "    </tr>\n",
              "  </thead>\n",
              "  <tbody>\n",
              "    <tr>\n",
              "      <th>0</th>\n",
              "      <td>2021-01-23 02:47:48.591</td>\n",
              "      <td>complete</td>\n",
              "      <td>Red Pat - Craft Burgers &amp; Beer</td>\n",
              "      <td>2021-01-23 11:56:00.000</td>\n",
              "      <td>2021-01-23 11:27:06.642</td>\n",
              "      <td>2021-01-23 11:53:01.951</td>\n",
              "    </tr>\n",
              "    <tr>\n",
              "      <th>1</th>\n",
              "      <td>2021-01-23 10:14:44.008</td>\n",
              "      <td>complete</td>\n",
              "      <td>GoodFood Basel</td>\n",
              "      <td>2021-01-23 10:38:00.000</td>\n",
              "      <td>2021-01-23 10:45:42.651</td>\n",
              "      <td>2021-01-23 11:02:28.023</td>\n",
              "    </tr>\n",
              "    <tr>\n",
              "      <th>2</th>\n",
              "      <td>2021-01-23 10:39:55.361</td>\n",
              "      <td>complete</td>\n",
              "      <td>Pizza Princess Zürich</td>\n",
              "      <td>2021-01-23 11:21:00.000</td>\n",
              "      <td>2021-01-23 10:51:28.457</td>\n",
              "      <td>2021-01-23 10:52:12.325</td>\n",
              "    </tr>\n",
              "    <tr>\n",
              "      <th>3</th>\n",
              "      <td>2021-01-23 11:16:31.605</td>\n",
              "      <td>complete</td>\n",
              "      <td>Pizza Princess Genève</td>\n",
              "      <td>2021-01-23 11:51:00.000</td>\n",
              "      <td>2021-01-23 11:17:25.408</td>\n",
              "      <td>2021-01-23 11:28:04.077</td>\n",
              "    </tr>\n",
              "    <tr>\n",
              "      <th>4</th>\n",
              "      <td>2021-01-23 11:20:53.335</td>\n",
              "      <td>error_payment</td>\n",
              "      <td>GoodFood Basel</td>\n",
              "      <td>2021-01-23 11:40:00.000</td>\n",
              "      <td>NaN</td>\n",
              "      <td>NaN</td>\n",
              "    </tr>\n",
              "    <tr>\n",
              "      <th>5</th>\n",
              "      <td>2021-01-23 11:24:54.356</td>\n",
              "      <td>complete</td>\n",
              "      <td>GoodFood Genève</td>\n",
              "      <td>2021-01-23 11:55:00.000</td>\n",
              "      <td>2021-01-23 11:53:11.395</td>\n",
              "      <td>2021-01-23 11:56:38.594</td>\n",
              "    </tr>\n",
              "    <tr>\n",
              "      <th>6</th>\n",
              "      <td>2021-01-23 11:25:24.114</td>\n",
              "      <td>complete</td>\n",
              "      <td>GoodFood Basel</td>\n",
              "      <td>2021-01-23 11:52:00.000</td>\n",
              "      <td>2021-01-23 11:29:52.656</td>\n",
              "      <td>2021-01-23 11:44:33.600</td>\n",
              "    </tr>\n",
              "    <tr>\n",
              "      <th>7</th>\n",
              "      <td>2021-01-23 11:29:22.800</td>\n",
              "      <td>complete</td>\n",
              "      <td>GoodFood Lausanne</td>\n",
              "      <td>2021-01-23 11:55:00.000</td>\n",
              "      <td>2021-01-23 11:29:58.576</td>\n",
              "      <td>2021-01-23 11:58:42.472</td>\n",
              "    </tr>\n",
              "    <tr>\n",
              "      <th>8</th>\n",
              "      <td>2021-01-23 11:29:36.196</td>\n",
              "      <td>complete</td>\n",
              "      <td>GoodFood Genève</td>\n",
              "      <td>2021-01-23 11:58:00.000</td>\n",
              "      <td>2021-01-23 11:40:07.215</td>\n",
              "      <td>2021-01-23 11:48:09.003</td>\n",
              "    </tr>\n",
              "    <tr>\n",
              "      <th>9</th>\n",
              "      <td>2021-01-23 11:38:31.498</td>\n",
              "      <td>complete</td>\n",
              "      <td>GoodFood Lausanne</td>\n",
              "      <td>2021-01-23 12:12:00.000</td>\n",
              "      <td>2021-01-23 11:48:55.840</td>\n",
              "      <td>2021-01-23 11:54:09.159</td>\n",
              "    </tr>\n",
              "  </tbody>\n",
              "</table>\n",
              "</div>"
            ],
            "text/plain": [
              "                 createdAt  ...                 pickedAt\n",
              "0  2021-01-23 02:47:48.591  ...  2021-01-23 11:53:01.951\n",
              "1  2021-01-23 10:14:44.008  ...  2021-01-23 11:02:28.023\n",
              "2  2021-01-23 10:39:55.361  ...  2021-01-23 10:52:12.325\n",
              "3  2021-01-23 11:16:31.605  ...  2021-01-23 11:28:04.077\n",
              "4  2021-01-23 11:20:53.335  ...                      NaN\n",
              "5  2021-01-23 11:24:54.356  ...  2021-01-23 11:56:38.594\n",
              "6  2021-01-23 11:25:24.114  ...  2021-01-23 11:44:33.600\n",
              "7  2021-01-23 11:29:22.800  ...  2021-01-23 11:58:42.472\n",
              "8  2021-01-23 11:29:36.196  ...  2021-01-23 11:48:09.003\n",
              "9  2021-01-23 11:38:31.498  ...  2021-01-23 11:54:09.159\n",
              "\n",
              "[10 rows x 6 columns]"
            ]
          },
          "metadata": {
            "tags": []
          },
          "execution_count": 3
        }
      ]
    },
    {
      "cell_type": "code",
      "metadata": {
        "colab": {
          "base_uri": "https://localhost:8080/",
          "height": 1000
        },
        "id": "imfqZ_YuTZfG",
        "outputId": "72bac90f-018b-4f26-91eb-a2026aad4814"
      },
      "source": [
        "df_order.tail(20)"
      ],
      "execution_count": 4,
      "outputs": [
        {
          "output_type": "execute_result",
          "data": {
            "text/html": [
              "<div>\n",
              "<style scoped>\n",
              "    .dataframe tbody tr th:only-of-type {\n",
              "        vertical-align: middle;\n",
              "    }\n",
              "\n",
              "    .dataframe tbody tr th {\n",
              "        vertical-align: top;\n",
              "    }\n",
              "\n",
              "    .dataframe thead th {\n",
              "        text-align: right;\n",
              "    }\n",
              "</style>\n",
              "<table border=\"1\" class=\"dataframe\">\n",
              "  <thead>\n",
              "    <tr style=\"text-align: right;\">\n",
              "      <th></th>\n",
              "      <th>createdAt</th>\n",
              "      <th>status</th>\n",
              "      <th>restaurantName</th>\n",
              "      <th>pickupDeadline</th>\n",
              "      <th>driverArrivedAtRestaurantAt</th>\n",
              "      <th>pickedAt</th>\n",
              "    </tr>\n",
              "  </thead>\n",
              "  <tbody>\n",
              "    <tr>\n",
              "      <th>980</th>\n",
              "      <td>2021-02-01 19:14:17.800</td>\n",
              "      <td>complete</td>\n",
              "      <td>Red Pat - Craft Burgers &amp; Beer</td>\n",
              "      <td>2021-02-01 19:41:00.000</td>\n",
              "      <td>2021-02-01 19:23:21.069</td>\n",
              "      <td>2021-02-01 19:23:51.287</td>\n",
              "    </tr>\n",
              "    <tr>\n",
              "      <th>981</th>\n",
              "      <td>2021-02-01 19:15:14.170</td>\n",
              "      <td>complete</td>\n",
              "      <td>Pizza Princess Genève</td>\n",
              "      <td>2021-02-01 19:31:00.000</td>\n",
              "      <td>2021-02-01 19:34:46.376</td>\n",
              "      <td>2021-02-01 19:40:11.775</td>\n",
              "    </tr>\n",
              "    <tr>\n",
              "      <th>982</th>\n",
              "      <td>2021-02-01 19:18:15.247</td>\n",
              "      <td>complete</td>\n",
              "      <td>Maria</td>\n",
              "      <td>2021-02-01 19:42:00.000</td>\n",
              "      <td>2021-02-01 19:58:21.506</td>\n",
              "      <td>2021-02-01 19:58:26.069</td>\n",
              "    </tr>\n",
              "    <tr>\n",
              "      <th>983</th>\n",
              "      <td>2021-02-01 19:21:48.995</td>\n",
              "      <td>complete</td>\n",
              "      <td>GoodFood Basel 2</td>\n",
              "      <td>2021-02-01 19:55:00.000</td>\n",
              "      <td>2021-02-01 19:58:34.704</td>\n",
              "      <td>2021-02-01 20:05:53.723</td>\n",
              "    </tr>\n",
              "    <tr>\n",
              "      <th>984</th>\n",
              "      <td>2021-02-01 19:29:52.476</td>\n",
              "      <td>complete</td>\n",
              "      <td>GoodFood Basel</td>\n",
              "      <td>2021-02-01 19:52:00.000</td>\n",
              "      <td>2021-02-01 19:49:50.447</td>\n",
              "      <td>2021-02-01 19:50:29.696</td>\n",
              "    </tr>\n",
              "    <tr>\n",
              "      <th>985</th>\n",
              "      <td>2021-02-01 19:38:05.145</td>\n",
              "      <td>complete</td>\n",
              "      <td>Maria</td>\n",
              "      <td>2021-02-01 19:58:00.000</td>\n",
              "      <td>2021-02-01 19:49:11.487</td>\n",
              "      <td>2021-02-01 19:55:56.392</td>\n",
              "    </tr>\n",
              "    <tr>\n",
              "      <th>986</th>\n",
              "      <td>2021-02-01 19:42:05.218</td>\n",
              "      <td>complete</td>\n",
              "      <td>Pizza Princess Neuchâtel</td>\n",
              "      <td>2021-02-01 20:13:00.000</td>\n",
              "      <td>2021-02-01 19:58:22.558</td>\n",
              "      <td>2021-02-01 19:58:27.605</td>\n",
              "    </tr>\n",
              "    <tr>\n",
              "      <th>987</th>\n",
              "      <td>2021-02-01 19:42:56.312</td>\n",
              "      <td>complete</td>\n",
              "      <td>GoodFood Lausanne</td>\n",
              "      <td>2021-02-01 20:11:00.000</td>\n",
              "      <td>2021-02-01 20:07:25.903</td>\n",
              "      <td>2021-02-01 20:10:13.999</td>\n",
              "    </tr>\n",
              "    <tr>\n",
              "      <th>988</th>\n",
              "      <td>2021-02-01 19:49:15.923</td>\n",
              "      <td>complete</td>\n",
              "      <td>GoodFood Basel</td>\n",
              "      <td>2021-02-01 20:10:00.000</td>\n",
              "      <td>2021-02-01 19:53:47.401</td>\n",
              "      <td>2021-02-01 20:00:18.697</td>\n",
              "    </tr>\n",
              "    <tr>\n",
              "      <th>989</th>\n",
              "      <td>2021-02-01 19:55:31.120</td>\n",
              "      <td>complete</td>\n",
              "      <td>Maria - Rive Gauche</td>\n",
              "      <td>2021-02-01 20:29:00.000</td>\n",
              "      <td>2021-02-01 20:03:31.756</td>\n",
              "      <td>2021-02-01 20:07:23.598</td>\n",
              "    </tr>\n",
              "    <tr>\n",
              "      <th>990</th>\n",
              "      <td>2021-02-01 19:56:07.496</td>\n",
              "      <td>complete</td>\n",
              "      <td>GoodFood Basel</td>\n",
              "      <td>2021-02-01 20:26:00.000</td>\n",
              "      <td>2021-02-01 20:18:41.408</td>\n",
              "      <td>2021-02-01 20:19:00.838</td>\n",
              "    </tr>\n",
              "    <tr>\n",
              "      <th>991</th>\n",
              "      <td>2021-02-01 19:58:39.734</td>\n",
              "      <td>error_payment</td>\n",
              "      <td>Maria</td>\n",
              "      <td>2021-02-01 20:27:00.000</td>\n",
              "      <td>NaN</td>\n",
              "      <td>NaN</td>\n",
              "    </tr>\n",
              "    <tr>\n",
              "      <th>992</th>\n",
              "      <td>2021-02-01 20:01:51.648</td>\n",
              "      <td>complete</td>\n",
              "      <td>GoodFood Genève</td>\n",
              "      <td>2021-02-01 20:27:00.000</td>\n",
              "      <td>2021-02-01 20:15:27.307</td>\n",
              "      <td>2021-02-01 20:22:19.208</td>\n",
              "    </tr>\n",
              "    <tr>\n",
              "      <th>993</th>\n",
              "      <td>2021-02-01 20:06:58.485</td>\n",
              "      <td>complete</td>\n",
              "      <td>GoodFood Genève</td>\n",
              "      <td>2021-02-01 20:40:00.000</td>\n",
              "      <td>2021-02-01 20:26:36.164</td>\n",
              "      <td>2021-02-01 20:41:09.769</td>\n",
              "    </tr>\n",
              "    <tr>\n",
              "      <th>994</th>\n",
              "      <td>2021-02-01 20:07:17.457</td>\n",
              "      <td>complete</td>\n",
              "      <td>Pizza Princess Lausanne</td>\n",
              "      <td>2021-02-01 20:38:00.000</td>\n",
              "      <td>2021-02-01 20:16:41.613</td>\n",
              "      <td>2021-02-01 20:23:15.250</td>\n",
              "    </tr>\n",
              "    <tr>\n",
              "      <th>995</th>\n",
              "      <td>2021-02-01 20:29:04.022</td>\n",
              "      <td>complete</td>\n",
              "      <td>Maria - Rive Gauche</td>\n",
              "      <td>2021-02-01 20:44:00.000</td>\n",
              "      <td>2021-02-01 20:33:04.304</td>\n",
              "      <td>2021-02-01 20:46:30.010</td>\n",
              "    </tr>\n",
              "    <tr>\n",
              "      <th>996</th>\n",
              "      <td>2021-02-01 20:31:02.898</td>\n",
              "      <td>error_payment</td>\n",
              "      <td>Maria - Rive Gauche</td>\n",
              "      <td>2021-02-01 21:11:00.000</td>\n",
              "      <td>NaN</td>\n",
              "      <td>NaN</td>\n",
              "    </tr>\n",
              "    <tr>\n",
              "      <th>997</th>\n",
              "      <td>2021-02-01 20:36:39.308</td>\n",
              "      <td>complete</td>\n",
              "      <td>GoodFood Basel 2</td>\n",
              "      <td>2021-02-01 20:58:00.000</td>\n",
              "      <td>2021-02-01 20:57:58.060</td>\n",
              "      <td>2021-02-01 21:03:54.041</td>\n",
              "    </tr>\n",
              "    <tr>\n",
              "      <th>998</th>\n",
              "      <td>2021-02-01 21:36:09.875</td>\n",
              "      <td>complete</td>\n",
              "      <td>GoodFood Basel 2</td>\n",
              "      <td>2021-02-01 22:10:00.000</td>\n",
              "      <td>2021-02-01 21:44:05.642</td>\n",
              "      <td>2021-02-01 21:55:21.870</td>\n",
              "    </tr>\n",
              "    <tr>\n",
              "      <th>999</th>\n",
              "      <td>2021-02-01 21:52:37.882</td>\n",
              "      <td>error_payment</td>\n",
              "      <td>GoodFood Genève</td>\n",
              "      <td>2021-02-01 22:25:00.000</td>\n",
              "      <td>NaN</td>\n",
              "      <td>NaN</td>\n",
              "    </tr>\n",
              "  </tbody>\n",
              "</table>\n",
              "</div>"
            ],
            "text/plain": [
              "                   createdAt  ...                 pickedAt\n",
              "980  2021-02-01 19:14:17.800  ...  2021-02-01 19:23:51.287\n",
              "981  2021-02-01 19:15:14.170  ...  2021-02-01 19:40:11.775\n",
              "982  2021-02-01 19:18:15.247  ...  2021-02-01 19:58:26.069\n",
              "983  2021-02-01 19:21:48.995  ...  2021-02-01 20:05:53.723\n",
              "984  2021-02-01 19:29:52.476  ...  2021-02-01 19:50:29.696\n",
              "985  2021-02-01 19:38:05.145  ...  2021-02-01 19:55:56.392\n",
              "986  2021-02-01 19:42:05.218  ...  2021-02-01 19:58:27.605\n",
              "987  2021-02-01 19:42:56.312  ...  2021-02-01 20:10:13.999\n",
              "988  2021-02-01 19:49:15.923  ...  2021-02-01 20:00:18.697\n",
              "989  2021-02-01 19:55:31.120  ...  2021-02-01 20:07:23.598\n",
              "990  2021-02-01 19:56:07.496  ...  2021-02-01 20:19:00.838\n",
              "991  2021-02-01 19:58:39.734  ...                      NaN\n",
              "992  2021-02-01 20:01:51.648  ...  2021-02-01 20:22:19.208\n",
              "993  2021-02-01 20:06:58.485  ...  2021-02-01 20:41:09.769\n",
              "994  2021-02-01 20:07:17.457  ...  2021-02-01 20:23:15.250\n",
              "995  2021-02-01 20:29:04.022  ...  2021-02-01 20:46:30.010\n",
              "996  2021-02-01 20:31:02.898  ...                      NaN\n",
              "997  2021-02-01 20:36:39.308  ...  2021-02-01 21:03:54.041\n",
              "998  2021-02-01 21:36:09.875  ...  2021-02-01 21:55:21.870\n",
              "999  2021-02-01 21:52:37.882  ...                      NaN\n",
              "\n",
              "[20 rows x 6 columns]"
            ]
          },
          "metadata": {
            "tags": []
          },
          "execution_count": 4
        }
      ]
    },
    {
      "cell_type": "code",
      "metadata": {
        "colab": {
          "base_uri": "https://localhost:8080/"
        },
        "id": "SD6N_etqx1Ya",
        "outputId": "12d450c8-bc8a-44d4-e45b-f04ba98c0117"
      },
      "source": [
        "df_order.shape"
      ],
      "execution_count": 5,
      "outputs": [
        {
          "output_type": "execute_result",
          "data": {
            "text/plain": [
              "(1000, 6)"
            ]
          },
          "metadata": {
            "tags": []
          },
          "execution_count": 5
        }
      ]
    },
    {
      "cell_type": "code",
      "metadata": {
        "id": "n4f1983rx-fZ"
      },
      "source": [
        "df_restaurant = pd.read_csv('/content/drive/MyDrive/Colab Notebooks/Text Mining/Restautant/restaurantarea_data.csv')"
      ],
      "execution_count": 6,
      "outputs": []
    },
    {
      "cell_type": "code",
      "metadata": {
        "colab": {
          "base_uri": "https://localhost:8080/",
          "height": 206
        },
        "id": "X52Tvgq1yLQk",
        "outputId": "6f8b0fe9-b1d3-4d16-a8f3-09ef121717c7"
      },
      "source": [
        "df_restaurant.head()"
      ],
      "execution_count": 7,
      "outputs": [
        {
          "output_type": "execute_result",
          "data": {
            "text/html": [
              "<div>\n",
              "<style scoped>\n",
              "    .dataframe tbody tr th:only-of-type {\n",
              "        vertical-align: middle;\n",
              "    }\n",
              "\n",
              "    .dataframe tbody tr th {\n",
              "        vertical-align: top;\n",
              "    }\n",
              "\n",
              "    .dataframe thead th {\n",
              "        text-align: right;\n",
              "    }\n",
              "</style>\n",
              "<table border=\"1\" class=\"dataframe\">\n",
              "  <thead>\n",
              "    <tr style=\"text-align: right;\">\n",
              "      <th></th>\n",
              "      <th>restaurantName</th>\n",
              "      <th>area</th>\n",
              "    </tr>\n",
              "  </thead>\n",
              "  <tbody>\n",
              "    <tr>\n",
              "      <th>0</th>\n",
              "      <td>Red Pat - Craft Burgers &amp; Beer</td>\n",
              "      <td>FR</td>\n",
              "    </tr>\n",
              "    <tr>\n",
              "      <th>1</th>\n",
              "      <td>GoodFood Basel</td>\n",
              "      <td>DE</td>\n",
              "    </tr>\n",
              "    <tr>\n",
              "      <th>2</th>\n",
              "      <td>Pizza Princess Zürich</td>\n",
              "      <td>DE</td>\n",
              "    </tr>\n",
              "    <tr>\n",
              "      <th>3</th>\n",
              "      <td>Pizza Princess Genève</td>\n",
              "      <td>FR</td>\n",
              "    </tr>\n",
              "    <tr>\n",
              "      <th>4</th>\n",
              "      <td>GoodFood Genève</td>\n",
              "      <td>FR</td>\n",
              "    </tr>\n",
              "  </tbody>\n",
              "</table>\n",
              "</div>"
            ],
            "text/plain": [
              "                   restaurantName area\n",
              "0  Red Pat - Craft Burgers & Beer   FR\n",
              "1                  GoodFood Basel   DE\n",
              "2           Pizza Princess Zürich   DE\n",
              "3           Pizza Princess Genève   FR\n",
              "4                 GoodFood Genève   FR"
            ]
          },
          "metadata": {
            "tags": []
          },
          "execution_count": 7
        }
      ]
    },
    {
      "cell_type": "code",
      "metadata": {
        "colab": {
          "base_uri": "https://localhost:8080/"
        },
        "id": "xD2O3s-LyNxs",
        "outputId": "862fa970-657c-4823-8839-f357d0f5b79e"
      },
      "source": [
        "df_restaurant.shape"
      ],
      "execution_count": 8,
      "outputs": [
        {
          "output_type": "execute_result",
          "data": {
            "text/plain": [
              "(15, 2)"
            ]
          },
          "metadata": {
            "tags": []
          },
          "execution_count": 8
        }
      ]
    },
    {
      "cell_type": "markdown",
      "metadata": {
        "id": "OwnLrsvUybrK"
      },
      "source": [
        "#What are the most popular restaurants in number of orders ?"
      ]
    },
    {
      "cell_type": "code",
      "metadata": {
        "id": "PXFyHaPSybPQ"
      },
      "source": [
        "#name of restaurant\n",
        "restaurant = df_order['restaurantName'].unique()"
      ],
      "execution_count": 9,
      "outputs": []
    },
    {
      "cell_type": "code",
      "metadata": {
        "colab": {
          "base_uri": "https://localhost:8080/"
        },
        "id": "smTFGwNhSR6e",
        "outputId": "e5d9a3bd-46f6-4517-99f9-83155d8a0c32"
      },
      "source": [
        "len(restaurant)"
      ],
      "execution_count": 10,
      "outputs": [
        {
          "output_type": "execute_result",
          "data": {
            "text/plain": [
              "15"
            ]
          },
          "metadata": {
            "tags": []
          },
          "execution_count": 10
        }
      ]
    },
    {
      "cell_type": "code",
      "metadata": {
        "colab": {
          "base_uri": "https://localhost:8080/"
        },
        "id": "nLOLnqohSlyb",
        "outputId": "1ed48c0c-d9c6-4edf-f624-6b69cea735ff"
      },
      "source": [
        "df_order['restaurantName'].value_counts()"
      ],
      "execution_count": 11,
      "outputs": [
        {
          "output_type": "execute_result",
          "data": {
            "text/plain": [
              "GoodFood Basel                    139\n",
              "GoodFood Basel 2                  137\n",
              "GoodFood Genève                   124\n",
              "Maria                             122\n",
              "Red Pat - Craft Burgers & Beer    105\n",
              "GoodFood Lausanne                 102\n",
              "Maria - Rive Gauche                51\n",
              "Pizza Princess Neuchâtel           43\n",
              "Pizza Princess Basel               32\n",
              "Pizza Princess Lausanne            30\n",
              "Pizza Princess Genève              30\n",
              "Pizza Princess SG                  27\n",
              "Maria - Rive Droite                24\n",
              "Pizza Princess Zürich              24\n",
              "ByMÀ by Maria                      10\n",
              "Name: restaurantName, dtype: int64"
            ]
          },
          "metadata": {
            "tags": []
          },
          "execution_count": 11
        }
      ]
    },
    {
      "cell_type": "markdown",
      "metadata": {
        "id": "Ke3m1znlTPpH"
      },
      "source": [
        "#At which time of the day do we have a peak in average ? ex : between 11:00 and 12:00 ? between 18:00 and 19:00 ?"
      ]
    },
    {
      "cell_type": "code",
      "metadata": {
        "id": "GbubOpB0TDKc"
      },
      "source": [
        "time = df_order['createdAt']"
      ],
      "execution_count": 12,
      "outputs": []
    },
    {
      "cell_type": "code",
      "metadata": {
        "id": "-g08GZ8tTtO8"
      },
      "source": [
        "hour = []\n",
        "for times in time:\n",
        "  hour.append(times[11:13])"
      ],
      "execution_count": 13,
      "outputs": []
    },
    {
      "cell_type": "code",
      "metadata": {
        "colab": {
          "base_uri": "https://localhost:8080/"
        },
        "id": "V-8xHIPBVXcq",
        "outputId": "b9167abd-01b1-42fb-bcb4-38dc9a7c35dd"
      },
      "source": [
        "len(hour)"
      ],
      "execution_count": 14,
      "outputs": [
        {
          "output_type": "execute_result",
          "data": {
            "text/plain": [
              "1000"
            ]
          },
          "metadata": {
            "tags": []
          },
          "execution_count": 14
        }
      ]
    },
    {
      "cell_type": "code",
      "metadata": {
        "colab": {
          "base_uri": "https://localhost:8080/"
        },
        "id": "jc5yUN_8V-kF",
        "outputId": "0b7c0cc3-710b-41fc-bab4-9e9649f350c5"
      },
      "source": [
        "hour"
      ],
      "execution_count": 15,
      "outputs": [
        {
          "output_type": "execute_result",
          "data": {
            "text/plain": [
              "['02',\n",
              " '10',\n",
              " '10',\n",
              " '11',\n",
              " '11',\n",
              " '11',\n",
              " '11',\n",
              " '11',\n",
              " '11',\n",
              " '11',\n",
              " '11',\n",
              " '11',\n",
              " '12',\n",
              " '12',\n",
              " '12',\n",
              " '12',\n",
              " '12',\n",
              " '12',\n",
              " '12',\n",
              " '12',\n",
              " '12',\n",
              " '13',\n",
              " '13',\n",
              " '13',\n",
              " '13',\n",
              " '14',\n",
              " '14',\n",
              " '14',\n",
              " '14',\n",
              " '14',\n",
              " '15',\n",
              " '15',\n",
              " '15',\n",
              " '15',\n",
              " '16',\n",
              " '16',\n",
              " '16',\n",
              " '16',\n",
              " '16',\n",
              " '17',\n",
              " '17',\n",
              " '17',\n",
              " '17',\n",
              " '17',\n",
              " '17',\n",
              " '17',\n",
              " '17',\n",
              " '18',\n",
              " '18',\n",
              " '18',\n",
              " '18',\n",
              " '18',\n",
              " '18',\n",
              " '18',\n",
              " '18',\n",
              " '18',\n",
              " '18',\n",
              " '18',\n",
              " '18',\n",
              " '18',\n",
              " '18',\n",
              " '18',\n",
              " '18',\n",
              " '18',\n",
              " '18',\n",
              " '18',\n",
              " '18',\n",
              " '18',\n",
              " '18',\n",
              " '19',\n",
              " '19',\n",
              " '19',\n",
              " '19',\n",
              " '19',\n",
              " '19',\n",
              " '19',\n",
              " '19',\n",
              " '19',\n",
              " '19',\n",
              " '19',\n",
              " '19',\n",
              " '19',\n",
              " '19',\n",
              " '19',\n",
              " '19',\n",
              " '19',\n",
              " '19',\n",
              " '19',\n",
              " '19',\n",
              " '19',\n",
              " '19',\n",
              " '19',\n",
              " '20',\n",
              " '20',\n",
              " '20',\n",
              " '20',\n",
              " '20',\n",
              " '20',\n",
              " '20',\n",
              " '20',\n",
              " '20',\n",
              " '20',\n",
              " '21',\n",
              " '21',\n",
              " '23',\n",
              " '10',\n",
              " '10',\n",
              " '11',\n",
              " '11',\n",
              " '11',\n",
              " '11',\n",
              " '12',\n",
              " '12',\n",
              " '12',\n",
              " '12',\n",
              " '12',\n",
              " '12',\n",
              " '13',\n",
              " '13',\n",
              " '13',\n",
              " '13',\n",
              " '13',\n",
              " '14',\n",
              " '14',\n",
              " '14',\n",
              " '14',\n",
              " '15',\n",
              " '15',\n",
              " '15',\n",
              " '15',\n",
              " '15',\n",
              " '15',\n",
              " '15',\n",
              " '15',\n",
              " '16',\n",
              " '16',\n",
              " '16',\n",
              " '16',\n",
              " '16',\n",
              " '16',\n",
              " '16',\n",
              " '16',\n",
              " '17',\n",
              " '17',\n",
              " '17',\n",
              " '17',\n",
              " '17',\n",
              " '17',\n",
              " '17',\n",
              " '17',\n",
              " '17',\n",
              " '17',\n",
              " '17',\n",
              " '17',\n",
              " '17',\n",
              " '17',\n",
              " '17',\n",
              " '17',\n",
              " '17',\n",
              " '18',\n",
              " '18',\n",
              " '18',\n",
              " '18',\n",
              " '18',\n",
              " '18',\n",
              " '18',\n",
              " '18',\n",
              " '18',\n",
              " '18',\n",
              " '18',\n",
              " '18',\n",
              " '18',\n",
              " '18',\n",
              " '18',\n",
              " '18',\n",
              " '18',\n",
              " '18',\n",
              " '19',\n",
              " '19',\n",
              " '19',\n",
              " '19',\n",
              " '19',\n",
              " '19',\n",
              " '19',\n",
              " '19',\n",
              " '19',\n",
              " '19',\n",
              " '19',\n",
              " '19',\n",
              " '19',\n",
              " '19',\n",
              " '19',\n",
              " '19',\n",
              " '19',\n",
              " '19',\n",
              " '20',\n",
              " '20',\n",
              " '20',\n",
              " '20',\n",
              " '20',\n",
              " '20',\n",
              " '20',\n",
              " '21',\n",
              " '21',\n",
              " '21',\n",
              " '21',\n",
              " '21',\n",
              " '21',\n",
              " '21',\n",
              " '10',\n",
              " '11',\n",
              " '11',\n",
              " '11',\n",
              " '11',\n",
              " '11',\n",
              " '11',\n",
              " '11',\n",
              " '11',\n",
              " '12',\n",
              " '12',\n",
              " '12',\n",
              " '12',\n",
              " '13',\n",
              " '13',\n",
              " '13',\n",
              " '14',\n",
              " '14',\n",
              " '14',\n",
              " '14',\n",
              " '15',\n",
              " '15',\n",
              " '15',\n",
              " '16',\n",
              " '16',\n",
              " '16',\n",
              " '17',\n",
              " '17',\n",
              " '17',\n",
              " '17',\n",
              " '18',\n",
              " '18',\n",
              " '18',\n",
              " '18',\n",
              " '18',\n",
              " '18',\n",
              " '18',\n",
              " '18',\n",
              " '18',\n",
              " '18',\n",
              " '18',\n",
              " '18',\n",
              " '18',\n",
              " '18',\n",
              " '18',\n",
              " '18',\n",
              " '18',\n",
              " '18',\n",
              " '18',\n",
              " '19',\n",
              " '19',\n",
              " '19',\n",
              " '19',\n",
              " '19',\n",
              " '19',\n",
              " '19',\n",
              " '19',\n",
              " '19',\n",
              " '19',\n",
              " '19',\n",
              " '20',\n",
              " '20',\n",
              " '20',\n",
              " '20',\n",
              " '20',\n",
              " '20',\n",
              " '20',\n",
              " '20',\n",
              " '21',\n",
              " '21',\n",
              " '21',\n",
              " '22',\n",
              " '22',\n",
              " '10',\n",
              " '10',\n",
              " '10',\n",
              " '10',\n",
              " '11',\n",
              " '12',\n",
              " '12',\n",
              " '12',\n",
              " '12',\n",
              " '12',\n",
              " '12',\n",
              " '12',\n",
              " '12',\n",
              " '12',\n",
              " '13',\n",
              " '13',\n",
              " '13',\n",
              " '13',\n",
              " '13',\n",
              " '14',\n",
              " '15',\n",
              " '16',\n",
              " '17',\n",
              " '17',\n",
              " '17',\n",
              " '17',\n",
              " '18',\n",
              " '18',\n",
              " '18',\n",
              " '18',\n",
              " '18',\n",
              " '18',\n",
              " '18',\n",
              " '18',\n",
              " '18',\n",
              " '18',\n",
              " '18',\n",
              " '18',\n",
              " '18',\n",
              " '18',\n",
              " '18',\n",
              " '18',\n",
              " '18',\n",
              " '18',\n",
              " '19',\n",
              " '19',\n",
              " '19',\n",
              " '19',\n",
              " '19',\n",
              " '19',\n",
              " '19',\n",
              " '19',\n",
              " '19',\n",
              " '19',\n",
              " '19',\n",
              " '19',\n",
              " '19',\n",
              " '19',\n",
              " '19',\n",
              " '19',\n",
              " '19',\n",
              " '19',\n",
              " '19',\n",
              " '20',\n",
              " '20',\n",
              " '20',\n",
              " '20',\n",
              " '20',\n",
              " '20',\n",
              " '20',\n",
              " '20',\n",
              " '20',\n",
              " '21',\n",
              " '21',\n",
              " '21',\n",
              " '21',\n",
              " '22',\n",
              " '07',\n",
              " '10',\n",
              " '10',\n",
              " '10',\n",
              " '10',\n",
              " '11',\n",
              " '11',\n",
              " '11',\n",
              " '11',\n",
              " '11',\n",
              " '12',\n",
              " '12',\n",
              " '12',\n",
              " '12',\n",
              " '12',\n",
              " '12',\n",
              " '13',\n",
              " '13',\n",
              " '13',\n",
              " '13',\n",
              " '13',\n",
              " '13',\n",
              " '13',\n",
              " '14',\n",
              " '14',\n",
              " '14',\n",
              " '14',\n",
              " '14',\n",
              " '15',\n",
              " '16',\n",
              " '16',\n",
              " '17',\n",
              " '17',\n",
              " '17',\n",
              " '17',\n",
              " '18',\n",
              " '18',\n",
              " '18',\n",
              " '18',\n",
              " '18',\n",
              " '18',\n",
              " '18',\n",
              " '18',\n",
              " '18',\n",
              " '18',\n",
              " '18',\n",
              " '18',\n",
              " '18',\n",
              " '19',\n",
              " '19',\n",
              " '19',\n",
              " '19',\n",
              " '19',\n",
              " '19',\n",
              " '19',\n",
              " '19',\n",
              " '19',\n",
              " '19',\n",
              " '19',\n",
              " '19',\n",
              " '19',\n",
              " '19',\n",
              " '19',\n",
              " '19',\n",
              " '19',\n",
              " '20',\n",
              " '20',\n",
              " '20',\n",
              " '20',\n",
              " '20',\n",
              " '20',\n",
              " '20',\n",
              " '20',\n",
              " '20',\n",
              " '20',\n",
              " '20',\n",
              " '20',\n",
              " '20',\n",
              " '21',\n",
              " '21',\n",
              " '21',\n",
              " '21',\n",
              " '09',\n",
              " '09',\n",
              " '10',\n",
              " '11',\n",
              " '11',\n",
              " '11',\n",
              " '11',\n",
              " '11',\n",
              " '11',\n",
              " '11',\n",
              " '11',\n",
              " '11',\n",
              " '12',\n",
              " '12',\n",
              " '12',\n",
              " '12',\n",
              " '12',\n",
              " '12',\n",
              " '12',\n",
              " '12',\n",
              " '12',\n",
              " '12',\n",
              " '12',\n",
              " '12',\n",
              " '12',\n",
              " '12',\n",
              " '13',\n",
              " '13',\n",
              " '13',\n",
              " '14',\n",
              " '14',\n",
              " '15',\n",
              " '15',\n",
              " '15',\n",
              " '16',\n",
              " '16',\n",
              " '16',\n",
              " '17',\n",
              " '17',\n",
              " '17',\n",
              " '17',\n",
              " '17',\n",
              " '17',\n",
              " '17',\n",
              " '18',\n",
              " '18',\n",
              " '18',\n",
              " '18',\n",
              " '18',\n",
              " '18',\n",
              " '18',\n",
              " '18',\n",
              " '18',\n",
              " '18',\n",
              " '18',\n",
              " '18',\n",
              " '19',\n",
              " '19',\n",
              " '19',\n",
              " '19',\n",
              " '19',\n",
              " '19',\n",
              " '19',\n",
              " '19',\n",
              " '19',\n",
              " '19',\n",
              " '19',\n",
              " '19',\n",
              " '19',\n",
              " '19',\n",
              " '19',\n",
              " '19',\n",
              " '19',\n",
              " '19',\n",
              " '19',\n",
              " '19',\n",
              " '19',\n",
              " '20',\n",
              " '20',\n",
              " '20',\n",
              " '20',\n",
              " '20',\n",
              " '20',\n",
              " '20',\n",
              " '21',\n",
              " '21',\n",
              " '21',\n",
              " '21',\n",
              " '22',\n",
              " '22',\n",
              " '22',\n",
              " '22',\n",
              " '22',\n",
              " '22',\n",
              " '09',\n",
              " '10',\n",
              " '10',\n",
              " '10',\n",
              " '10',\n",
              " '10',\n",
              " '10',\n",
              " '11',\n",
              " '11',\n",
              " '11',\n",
              " '11',\n",
              " '11',\n",
              " '11',\n",
              " '11',\n",
              " '11',\n",
              " '12',\n",
              " '12',\n",
              " '12',\n",
              " '12',\n",
              " '12',\n",
              " '12',\n",
              " '12',\n",
              " '13',\n",
              " '13',\n",
              " '13',\n",
              " '13',\n",
              " '13',\n",
              " '14',\n",
              " '14',\n",
              " '14',\n",
              " '14',\n",
              " '16',\n",
              " '16',\n",
              " '16',\n",
              " '17',\n",
              " '17',\n",
              " '17',\n",
              " '17',\n",
              " '17',\n",
              " '17',\n",
              " '17',\n",
              " '17',\n",
              " '18',\n",
              " '18',\n",
              " '18',\n",
              " '18',\n",
              " '18',\n",
              " '18',\n",
              " '18',\n",
              " '18',\n",
              " '18',\n",
              " '18',\n",
              " '18',\n",
              " '18',\n",
              " '18',\n",
              " '18',\n",
              " '18',\n",
              " '18',\n",
              " '18',\n",
              " '18',\n",
              " '18',\n",
              " '18',\n",
              " '18',\n",
              " '18',\n",
              " '18',\n",
              " '18',\n",
              " '18',\n",
              " '18',\n",
              " '19',\n",
              " '19',\n",
              " '19',\n",
              " '19',\n",
              " '19',\n",
              " '19',\n",
              " '19',\n",
              " '19',\n",
              " '19',\n",
              " '19',\n",
              " '19',\n",
              " '19',\n",
              " '19',\n",
              " '19',\n",
              " '19',\n",
              " '19',\n",
              " '19',\n",
              " '19',\n",
              " '19',\n",
              " '19',\n",
              " '19',\n",
              " '19',\n",
              " '19',\n",
              " '19',\n",
              " '19',\n",
              " '19',\n",
              " '19',\n",
              " '20',\n",
              " '20',\n",
              " '20',\n",
              " '20',\n",
              " '20',\n",
              " '20',\n",
              " '20',\n",
              " '20',\n",
              " '20',\n",
              " '20',\n",
              " '20',\n",
              " '20',\n",
              " '20',\n",
              " '20',\n",
              " '20',\n",
              " '21',\n",
              " '21',\n",
              " '21',\n",
              " '21',\n",
              " '22',\n",
              " '23',\n",
              " '10',\n",
              " '10',\n",
              " '11',\n",
              " '11',\n",
              " '11',\n",
              " '11',\n",
              " '11',\n",
              " '11',\n",
              " '11',\n",
              " '12',\n",
              " '12',\n",
              " '12',\n",
              " '12',\n",
              " '12',\n",
              " '12',\n",
              " '12',\n",
              " '12',\n",
              " '12',\n",
              " '12',\n",
              " '12',\n",
              " '13',\n",
              " '13',\n",
              " '13',\n",
              " '13',\n",
              " '13',\n",
              " '13',\n",
              " '13',\n",
              " '13',\n",
              " '13',\n",
              " '13',\n",
              " '13',\n",
              " '13',\n",
              " '13',\n",
              " '13',\n",
              " '13',\n",
              " '14',\n",
              " '14',\n",
              " '14',\n",
              " '14',\n",
              " '14',\n",
              " '14',\n",
              " '14',\n",
              " '14',\n",
              " '14',\n",
              " '15',\n",
              " '15',\n",
              " '15',\n",
              " '15',\n",
              " '16',\n",
              " '16',\n",
              " '16',\n",
              " '16',\n",
              " '16',\n",
              " '16',\n",
              " '16',\n",
              " '17',\n",
              " '17',\n",
              " '17',\n",
              " '17',\n",
              " '17',\n",
              " '17',\n",
              " '17',\n",
              " '17',\n",
              " '17',\n",
              " '17',\n",
              " '17',\n",
              " '17',\n",
              " '18',\n",
              " '18',\n",
              " '18',\n",
              " '18',\n",
              " '18',\n",
              " '18',\n",
              " '18',\n",
              " '18',\n",
              " '18',\n",
              " '18',\n",
              " '18',\n",
              " '18',\n",
              " '18',\n",
              " '18',\n",
              " '18',\n",
              " '18',\n",
              " '18',\n",
              " '18',\n",
              " '18',\n",
              " '18',\n",
              " '19',\n",
              " '19',\n",
              " '19',\n",
              " '19',\n",
              " '19',\n",
              " '19',\n",
              " '19',\n",
              " '19',\n",
              " '19',\n",
              " '19',\n",
              " '19',\n",
              " '19',\n",
              " '19',\n",
              " '19',\n",
              " '19',\n",
              " '19',\n",
              " '19',\n",
              " '19',\n",
              " '19',\n",
              " '19',\n",
              " '19',\n",
              " '19',\n",
              " '20',\n",
              " '20',\n",
              " '20',\n",
              " '20',\n",
              " '20',\n",
              " '20',\n",
              " '20',\n",
              " '20',\n",
              " '20',\n",
              " '20',\n",
              " '20',\n",
              " '20',\n",
              " '20',\n",
              " '20',\n",
              " '21',\n",
              " '21',\n",
              " '21',\n",
              " '21',\n",
              " '21',\n",
              " '22',\n",
              " '22',\n",
              " '22',\n",
              " '22',\n",
              " '22',\n",
              " '23',\n",
              " '08',\n",
              " '09',\n",
              " '11',\n",
              " '11',\n",
              " '11',\n",
              " '11',\n",
              " '11',\n",
              " '12',\n",
              " '12',\n",
              " '12',\n",
              " '12',\n",
              " '12',\n",
              " '12',\n",
              " '12',\n",
              " '12',\n",
              " '12',\n",
              " '12',\n",
              " '12',\n",
              " '12',\n",
              " '12',\n",
              " '12',\n",
              " '12',\n",
              " '12',\n",
              " '13',\n",
              " '13',\n",
              " '13',\n",
              " '13',\n",
              " '13',\n",
              " '13',\n",
              " '13',\n",
              " '13',\n",
              " '13',\n",
              " '13',\n",
              " '14',\n",
              " '14',\n",
              " '14',\n",
              " '14',\n",
              " '14',\n",
              " '14',\n",
              " '14',\n",
              " '14',\n",
              " '14',\n",
              " '14',\n",
              " '14',\n",
              " '14',\n",
              " '14',\n",
              " '15',\n",
              " '15',\n",
              " '15',\n",
              " '15',\n",
              " '15',\n",
              " '15',\n",
              " '15',\n",
              " '16',\n",
              " '16',\n",
              " '16',\n",
              " '16',\n",
              " '16',\n",
              " '16',\n",
              " '16',\n",
              " '16',\n",
              " '16',\n",
              " '17',\n",
              " '17',\n",
              " '17',\n",
              " '17',\n",
              " '17',\n",
              " '17',\n",
              " '17',\n",
              " '17',\n",
              " '17',\n",
              " '17',\n",
              " '17',\n",
              " '17',\n",
              " '17',\n",
              " '17',\n",
              " '17',\n",
              " '18',\n",
              " '18',\n",
              " '18',\n",
              " '18',\n",
              " '18',\n",
              " '18',\n",
              " '18',\n",
              " '18',\n",
              " '18',\n",
              " '18',\n",
              " '18',\n",
              " '18',\n",
              " '18',\n",
              " '18',\n",
              " '18',\n",
              " '18',\n",
              " '18',\n",
              " '18',\n",
              " '18',\n",
              " '18',\n",
              " '18',\n",
              " '18',\n",
              " '18',\n",
              " '18',\n",
              " '18',\n",
              " '18',\n",
              " '18',\n",
              " '18',\n",
              " '18',\n",
              " '18',\n",
              " '18',\n",
              " '19',\n",
              " '19',\n",
              " '19',\n",
              " '19',\n",
              " '19',\n",
              " '19',\n",
              " '19',\n",
              " '19',\n",
              " '19',\n",
              " '19',\n",
              " '19',\n",
              " '19',\n",
              " '19',\n",
              " '19',\n",
              " '19',\n",
              " '19',\n",
              " '19',\n",
              " '19',\n",
              " '19',\n",
              " '20',\n",
              " '20',\n",
              " '20',\n",
              " '20',\n",
              " '20',\n",
              " '20',\n",
              " '20',\n",
              " '20',\n",
              " '20',\n",
              " '20',\n",
              " '20',\n",
              " '20',\n",
              " '20',\n",
              " '20',\n",
              " '20',\n",
              " '20',\n",
              " '20',\n",
              " '21',\n",
              " '21',\n",
              " '21',\n",
              " '21',\n",
              " '21',\n",
              " '21',\n",
              " '21',\n",
              " '22',\n",
              " '07',\n",
              " '10',\n",
              " '11',\n",
              " '11',\n",
              " '11',\n",
              " '11',\n",
              " '11',\n",
              " '11',\n",
              " '12',\n",
              " '12',\n",
              " '12',\n",
              " '12',\n",
              " '13',\n",
              " '13',\n",
              " '13',\n",
              " '14',\n",
              " '14',\n",
              " '15',\n",
              " '16',\n",
              " '16',\n",
              " '17',\n",
              " '17',\n",
              " '17',\n",
              " '17',\n",
              " '18',\n",
              " '18',\n",
              " '18',\n",
              " '18',\n",
              " '18',\n",
              " '18',\n",
              " '18',\n",
              " '18',\n",
              " '18',\n",
              " '18',\n",
              " '18',\n",
              " '18',\n",
              " '18',\n",
              " '18',\n",
              " '18',\n",
              " '18',\n",
              " '18',\n",
              " '19',\n",
              " '19',\n",
              " '19',\n",
              " '19',\n",
              " '19',\n",
              " '19',\n",
              " '19',\n",
              " '19',\n",
              " '19',\n",
              " '19',\n",
              " '19',\n",
              " '19',\n",
              " '19',\n",
              " '19',\n",
              " '20',\n",
              " '20',\n",
              " '20',\n",
              " '20',\n",
              " '20',\n",
              " '20',\n",
              " '21',\n",
              " '21']"
            ]
          },
          "metadata": {
            "tags": []
          },
          "execution_count": 15
        }
      ]
    },
    {
      "cell_type": "code",
      "metadata": {
        "colab": {
          "base_uri": "https://localhost:8080/"
        },
        "id": "bmvYPHKqVB76",
        "outputId": "91ff97f5-3bd9-4336-91f7-374a9fa7a51c"
      },
      "source": [
        "peak_hour = max(set(hour), key=hour.count)\n",
        "print('The pear hour in average is: ',peak_hour)"
      ],
      "execution_count": 16,
      "outputs": [
        {
          "output_type": "stream",
          "text": [
            "The pear hour in average is:  18\n"
          ],
          "name": "stdout"
        }
      ]
    },
    {
      "cell_type": "code",
      "metadata": {
        "colab": {
          "base_uri": "https://localhost:8080/"
        },
        "id": "7MHZW8g_WSeV",
        "outputId": "4a790823-c698-4b09-dd36-3c89e2ce748c"
      },
      "source": [
        "import collections\n",
        "counter=collections.Counter(hour)\n",
        "print(counter)\n"
      ],
      "execution_count": 17,
      "outputs": [
        {
          "output_type": "stream",
          "text": [
            "Counter({'18': 196, '19': 191, '20': 106, '12': 86, '17': 83, '11': 62, '13': 60, '14': 49, '16': 43, '21': 42, '15': 32, '10': 23, '22': 16, '09': 4, '23': 3, '07': 2, '02': 1, '08': 1})\n"
          ],
          "name": "stdout"
        }
      ]
    },
    {
      "cell_type": "markdown",
      "metadata": {
        "id": "b_nKn4l0YCoi"
      },
      "source": [
        "#For each restaurant compute the average waiting time for the driver : pickedAt - driverArrivedAtRestaurantAt"
      ]
    },
    {
      "cell_type": "code",
      "metadata": {
        "colab": {
          "base_uri": "https://localhost:8080/",
          "height": 293
        },
        "id": "YGrxzXWlYFun",
        "outputId": "df52459a-3d91-4661-b277-200803517d58"
      },
      "source": [
        "df_order.head()"
      ],
      "execution_count": 18,
      "outputs": [
        {
          "output_type": "execute_result",
          "data": {
            "text/html": [
              "<div>\n",
              "<style scoped>\n",
              "    .dataframe tbody tr th:only-of-type {\n",
              "        vertical-align: middle;\n",
              "    }\n",
              "\n",
              "    .dataframe tbody tr th {\n",
              "        vertical-align: top;\n",
              "    }\n",
              "\n",
              "    .dataframe thead th {\n",
              "        text-align: right;\n",
              "    }\n",
              "</style>\n",
              "<table border=\"1\" class=\"dataframe\">\n",
              "  <thead>\n",
              "    <tr style=\"text-align: right;\">\n",
              "      <th></th>\n",
              "      <th>createdAt</th>\n",
              "      <th>status</th>\n",
              "      <th>restaurantName</th>\n",
              "      <th>pickupDeadline</th>\n",
              "      <th>driverArrivedAtRestaurantAt</th>\n",
              "      <th>pickedAt</th>\n",
              "    </tr>\n",
              "  </thead>\n",
              "  <tbody>\n",
              "    <tr>\n",
              "      <th>0</th>\n",
              "      <td>2021-01-23 02:47:48.591</td>\n",
              "      <td>complete</td>\n",
              "      <td>Red Pat - Craft Burgers &amp; Beer</td>\n",
              "      <td>2021-01-23 11:56:00.000</td>\n",
              "      <td>2021-01-23 11:27:06.642</td>\n",
              "      <td>2021-01-23 11:53:01.951</td>\n",
              "    </tr>\n",
              "    <tr>\n",
              "      <th>1</th>\n",
              "      <td>2021-01-23 10:14:44.008</td>\n",
              "      <td>complete</td>\n",
              "      <td>GoodFood Basel</td>\n",
              "      <td>2021-01-23 10:38:00.000</td>\n",
              "      <td>2021-01-23 10:45:42.651</td>\n",
              "      <td>2021-01-23 11:02:28.023</td>\n",
              "    </tr>\n",
              "    <tr>\n",
              "      <th>2</th>\n",
              "      <td>2021-01-23 10:39:55.361</td>\n",
              "      <td>complete</td>\n",
              "      <td>Pizza Princess Zürich</td>\n",
              "      <td>2021-01-23 11:21:00.000</td>\n",
              "      <td>2021-01-23 10:51:28.457</td>\n",
              "      <td>2021-01-23 10:52:12.325</td>\n",
              "    </tr>\n",
              "    <tr>\n",
              "      <th>3</th>\n",
              "      <td>2021-01-23 11:16:31.605</td>\n",
              "      <td>complete</td>\n",
              "      <td>Pizza Princess Genève</td>\n",
              "      <td>2021-01-23 11:51:00.000</td>\n",
              "      <td>2021-01-23 11:17:25.408</td>\n",
              "      <td>2021-01-23 11:28:04.077</td>\n",
              "    </tr>\n",
              "    <tr>\n",
              "      <th>4</th>\n",
              "      <td>2021-01-23 11:20:53.335</td>\n",
              "      <td>error_payment</td>\n",
              "      <td>GoodFood Basel</td>\n",
              "      <td>2021-01-23 11:40:00.000</td>\n",
              "      <td>NaN</td>\n",
              "      <td>NaN</td>\n",
              "    </tr>\n",
              "  </tbody>\n",
              "</table>\n",
              "</div>"
            ],
            "text/plain": [
              "                 createdAt  ...                 pickedAt\n",
              "0  2021-01-23 02:47:48.591  ...  2021-01-23 11:53:01.951\n",
              "1  2021-01-23 10:14:44.008  ...  2021-01-23 11:02:28.023\n",
              "2  2021-01-23 10:39:55.361  ...  2021-01-23 10:52:12.325\n",
              "3  2021-01-23 11:16:31.605  ...  2021-01-23 11:28:04.077\n",
              "4  2021-01-23 11:20:53.335  ...                      NaN\n",
              "\n",
              "[5 rows x 6 columns]"
            ]
          },
          "metadata": {
            "tags": []
          },
          "execution_count": 18
        }
      ]
    },
    {
      "cell_type": "code",
      "metadata": {
        "id": "m6gqAOIUYuUR"
      },
      "source": [
        "df_order = df_order.dropna()"
      ],
      "execution_count": 19,
      "outputs": []
    },
    {
      "cell_type": "code",
      "metadata": {
        "colab": {
          "base_uri": "https://localhost:8080/",
          "height": 293
        },
        "id": "4OC7dFJZZWYs",
        "outputId": "5768346f-3dc5-4c0d-b4c5-ce1e4119acac"
      },
      "source": [
        "df_order.head()"
      ],
      "execution_count": 20,
      "outputs": [
        {
          "output_type": "execute_result",
          "data": {
            "text/html": [
              "<div>\n",
              "<style scoped>\n",
              "    .dataframe tbody tr th:only-of-type {\n",
              "        vertical-align: middle;\n",
              "    }\n",
              "\n",
              "    .dataframe tbody tr th {\n",
              "        vertical-align: top;\n",
              "    }\n",
              "\n",
              "    .dataframe thead th {\n",
              "        text-align: right;\n",
              "    }\n",
              "</style>\n",
              "<table border=\"1\" class=\"dataframe\">\n",
              "  <thead>\n",
              "    <tr style=\"text-align: right;\">\n",
              "      <th></th>\n",
              "      <th>createdAt</th>\n",
              "      <th>status</th>\n",
              "      <th>restaurantName</th>\n",
              "      <th>pickupDeadline</th>\n",
              "      <th>driverArrivedAtRestaurantAt</th>\n",
              "      <th>pickedAt</th>\n",
              "    </tr>\n",
              "  </thead>\n",
              "  <tbody>\n",
              "    <tr>\n",
              "      <th>0</th>\n",
              "      <td>2021-01-23 02:47:48.591</td>\n",
              "      <td>complete</td>\n",
              "      <td>Red Pat - Craft Burgers &amp; Beer</td>\n",
              "      <td>2021-01-23 11:56:00.000</td>\n",
              "      <td>2021-01-23 11:27:06.642</td>\n",
              "      <td>2021-01-23 11:53:01.951</td>\n",
              "    </tr>\n",
              "    <tr>\n",
              "      <th>1</th>\n",
              "      <td>2021-01-23 10:14:44.008</td>\n",
              "      <td>complete</td>\n",
              "      <td>GoodFood Basel</td>\n",
              "      <td>2021-01-23 10:38:00.000</td>\n",
              "      <td>2021-01-23 10:45:42.651</td>\n",
              "      <td>2021-01-23 11:02:28.023</td>\n",
              "    </tr>\n",
              "    <tr>\n",
              "      <th>2</th>\n",
              "      <td>2021-01-23 10:39:55.361</td>\n",
              "      <td>complete</td>\n",
              "      <td>Pizza Princess Zürich</td>\n",
              "      <td>2021-01-23 11:21:00.000</td>\n",
              "      <td>2021-01-23 10:51:28.457</td>\n",
              "      <td>2021-01-23 10:52:12.325</td>\n",
              "    </tr>\n",
              "    <tr>\n",
              "      <th>3</th>\n",
              "      <td>2021-01-23 11:16:31.605</td>\n",
              "      <td>complete</td>\n",
              "      <td>Pizza Princess Genève</td>\n",
              "      <td>2021-01-23 11:51:00.000</td>\n",
              "      <td>2021-01-23 11:17:25.408</td>\n",
              "      <td>2021-01-23 11:28:04.077</td>\n",
              "    </tr>\n",
              "    <tr>\n",
              "      <th>5</th>\n",
              "      <td>2021-01-23 11:24:54.356</td>\n",
              "      <td>complete</td>\n",
              "      <td>GoodFood Genève</td>\n",
              "      <td>2021-01-23 11:55:00.000</td>\n",
              "      <td>2021-01-23 11:53:11.395</td>\n",
              "      <td>2021-01-23 11:56:38.594</td>\n",
              "    </tr>\n",
              "  </tbody>\n",
              "</table>\n",
              "</div>"
            ],
            "text/plain": [
              "                 createdAt  ...                 pickedAt\n",
              "0  2021-01-23 02:47:48.591  ...  2021-01-23 11:53:01.951\n",
              "1  2021-01-23 10:14:44.008  ...  2021-01-23 11:02:28.023\n",
              "2  2021-01-23 10:39:55.361  ...  2021-01-23 10:52:12.325\n",
              "3  2021-01-23 11:16:31.605  ...  2021-01-23 11:28:04.077\n",
              "5  2021-01-23 11:24:54.356  ...  2021-01-23 11:56:38.594\n",
              "\n",
              "[5 rows x 6 columns]"
            ]
          },
          "metadata": {
            "tags": []
          },
          "execution_count": 20
        }
      ]
    },
    {
      "cell_type": "code",
      "metadata": {
        "id": "MAI--1pKZYjk"
      },
      "source": [
        "driver_hour = []\n",
        "for time in df_order['driverArrivedAtRestaurantAt']:\n",
        "  driver_hour.append(time[11:13])"
      ],
      "execution_count": 21,
      "outputs": []
    },
    {
      "cell_type": "code",
      "metadata": {
        "id": "koSjiF6RZxxJ"
      },
      "source": [
        "driver_minutes = []\n",
        "for time in df_order['driverArrivedAtRestaurantAt']:\n",
        "  driver_minutes.append(time[14:16])"
      ],
      "execution_count": 22,
      "outputs": []
    },
    {
      "cell_type": "code",
      "metadata": {
        "colab": {
          "base_uri": "https://localhost:8080/"
        },
        "id": "MnLkSRLXacXN",
        "outputId": "d9dcac1f-264c-4f39-a856-68e9285cc200"
      },
      "source": [
        "len(driver_hour)"
      ],
      "execution_count": 23,
      "outputs": [
        {
          "output_type": "execute_result",
          "data": {
            "text/plain": [
              "826"
            ]
          },
          "metadata": {
            "tags": []
          },
          "execution_count": 23
        }
      ]
    },
    {
      "cell_type": "code",
      "metadata": {
        "colab": {
          "base_uri": "https://localhost:8080/"
        },
        "id": "xDX_j3j-afEf",
        "outputId": "603c8728-590a-48dc-eb80-1c36921bd994"
      },
      "source": [
        "len(driver_minutes)"
      ],
      "execution_count": 24,
      "outputs": [
        {
          "output_type": "execute_result",
          "data": {
            "text/plain": [
              "826"
            ]
          },
          "metadata": {
            "tags": []
          },
          "execution_count": 24
        }
      ]
    },
    {
      "cell_type": "code",
      "metadata": {
        "id": "HhAIo3UTZnHF"
      },
      "source": [
        "driver_time = []\n",
        "for i in range(826):\n",
        "  time_min = int(driver_hour[i])*60 + int(driver_minutes[i])\n",
        "  driver_time.append(time_min)\n",
        "\n"
      ],
      "execution_count": 25,
      "outputs": []
    },
    {
      "cell_type": "code",
      "metadata": {
        "colab": {
          "base_uri": "https://localhost:8080/"
        },
        "id": "ZcVlVyl1cUqY",
        "outputId": "b0b0e417-d5aa-4d2e-afeb-98c060e5323a"
      },
      "source": [
        "driver_time[0]"
      ],
      "execution_count": 26,
      "outputs": [
        {
          "output_type": "execute_result",
          "data": {
            "text/plain": [
              "687"
            ]
          },
          "metadata": {
            "tags": []
          },
          "execution_count": 26
        }
      ]
    },
    {
      "cell_type": "code",
      "metadata": {
        "id": "gXWHPKChcdIw"
      },
      "source": [
        "picked_hour = []\n",
        "picked_minutes = []\n",
        "for time in df_order['pickedAt']:\n",
        "  picked_hour.append(time[11:13])\n",
        "  picked_minutes.append(time[14:16])\n"
      ],
      "execution_count": 27,
      "outputs": []
    },
    {
      "cell_type": "code",
      "metadata": {
        "colab": {
          "base_uri": "https://localhost:8080/",
          "height": 53
        },
        "id": "Ol3ZySiBc2nx",
        "outputId": "d1ae5a1d-5e45-4bee-e594-027d4039178d"
      },
      "source": [
        "print(picked_hour[0])\n",
        "picked_minutes[0]"
      ],
      "execution_count": 28,
      "outputs": [
        {
          "output_type": "stream",
          "text": [
            "11\n"
          ],
          "name": "stdout"
        },
        {
          "output_type": "execute_result",
          "data": {
            "application/vnd.google.colaboratory.intrinsic+json": {
              "type": "string"
            },
            "text/plain": [
              "'53'"
            ]
          },
          "metadata": {
            "tags": []
          },
          "execution_count": 28
        }
      ]
    },
    {
      "cell_type": "code",
      "metadata": {
        "colab": {
          "base_uri": "https://localhost:8080/"
        },
        "id": "p9MRzBJydDFw",
        "outputId": "195d7b16-0ce4-4bae-c7e4-e01d7f4257ad"
      },
      "source": [
        "print(len(picked_hour))\n",
        "print(len(picked_minutes))"
      ],
      "execution_count": 29,
      "outputs": [
        {
          "output_type": "stream",
          "text": [
            "826\n",
            "826\n"
          ],
          "name": "stdout"
        }
      ]
    },
    {
      "cell_type": "code",
      "metadata": {
        "id": "dFOwzb6Wc4nr"
      },
      "source": [
        "picked_time = []\n",
        "for i in range(826):\n",
        "  time_min = int(picked_hour[i])*60 + int(picked_minutes[i])\n",
        "  picked_time.append(time_min)\n",
        "\n"
      ],
      "execution_count": 30,
      "outputs": []
    },
    {
      "cell_type": "code",
      "metadata": {
        "colab": {
          "base_uri": "https://localhost:8080/"
        },
        "id": "iruYTBRhdSgN",
        "outputId": "45be618a-9c7a-46c2-e020-eac676761de9"
      },
      "source": [
        "picked_time[0]"
      ],
      "execution_count": 31,
      "outputs": [
        {
          "output_type": "execute_result",
          "data": {
            "text/plain": [
              "713"
            ]
          },
          "metadata": {
            "tags": []
          },
          "execution_count": 31
        }
      ]
    },
    {
      "cell_type": "code",
      "metadata": {
        "id": "S3rp9SL0dUI5"
      },
      "source": [
        "waiting_time = []\n",
        "for i in range(826):\n",
        "  waiting_time.append(picked_time[i]-driver_time[i])"
      ],
      "execution_count": 32,
      "outputs": []
    },
    {
      "cell_type": "code",
      "metadata": {
        "colab": {
          "base_uri": "https://localhost:8080/"
        },
        "id": "qvN3_bHjfAMq",
        "outputId": "981a25ea-741e-4aed-ac07-9f2358bf724f"
      },
      "source": [
        "waiting_time[0]"
      ],
      "execution_count": 33,
      "outputs": [
        {
          "output_type": "execute_result",
          "data": {
            "text/plain": [
              "26"
            ]
          },
          "metadata": {
            "tags": []
          },
          "execution_count": 33
        }
      ]
    },
    {
      "cell_type": "code",
      "metadata": {
        "id": "jHExsvCTfHu-"
      },
      "source": [
        "df_order['Waiting_time'] = waiting_time"
      ],
      "execution_count": 34,
      "outputs": []
    },
    {
      "cell_type": "code",
      "metadata": {
        "colab": {
          "base_uri": "https://localhost:8080/",
          "height": 313
        },
        "id": "wEbYr2FOfrn8",
        "outputId": "3858a3d1-6a7a-42d5-e68a-12fd5dd95c6c"
      },
      "source": [
        "df_order.head()"
      ],
      "execution_count": 35,
      "outputs": [
        {
          "output_type": "execute_result",
          "data": {
            "text/html": [
              "<div>\n",
              "<style scoped>\n",
              "    .dataframe tbody tr th:only-of-type {\n",
              "        vertical-align: middle;\n",
              "    }\n",
              "\n",
              "    .dataframe tbody tr th {\n",
              "        vertical-align: top;\n",
              "    }\n",
              "\n",
              "    .dataframe thead th {\n",
              "        text-align: right;\n",
              "    }\n",
              "</style>\n",
              "<table border=\"1\" class=\"dataframe\">\n",
              "  <thead>\n",
              "    <tr style=\"text-align: right;\">\n",
              "      <th></th>\n",
              "      <th>createdAt</th>\n",
              "      <th>status</th>\n",
              "      <th>restaurantName</th>\n",
              "      <th>pickupDeadline</th>\n",
              "      <th>driverArrivedAtRestaurantAt</th>\n",
              "      <th>pickedAt</th>\n",
              "      <th>Waiting_time</th>\n",
              "    </tr>\n",
              "  </thead>\n",
              "  <tbody>\n",
              "    <tr>\n",
              "      <th>0</th>\n",
              "      <td>2021-01-23 02:47:48.591</td>\n",
              "      <td>complete</td>\n",
              "      <td>Red Pat - Craft Burgers &amp; Beer</td>\n",
              "      <td>2021-01-23 11:56:00.000</td>\n",
              "      <td>2021-01-23 11:27:06.642</td>\n",
              "      <td>2021-01-23 11:53:01.951</td>\n",
              "      <td>26</td>\n",
              "    </tr>\n",
              "    <tr>\n",
              "      <th>1</th>\n",
              "      <td>2021-01-23 10:14:44.008</td>\n",
              "      <td>complete</td>\n",
              "      <td>GoodFood Basel</td>\n",
              "      <td>2021-01-23 10:38:00.000</td>\n",
              "      <td>2021-01-23 10:45:42.651</td>\n",
              "      <td>2021-01-23 11:02:28.023</td>\n",
              "      <td>17</td>\n",
              "    </tr>\n",
              "    <tr>\n",
              "      <th>2</th>\n",
              "      <td>2021-01-23 10:39:55.361</td>\n",
              "      <td>complete</td>\n",
              "      <td>Pizza Princess Zürich</td>\n",
              "      <td>2021-01-23 11:21:00.000</td>\n",
              "      <td>2021-01-23 10:51:28.457</td>\n",
              "      <td>2021-01-23 10:52:12.325</td>\n",
              "      <td>1</td>\n",
              "    </tr>\n",
              "    <tr>\n",
              "      <th>3</th>\n",
              "      <td>2021-01-23 11:16:31.605</td>\n",
              "      <td>complete</td>\n",
              "      <td>Pizza Princess Genève</td>\n",
              "      <td>2021-01-23 11:51:00.000</td>\n",
              "      <td>2021-01-23 11:17:25.408</td>\n",
              "      <td>2021-01-23 11:28:04.077</td>\n",
              "      <td>11</td>\n",
              "    </tr>\n",
              "    <tr>\n",
              "      <th>5</th>\n",
              "      <td>2021-01-23 11:24:54.356</td>\n",
              "      <td>complete</td>\n",
              "      <td>GoodFood Genève</td>\n",
              "      <td>2021-01-23 11:55:00.000</td>\n",
              "      <td>2021-01-23 11:53:11.395</td>\n",
              "      <td>2021-01-23 11:56:38.594</td>\n",
              "      <td>3</td>\n",
              "    </tr>\n",
              "  </tbody>\n",
              "</table>\n",
              "</div>"
            ],
            "text/plain": [
              "                 createdAt    status  ...                 pickedAt Waiting_time\n",
              "0  2021-01-23 02:47:48.591  complete  ...  2021-01-23 11:53:01.951           26\n",
              "1  2021-01-23 10:14:44.008  complete  ...  2021-01-23 11:02:28.023           17\n",
              "2  2021-01-23 10:39:55.361  complete  ...  2021-01-23 10:52:12.325            1\n",
              "3  2021-01-23 11:16:31.605  complete  ...  2021-01-23 11:28:04.077           11\n",
              "5  2021-01-23 11:24:54.356  complete  ...  2021-01-23 11:56:38.594            3\n",
              "\n",
              "[5 rows x 7 columns]"
            ]
          },
          "metadata": {
            "tags": []
          },
          "execution_count": 35
        }
      ]
    },
    {
      "cell_type": "code",
      "metadata": {
        "id": "hC0r8ystfuc0"
      },
      "source": [
        "df2 = df_order[[\"restaurantName\",\"Waiting_time\"]]"
      ],
      "execution_count": 36,
      "outputs": []
    },
    {
      "cell_type": "code",
      "metadata": {
        "colab": {
          "base_uri": "https://localhost:8080/",
          "height": 206
        },
        "id": "Sxi2bvqkgDfx",
        "outputId": "9ec9aae4-5999-41fd-d34b-b83d10832c3f"
      },
      "source": [
        "df2.head()"
      ],
      "execution_count": 37,
      "outputs": [
        {
          "output_type": "execute_result",
          "data": {
            "text/html": [
              "<div>\n",
              "<style scoped>\n",
              "    .dataframe tbody tr th:only-of-type {\n",
              "        vertical-align: middle;\n",
              "    }\n",
              "\n",
              "    .dataframe tbody tr th {\n",
              "        vertical-align: top;\n",
              "    }\n",
              "\n",
              "    .dataframe thead th {\n",
              "        text-align: right;\n",
              "    }\n",
              "</style>\n",
              "<table border=\"1\" class=\"dataframe\">\n",
              "  <thead>\n",
              "    <tr style=\"text-align: right;\">\n",
              "      <th></th>\n",
              "      <th>restaurantName</th>\n",
              "      <th>Waiting_time</th>\n",
              "    </tr>\n",
              "  </thead>\n",
              "  <tbody>\n",
              "    <tr>\n",
              "      <th>0</th>\n",
              "      <td>Red Pat - Craft Burgers &amp; Beer</td>\n",
              "      <td>26</td>\n",
              "    </tr>\n",
              "    <tr>\n",
              "      <th>1</th>\n",
              "      <td>GoodFood Basel</td>\n",
              "      <td>17</td>\n",
              "    </tr>\n",
              "    <tr>\n",
              "      <th>2</th>\n",
              "      <td>Pizza Princess Zürich</td>\n",
              "      <td>1</td>\n",
              "    </tr>\n",
              "    <tr>\n",
              "      <th>3</th>\n",
              "      <td>Pizza Princess Genève</td>\n",
              "      <td>11</td>\n",
              "    </tr>\n",
              "    <tr>\n",
              "      <th>5</th>\n",
              "      <td>GoodFood Genève</td>\n",
              "      <td>3</td>\n",
              "    </tr>\n",
              "  </tbody>\n",
              "</table>\n",
              "</div>"
            ],
            "text/plain": [
              "                   restaurantName  Waiting_time\n",
              "0  Red Pat - Craft Burgers & Beer            26\n",
              "1                  GoodFood Basel            17\n",
              "2           Pizza Princess Zürich             1\n",
              "3           Pizza Princess Genève            11\n",
              "5                 GoodFood Genève             3"
            ]
          },
          "metadata": {
            "tags": []
          },
          "execution_count": 37
        }
      ]
    },
    {
      "cell_type": "code",
      "metadata": {
        "id": "zLiQU4o7hIEf"
      },
      "source": [
        "df3 = df2.groupby('restaurantName').mean()"
      ],
      "execution_count": 38,
      "outputs": []
    },
    {
      "cell_type": "code",
      "metadata": {
        "colab": {
          "base_uri": "https://localhost:8080/"
        },
        "id": "TR2IQ2ppicBp",
        "outputId": "e67ddee2-5f4d-41ef-b6ea-36975ac0bdbb"
      },
      "source": [
        "print('Waiting time for each restaurant in minutes: \\n ',df3)"
      ],
      "execution_count": 39,
      "outputs": [
        {
          "output_type": "stream",
          "text": [
            "Waiting time for each restaurant in minutes: \n",
            "                                  Waiting_time\n",
            "restaurantName                              \n",
            "ByMÀ by Maria                       5.888889\n",
            "GoodFood Basel                      7.135135\n",
            "GoodFood Basel 2                    6.743119\n",
            "GoodFood Genève                     6.526882\n",
            "GoodFood Lausanne                   6.869048\n",
            "Maria                               5.888889\n",
            "Maria - Rive Droite                 9.650000\n",
            "Maria - Rive Gauche                13.727273\n",
            "Pizza Princess Basel                5.214286\n",
            "Pizza Princess Genève               5.923077\n",
            "Pizza Princess Lausanne             6.884615\n",
            "Pizza Princess Neuchâtel            4.722222\n",
            "Pizza Princess SG                   5.700000\n",
            "Pizza Princess Zürich               4.368421\n",
            "Red Pat - Craft Burgers & Beer      5.430108\n"
          ],
          "name": "stdout"
        }
      ]
    },
    {
      "cell_type": "markdown",
      "metadata": {
        "id": "tXvrvz3Pi8_A"
      },
      "source": [
        "#If the waiting time is to high (> 6min), add a warning flag to the restaurant\n"
      ]
    },
    {
      "cell_type": "code",
      "metadata": {
        "id": "C-HlGWdZgA_s"
      },
      "source": [
        "df3['Warning'] = np.where(df3['Waiting_time']>6, True, False)"
      ],
      "execution_count": 40,
      "outputs": []
    },
    {
      "cell_type": "code",
      "metadata": {
        "colab": {
          "base_uri": "https://localhost:8080/",
          "height": 551
        },
        "id": "3i-hyPYujuWO",
        "outputId": "cc70b643-487c-4ecb-eae4-2f21825bcc4c"
      },
      "source": [
        "df3"
      ],
      "execution_count": 41,
      "outputs": [
        {
          "output_type": "execute_result",
          "data": {
            "text/html": [
              "<div>\n",
              "<style scoped>\n",
              "    .dataframe tbody tr th:only-of-type {\n",
              "        vertical-align: middle;\n",
              "    }\n",
              "\n",
              "    .dataframe tbody tr th {\n",
              "        vertical-align: top;\n",
              "    }\n",
              "\n",
              "    .dataframe thead th {\n",
              "        text-align: right;\n",
              "    }\n",
              "</style>\n",
              "<table border=\"1\" class=\"dataframe\">\n",
              "  <thead>\n",
              "    <tr style=\"text-align: right;\">\n",
              "      <th></th>\n",
              "      <th>Waiting_time</th>\n",
              "      <th>Warning</th>\n",
              "    </tr>\n",
              "    <tr>\n",
              "      <th>restaurantName</th>\n",
              "      <th></th>\n",
              "      <th></th>\n",
              "    </tr>\n",
              "  </thead>\n",
              "  <tbody>\n",
              "    <tr>\n",
              "      <th>ByMÀ by Maria</th>\n",
              "      <td>5.888889</td>\n",
              "      <td>False</td>\n",
              "    </tr>\n",
              "    <tr>\n",
              "      <th>GoodFood Basel</th>\n",
              "      <td>7.135135</td>\n",
              "      <td>True</td>\n",
              "    </tr>\n",
              "    <tr>\n",
              "      <th>GoodFood Basel 2</th>\n",
              "      <td>6.743119</td>\n",
              "      <td>True</td>\n",
              "    </tr>\n",
              "    <tr>\n",
              "      <th>GoodFood Genève</th>\n",
              "      <td>6.526882</td>\n",
              "      <td>True</td>\n",
              "    </tr>\n",
              "    <tr>\n",
              "      <th>GoodFood Lausanne</th>\n",
              "      <td>6.869048</td>\n",
              "      <td>True</td>\n",
              "    </tr>\n",
              "    <tr>\n",
              "      <th>Maria</th>\n",
              "      <td>5.888889</td>\n",
              "      <td>False</td>\n",
              "    </tr>\n",
              "    <tr>\n",
              "      <th>Maria - Rive Droite</th>\n",
              "      <td>9.650000</td>\n",
              "      <td>True</td>\n",
              "    </tr>\n",
              "    <tr>\n",
              "      <th>Maria - Rive Gauche</th>\n",
              "      <td>13.727273</td>\n",
              "      <td>True</td>\n",
              "    </tr>\n",
              "    <tr>\n",
              "      <th>Pizza Princess Basel</th>\n",
              "      <td>5.214286</td>\n",
              "      <td>False</td>\n",
              "    </tr>\n",
              "    <tr>\n",
              "      <th>Pizza Princess Genève</th>\n",
              "      <td>5.923077</td>\n",
              "      <td>False</td>\n",
              "    </tr>\n",
              "    <tr>\n",
              "      <th>Pizza Princess Lausanne</th>\n",
              "      <td>6.884615</td>\n",
              "      <td>True</td>\n",
              "    </tr>\n",
              "    <tr>\n",
              "      <th>Pizza Princess Neuchâtel</th>\n",
              "      <td>4.722222</td>\n",
              "      <td>False</td>\n",
              "    </tr>\n",
              "    <tr>\n",
              "      <th>Pizza Princess SG</th>\n",
              "      <td>5.700000</td>\n",
              "      <td>False</td>\n",
              "    </tr>\n",
              "    <tr>\n",
              "      <th>Pizza Princess Zürich</th>\n",
              "      <td>4.368421</td>\n",
              "      <td>False</td>\n",
              "    </tr>\n",
              "    <tr>\n",
              "      <th>Red Pat - Craft Burgers &amp; Beer</th>\n",
              "      <td>5.430108</td>\n",
              "      <td>False</td>\n",
              "    </tr>\n",
              "  </tbody>\n",
              "</table>\n",
              "</div>"
            ],
            "text/plain": [
              "                                Waiting_time  Warning\n",
              "restaurantName                                       \n",
              "ByMÀ by Maria                       5.888889    False\n",
              "GoodFood Basel                      7.135135     True\n",
              "GoodFood Basel 2                    6.743119     True\n",
              "GoodFood Genève                     6.526882     True\n",
              "GoodFood Lausanne                   6.869048     True\n",
              "Maria                               5.888889    False\n",
              "Maria - Rive Droite                 9.650000     True\n",
              "Maria - Rive Gauche                13.727273     True\n",
              "Pizza Princess Basel                5.214286    False\n",
              "Pizza Princess Genève               5.923077    False\n",
              "Pizza Princess Lausanne             6.884615     True\n",
              "Pizza Princess Neuchâtel            4.722222    False\n",
              "Pizza Princess SG                   5.700000    False\n",
              "Pizza Princess Zürich               4.368421    False\n",
              "Red Pat - Craft Burgers & Beer      5.430108    False"
            ]
          },
          "metadata": {
            "tags": []
          },
          "execution_count": 41
        }
      ]
    },
    {
      "cell_type": "markdown",
      "metadata": {
        "id": "y1nrZf4WlJtf"
      },
      "source": [
        "#Make a join with the restaurant's area data and compute the waiting time per area"
      ]
    },
    {
      "cell_type": "code",
      "metadata": {
        "colab": {
          "base_uri": "https://localhost:8080/"
        },
        "id": "yAfDaazQj76Y",
        "outputId": "68f97672-1669-404f-dc4f-dfa0849bc8e1"
      },
      "source": [
        "len(df3)"
      ],
      "execution_count": 42,
      "outputs": [
        {
          "output_type": "execute_result",
          "data": {
            "text/plain": [
              "15"
            ]
          },
          "metadata": {
            "tags": []
          },
          "execution_count": 42
        }
      ]
    },
    {
      "cell_type": "code",
      "metadata": {
        "colab": {
          "base_uri": "https://localhost:8080/"
        },
        "id": "YCXmYBhelrqo",
        "outputId": "50c48110-9aa3-4f42-ea79-7f074083e76e"
      },
      "source": [
        "len(df_restaurant)"
      ],
      "execution_count": 43,
      "outputs": [
        {
          "output_type": "execute_result",
          "data": {
            "text/plain": [
              "15"
            ]
          },
          "metadata": {
            "tags": []
          },
          "execution_count": 43
        }
      ]
    },
    {
      "cell_type": "code",
      "metadata": {
        "colab": {
          "base_uri": "https://localhost:8080/",
          "height": 206
        },
        "id": "TB_IaSMJolMe",
        "outputId": "50e00ac7-31a4-450e-c40d-09dbbda2a7dc"
      },
      "source": [
        "df_restaurant.head()"
      ],
      "execution_count": 44,
      "outputs": [
        {
          "output_type": "execute_result",
          "data": {
            "text/html": [
              "<div>\n",
              "<style scoped>\n",
              "    .dataframe tbody tr th:only-of-type {\n",
              "        vertical-align: middle;\n",
              "    }\n",
              "\n",
              "    .dataframe tbody tr th {\n",
              "        vertical-align: top;\n",
              "    }\n",
              "\n",
              "    .dataframe thead th {\n",
              "        text-align: right;\n",
              "    }\n",
              "</style>\n",
              "<table border=\"1\" class=\"dataframe\">\n",
              "  <thead>\n",
              "    <tr style=\"text-align: right;\">\n",
              "      <th></th>\n",
              "      <th>restaurantName</th>\n",
              "      <th>area</th>\n",
              "    </tr>\n",
              "  </thead>\n",
              "  <tbody>\n",
              "    <tr>\n",
              "      <th>0</th>\n",
              "      <td>Red Pat - Craft Burgers &amp; Beer</td>\n",
              "      <td>FR</td>\n",
              "    </tr>\n",
              "    <tr>\n",
              "      <th>1</th>\n",
              "      <td>GoodFood Basel</td>\n",
              "      <td>DE</td>\n",
              "    </tr>\n",
              "    <tr>\n",
              "      <th>2</th>\n",
              "      <td>Pizza Princess Zürich</td>\n",
              "      <td>DE</td>\n",
              "    </tr>\n",
              "    <tr>\n",
              "      <th>3</th>\n",
              "      <td>Pizza Princess Genève</td>\n",
              "      <td>FR</td>\n",
              "    </tr>\n",
              "    <tr>\n",
              "      <th>4</th>\n",
              "      <td>GoodFood Genève</td>\n",
              "      <td>FR</td>\n",
              "    </tr>\n",
              "  </tbody>\n",
              "</table>\n",
              "</div>"
            ],
            "text/plain": [
              "                   restaurantName area\n",
              "0  Red Pat - Craft Burgers & Beer   FR\n",
              "1                  GoodFood Basel   DE\n",
              "2           Pizza Princess Zürich   DE\n",
              "3           Pizza Princess Genève   FR\n",
              "4                 GoodFood Genève   FR"
            ]
          },
          "metadata": {
            "tags": []
          },
          "execution_count": 44
        }
      ]
    },
    {
      "cell_type": "code",
      "metadata": {
        "id": "gJPB3DnLlt3e"
      },
      "source": [
        "df_restaurant = df_restaurant.sort_values('restaurantName')"
      ],
      "execution_count": 45,
      "outputs": []
    },
    {
      "cell_type": "code",
      "metadata": {
        "colab": {
          "base_uri": "https://localhost:8080/",
          "height": 206
        },
        "id": "6n4zQtHRoxAw",
        "outputId": "94266cc1-9d8b-4d06-a952-58b4a64d9708"
      },
      "source": [
        "df_restaurant.head()"
      ],
      "execution_count": 46,
      "outputs": [
        {
          "output_type": "execute_result",
          "data": {
            "text/html": [
              "<div>\n",
              "<style scoped>\n",
              "    .dataframe tbody tr th:only-of-type {\n",
              "        vertical-align: middle;\n",
              "    }\n",
              "\n",
              "    .dataframe tbody tr th {\n",
              "        vertical-align: top;\n",
              "    }\n",
              "\n",
              "    .dataframe thead th {\n",
              "        text-align: right;\n",
              "    }\n",
              "</style>\n",
              "<table border=\"1\" class=\"dataframe\">\n",
              "  <thead>\n",
              "    <tr style=\"text-align: right;\">\n",
              "      <th></th>\n",
              "      <th>restaurantName</th>\n",
              "      <th>area</th>\n",
              "    </tr>\n",
              "  </thead>\n",
              "  <tbody>\n",
              "    <tr>\n",
              "      <th>12</th>\n",
              "      <td>ByMÀ by Maria</td>\n",
              "      <td>FR</td>\n",
              "    </tr>\n",
              "    <tr>\n",
              "      <th>1</th>\n",
              "      <td>GoodFood Basel</td>\n",
              "      <td>DE</td>\n",
              "    </tr>\n",
              "    <tr>\n",
              "      <th>7</th>\n",
              "      <td>GoodFood Basel 2</td>\n",
              "      <td>DE</td>\n",
              "    </tr>\n",
              "    <tr>\n",
              "      <th>4</th>\n",
              "      <td>GoodFood Genève</td>\n",
              "      <td>FR</td>\n",
              "    </tr>\n",
              "    <tr>\n",
              "      <th>5</th>\n",
              "      <td>GoodFood Lausanne</td>\n",
              "      <td>FR</td>\n",
              "    </tr>\n",
              "  </tbody>\n",
              "</table>\n",
              "</div>"
            ],
            "text/plain": [
              "       restaurantName area\n",
              "12      ByMÀ by Maria   FR\n",
              "1      GoodFood Basel   DE\n",
              "7    GoodFood Basel 2   DE\n",
              "4     GoodFood Genève   FR\n",
              "5   GoodFood Lausanne   FR"
            ]
          },
          "metadata": {
            "tags": []
          },
          "execution_count": 46
        }
      ]
    },
    {
      "cell_type": "code",
      "metadata": {
        "id": "mp9cWPBQmQDm"
      },
      "source": [
        "df3 = df3.reset_index()"
      ],
      "execution_count": 47,
      "outputs": []
    },
    {
      "cell_type": "code",
      "metadata": {
        "colab": {
          "base_uri": "https://localhost:8080/",
          "height": 520
        },
        "id": "67cOKexqmRIv",
        "outputId": "a988afc6-27ef-4db9-ea61-6ae5016e6b2b"
      },
      "source": [
        "df3"
      ],
      "execution_count": 48,
      "outputs": [
        {
          "output_type": "execute_result",
          "data": {
            "text/html": [
              "<div>\n",
              "<style scoped>\n",
              "    .dataframe tbody tr th:only-of-type {\n",
              "        vertical-align: middle;\n",
              "    }\n",
              "\n",
              "    .dataframe tbody tr th {\n",
              "        vertical-align: top;\n",
              "    }\n",
              "\n",
              "    .dataframe thead th {\n",
              "        text-align: right;\n",
              "    }\n",
              "</style>\n",
              "<table border=\"1\" class=\"dataframe\">\n",
              "  <thead>\n",
              "    <tr style=\"text-align: right;\">\n",
              "      <th></th>\n",
              "      <th>restaurantName</th>\n",
              "      <th>Waiting_time</th>\n",
              "      <th>Warning</th>\n",
              "    </tr>\n",
              "  </thead>\n",
              "  <tbody>\n",
              "    <tr>\n",
              "      <th>0</th>\n",
              "      <td>ByMÀ by Maria</td>\n",
              "      <td>5.888889</td>\n",
              "      <td>False</td>\n",
              "    </tr>\n",
              "    <tr>\n",
              "      <th>1</th>\n",
              "      <td>GoodFood Basel</td>\n",
              "      <td>7.135135</td>\n",
              "      <td>True</td>\n",
              "    </tr>\n",
              "    <tr>\n",
              "      <th>2</th>\n",
              "      <td>GoodFood Basel 2</td>\n",
              "      <td>6.743119</td>\n",
              "      <td>True</td>\n",
              "    </tr>\n",
              "    <tr>\n",
              "      <th>3</th>\n",
              "      <td>GoodFood Genève</td>\n",
              "      <td>6.526882</td>\n",
              "      <td>True</td>\n",
              "    </tr>\n",
              "    <tr>\n",
              "      <th>4</th>\n",
              "      <td>GoodFood Lausanne</td>\n",
              "      <td>6.869048</td>\n",
              "      <td>True</td>\n",
              "    </tr>\n",
              "    <tr>\n",
              "      <th>5</th>\n",
              "      <td>Maria</td>\n",
              "      <td>5.888889</td>\n",
              "      <td>False</td>\n",
              "    </tr>\n",
              "    <tr>\n",
              "      <th>6</th>\n",
              "      <td>Maria - Rive Droite</td>\n",
              "      <td>9.650000</td>\n",
              "      <td>True</td>\n",
              "    </tr>\n",
              "    <tr>\n",
              "      <th>7</th>\n",
              "      <td>Maria - Rive Gauche</td>\n",
              "      <td>13.727273</td>\n",
              "      <td>True</td>\n",
              "    </tr>\n",
              "    <tr>\n",
              "      <th>8</th>\n",
              "      <td>Pizza Princess Basel</td>\n",
              "      <td>5.214286</td>\n",
              "      <td>False</td>\n",
              "    </tr>\n",
              "    <tr>\n",
              "      <th>9</th>\n",
              "      <td>Pizza Princess Genève</td>\n",
              "      <td>5.923077</td>\n",
              "      <td>False</td>\n",
              "    </tr>\n",
              "    <tr>\n",
              "      <th>10</th>\n",
              "      <td>Pizza Princess Lausanne</td>\n",
              "      <td>6.884615</td>\n",
              "      <td>True</td>\n",
              "    </tr>\n",
              "    <tr>\n",
              "      <th>11</th>\n",
              "      <td>Pizza Princess Neuchâtel</td>\n",
              "      <td>4.722222</td>\n",
              "      <td>False</td>\n",
              "    </tr>\n",
              "    <tr>\n",
              "      <th>12</th>\n",
              "      <td>Pizza Princess SG</td>\n",
              "      <td>5.700000</td>\n",
              "      <td>False</td>\n",
              "    </tr>\n",
              "    <tr>\n",
              "      <th>13</th>\n",
              "      <td>Pizza Princess Zürich</td>\n",
              "      <td>4.368421</td>\n",
              "      <td>False</td>\n",
              "    </tr>\n",
              "    <tr>\n",
              "      <th>14</th>\n",
              "      <td>Red Pat - Craft Burgers &amp; Beer</td>\n",
              "      <td>5.430108</td>\n",
              "      <td>False</td>\n",
              "    </tr>\n",
              "  </tbody>\n",
              "</table>\n",
              "</div>"
            ],
            "text/plain": [
              "                    restaurantName  Waiting_time  Warning\n",
              "0                    ByMÀ by Maria      5.888889    False\n",
              "1                   GoodFood Basel      7.135135     True\n",
              "2                 GoodFood Basel 2      6.743119     True\n",
              "3                  GoodFood Genève      6.526882     True\n",
              "4                GoodFood Lausanne      6.869048     True\n",
              "5                            Maria      5.888889    False\n",
              "6              Maria - Rive Droite      9.650000     True\n",
              "7              Maria - Rive Gauche     13.727273     True\n",
              "8             Pizza Princess Basel      5.214286    False\n",
              "9            Pizza Princess Genève      5.923077    False\n",
              "10         Pizza Princess Lausanne      6.884615     True\n",
              "11        Pizza Princess Neuchâtel      4.722222    False\n",
              "12               Pizza Princess SG      5.700000    False\n",
              "13           Pizza Princess Zürich      4.368421    False\n",
              "14  Red Pat - Craft Burgers & Beer      5.430108    False"
            ]
          },
          "metadata": {
            "tags": []
          },
          "execution_count": 48
        }
      ]
    },
    {
      "cell_type": "code",
      "metadata": {
        "id": "hqmO8QVfpo9P"
      },
      "source": [
        "result = pd.merge(df3, df_restaurant, on=\"restaurantName\")"
      ],
      "execution_count": 49,
      "outputs": []
    },
    {
      "cell_type": "code",
      "metadata": {
        "colab": {
          "base_uri": "https://localhost:8080/",
          "height": 520
        },
        "id": "6XFoI9_yn_Dv",
        "outputId": "a5d972d5-0f6d-4e6c-cbe7-975da37ba84c"
      },
      "source": [
        "result"
      ],
      "execution_count": 50,
      "outputs": [
        {
          "output_type": "execute_result",
          "data": {
            "text/html": [
              "<div>\n",
              "<style scoped>\n",
              "    .dataframe tbody tr th:only-of-type {\n",
              "        vertical-align: middle;\n",
              "    }\n",
              "\n",
              "    .dataframe tbody tr th {\n",
              "        vertical-align: top;\n",
              "    }\n",
              "\n",
              "    .dataframe thead th {\n",
              "        text-align: right;\n",
              "    }\n",
              "</style>\n",
              "<table border=\"1\" class=\"dataframe\">\n",
              "  <thead>\n",
              "    <tr style=\"text-align: right;\">\n",
              "      <th></th>\n",
              "      <th>restaurantName</th>\n",
              "      <th>Waiting_time</th>\n",
              "      <th>Warning</th>\n",
              "      <th>area</th>\n",
              "    </tr>\n",
              "  </thead>\n",
              "  <tbody>\n",
              "    <tr>\n",
              "      <th>0</th>\n",
              "      <td>ByMÀ by Maria</td>\n",
              "      <td>5.888889</td>\n",
              "      <td>False</td>\n",
              "      <td>FR</td>\n",
              "    </tr>\n",
              "    <tr>\n",
              "      <th>1</th>\n",
              "      <td>GoodFood Basel</td>\n",
              "      <td>7.135135</td>\n",
              "      <td>True</td>\n",
              "      <td>DE</td>\n",
              "    </tr>\n",
              "    <tr>\n",
              "      <th>2</th>\n",
              "      <td>GoodFood Basel 2</td>\n",
              "      <td>6.743119</td>\n",
              "      <td>True</td>\n",
              "      <td>DE</td>\n",
              "    </tr>\n",
              "    <tr>\n",
              "      <th>3</th>\n",
              "      <td>GoodFood Genève</td>\n",
              "      <td>6.526882</td>\n",
              "      <td>True</td>\n",
              "      <td>FR</td>\n",
              "    </tr>\n",
              "    <tr>\n",
              "      <th>4</th>\n",
              "      <td>GoodFood Lausanne</td>\n",
              "      <td>6.869048</td>\n",
              "      <td>True</td>\n",
              "      <td>FR</td>\n",
              "    </tr>\n",
              "    <tr>\n",
              "      <th>5</th>\n",
              "      <td>Maria</td>\n",
              "      <td>5.888889</td>\n",
              "      <td>False</td>\n",
              "      <td>FR</td>\n",
              "    </tr>\n",
              "    <tr>\n",
              "      <th>6</th>\n",
              "      <td>Maria - Rive Droite</td>\n",
              "      <td>9.650000</td>\n",
              "      <td>True</td>\n",
              "      <td>FR</td>\n",
              "    </tr>\n",
              "    <tr>\n",
              "      <th>7</th>\n",
              "      <td>Maria - Rive Gauche</td>\n",
              "      <td>13.727273</td>\n",
              "      <td>True</td>\n",
              "      <td>FR</td>\n",
              "    </tr>\n",
              "    <tr>\n",
              "      <th>8</th>\n",
              "      <td>Pizza Princess Basel</td>\n",
              "      <td>5.214286</td>\n",
              "      <td>False</td>\n",
              "      <td>DE</td>\n",
              "    </tr>\n",
              "    <tr>\n",
              "      <th>9</th>\n",
              "      <td>Pizza Princess Genève</td>\n",
              "      <td>5.923077</td>\n",
              "      <td>False</td>\n",
              "      <td>FR</td>\n",
              "    </tr>\n",
              "    <tr>\n",
              "      <th>10</th>\n",
              "      <td>Pizza Princess Lausanne</td>\n",
              "      <td>6.884615</td>\n",
              "      <td>True</td>\n",
              "      <td>FR</td>\n",
              "    </tr>\n",
              "    <tr>\n",
              "      <th>11</th>\n",
              "      <td>Pizza Princess Neuchâtel</td>\n",
              "      <td>4.722222</td>\n",
              "      <td>False</td>\n",
              "      <td>FR</td>\n",
              "    </tr>\n",
              "    <tr>\n",
              "      <th>12</th>\n",
              "      <td>Pizza Princess SG</td>\n",
              "      <td>5.700000</td>\n",
              "      <td>False</td>\n",
              "      <td>DE</td>\n",
              "    </tr>\n",
              "    <tr>\n",
              "      <th>13</th>\n",
              "      <td>Pizza Princess Zürich</td>\n",
              "      <td>4.368421</td>\n",
              "      <td>False</td>\n",
              "      <td>DE</td>\n",
              "    </tr>\n",
              "    <tr>\n",
              "      <th>14</th>\n",
              "      <td>Red Pat - Craft Burgers &amp; Beer</td>\n",
              "      <td>5.430108</td>\n",
              "      <td>False</td>\n",
              "      <td>FR</td>\n",
              "    </tr>\n",
              "  </tbody>\n",
              "</table>\n",
              "</div>"
            ],
            "text/plain": [
              "                    restaurantName  Waiting_time  Warning area\n",
              "0                    ByMÀ by Maria      5.888889    False   FR\n",
              "1                   GoodFood Basel      7.135135     True   DE\n",
              "2                 GoodFood Basel 2      6.743119     True   DE\n",
              "3                  GoodFood Genève      6.526882     True   FR\n",
              "4                GoodFood Lausanne      6.869048     True   FR\n",
              "5                            Maria      5.888889    False   FR\n",
              "6              Maria - Rive Droite      9.650000     True   FR\n",
              "7              Maria - Rive Gauche     13.727273     True   FR\n",
              "8             Pizza Princess Basel      5.214286    False   DE\n",
              "9            Pizza Princess Genève      5.923077    False   FR\n",
              "10         Pizza Princess Lausanne      6.884615     True   FR\n",
              "11        Pizza Princess Neuchâtel      4.722222    False   FR\n",
              "12               Pizza Princess SG      5.700000    False   DE\n",
              "13           Pizza Princess Zürich      4.368421    False   DE\n",
              "14  Red Pat - Craft Burgers & Beer      5.430108    False   FR"
            ]
          },
          "metadata": {
            "tags": []
          },
          "execution_count": 50
        }
      ]
    },
    {
      "cell_type": "code",
      "metadata": {
        "id": "j-SB8c7xqS9s"
      },
      "source": [
        "final_db = result[[\"area\",\"Waiting_time\"]]"
      ],
      "execution_count": 51,
      "outputs": []
    },
    {
      "cell_type": "code",
      "metadata": {
        "id": "lDI48bZ6oAYN"
      },
      "source": [
        "df5 = result.groupby('area').mean()"
      ],
      "execution_count": 52,
      "outputs": []
    },
    {
      "cell_type": "code",
      "metadata": {
        "colab": {
          "base_uri": "https://localhost:8080/",
          "height": 143
        },
        "id": "jlktd5x1f27P",
        "outputId": "eb23114e-258e-4074-f672-0bf3bab187a3"
      },
      "source": [
        "df5"
      ],
      "execution_count": 53,
      "outputs": [
        {
          "output_type": "execute_result",
          "data": {
            "text/html": [
              "<div>\n",
              "<style scoped>\n",
              "    .dataframe tbody tr th:only-of-type {\n",
              "        vertical-align: middle;\n",
              "    }\n",
              "\n",
              "    .dataframe tbody tr th {\n",
              "        vertical-align: top;\n",
              "    }\n",
              "\n",
              "    .dataframe thead th {\n",
              "        text-align: right;\n",
              "    }\n",
              "</style>\n",
              "<table border=\"1\" class=\"dataframe\">\n",
              "  <thead>\n",
              "    <tr style=\"text-align: right;\">\n",
              "      <th></th>\n",
              "      <th>Waiting_time</th>\n",
              "      <th>Warning</th>\n",
              "    </tr>\n",
              "    <tr>\n",
              "      <th>area</th>\n",
              "      <th></th>\n",
              "      <th></th>\n",
              "    </tr>\n",
              "  </thead>\n",
              "  <tbody>\n",
              "    <tr>\n",
              "      <th>DE</th>\n",
              "      <td>5.832192</td>\n",
              "      <td>0.4</td>\n",
              "    </tr>\n",
              "    <tr>\n",
              "      <th>FR</th>\n",
              "      <td>7.151100</td>\n",
              "      <td>0.5</td>\n",
              "    </tr>\n",
              "  </tbody>\n",
              "</table>\n",
              "</div>"
            ],
            "text/plain": [
              "      Waiting_time  Warning\n",
              "area                       \n",
              "DE        5.832192      0.4\n",
              "FR        7.151100      0.5"
            ]
          },
          "metadata": {
            "tags": []
          },
          "execution_count": 53
        }
      ]
    },
    {
      "cell_type": "code",
      "metadata": {
        "id": "aFbUg_MkqzOr"
      },
      "source": [
        "final_db = df5[[\"Waiting_time\"]]"
      ],
      "execution_count": 54,
      "outputs": []
    },
    {
      "cell_type": "code",
      "metadata": {
        "colab": {
          "base_uri": "https://localhost:8080/"
        },
        "id": "js1uc2aLq5RV",
        "outputId": "69ea1f3e-b23d-4f10-a6a9-dd65ca8930b7"
      },
      "source": [
        "print(\"Average waiting time by area: \",final_db)"
      ],
      "execution_count": 55,
      "outputs": [
        {
          "output_type": "stream",
          "text": [
            "Average waiting time by area:        Waiting_time\n",
            "area              \n",
            "DE        5.832192\n",
            "FR        7.151100\n"
          ],
          "name": "stdout"
        }
      ]
    }
  ]
}